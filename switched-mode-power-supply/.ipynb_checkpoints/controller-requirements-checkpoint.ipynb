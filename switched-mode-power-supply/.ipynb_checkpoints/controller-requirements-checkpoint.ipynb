{
 "cells": [
  {
   "cell_type": "markdown",
   "id": "4f4009d2",
   "metadata": {},
   "source": [
    "# Controller Requirements"
   ]
  },
  {
   "cell_type": "markdown",
   "id": "88696a12",
   "metadata": {},
   "source": [
    "## Plant Approximation"
   ]
  },
  {
   "cell_type": "markdown",
   "id": "1d0a1742",
   "metadata": {},
   "source": [
    "**Second Order System**\n",
    "\n",
    "\\begin{align*}\n",
    "P(s) = K\\dfrac{\\omega_0^2}{s^2 + 2\\zeta \\omega_0 s + \\omega_0^2}\n",
    "\\end{align*}"
   ]
  },
  {
   "cell_type": "markdown",
   "id": "70b8be21",
   "metadata": {},
   "source": [
    "## Convert Time Requirements\n",
    "\n",
    "Given\n",
    "- $t_r$ rise time  \n",
    "- $t_p$ peak time  \n",
    "- $t_s$ settling time  "
   ]
  },
  {
   "cell_type": "markdown",
   "id": "e11d8e22",
   "metadata": {},
   "source": [
    "**Use given phase margin (or calculate) to solve for $\\zeta$.**  \n",
    "\n",
    "\\begin{align*}\n",
    " M_p &= \\dfrac{\\text{overshoot}}{V_{ref}} \\dfrac{[V]}{[V]}\\ \\text{ [unitless]} \\\\[1em]\n",
    " M_p &= e^{-\\bigg(\\dfrac{\\pi \\zeta}{\\sqrt{1-\\zeta^2}}\\bigg)}\n",
    "\\end{align*}"
   ]
  },
  {
   "cell_type": "markdown",
   "id": "b4106945",
   "metadata": {},
   "source": [
    "**Use $\\zeta$ to solve for $\\omega_0$.**\n",
    "\n",
    "\\begin{align*}\n",
    " t_r &= \\dfrac{\\pi - \\tan^{-1}\\bigg(\\sqrt{\\frac{1-\\zeta^2}{\\zeta}}\\bigg)}{\\omega_0 \\sqrt{1-\\zeta^2}} \n",
    " \\approx \\dfrac{5}{3 \\omega_0 \\sqrt{1-\\zeta^2}} \\\\[1em]\n",
    " t_p &= \\dfrac{\\pi}{\\omega_0 \\sqrt{1-\\zeta^2}}\n",
    "\\end{align*}"
   ]
  },
  {
   "cell_type": "markdown",
   "id": "db7117f2",
   "metadata": {},
   "source": [
    "**Solve for $\\omega_n$ based on settling requirements**\n",
    "\n",
    "\\begin{align*}\n",
    " \\text{[2% of $V_{ref}$] }\\ \\ t_s &= \\dfrac{4}{\\zeta \\omega_n}  \\\\[1em]\n",
    " \\text{[5% of $V_{ref}$] }\\ \\ t_s &= \\dfrac{3}{\\zeta \\omega_n}\n",
    "\\end{align*}"
   ]
  },
  {
   "cell_type": "markdown",
   "id": "13c573f2",
   "metadata": {},
   "source": [
    "## Controller Properties"
   ]
  },
  {
   "cell_type": "markdown",
   "id": "4ab5e2a6",
   "metadata": {},
   "source": [
    "Open Loop general design:\n",
    "- $ |C(s) \\cdot P(s) | $ has high gain at frequencies where disturbance is present\n",
    "- $|C(s) \\cdot P(s) |$ has low gain at frequencies where noise is present\n",
    "\n",
    "Step 1. Integral Controller \n",
    "\\begin{align*}\n",
    "C(s) = \\dfrac{K_1}{s}\n",
    "\\end{align*}\n",
    "\n",
    "Step 2. Proportional Integral (PI) Controller\n",
    "- Add zero immediately after gain cross frequency $\\omega_c$\n",
    "\n",
    "\\begin{align*}\n",
    "C(s) &= K_p + \\dfrac{K_i}{s} \\\\[1em]\n",
    " &= \\dfrac{sK_p+K_i}{s} \\\\[1em]\n",
    " &= K_1\\dfrac{s/\\alpha+1}{s}\n",
    "\\end{align*}"
   ]
  },
  {
   "cell_type": "markdown",
   "id": "d4c5e684",
   "metadata": {},
   "source": [
    "## Check Design"
   ]
  },
  {
   "cell_type": "markdown",
   "id": "af1e69e7",
   "metadata": {},
   "source": [
    "Bode response should have the following properties\n",
    "\n",
    "\\begin{align*}\n",
    "\\text{PM (deg)} &= \\bigg[\\tan^{-1}\\bigg(\\frac{2\\zeta}{\\sqrt{1-2\\zeta^2}}\\bigg) \\bigg] \\cdot \\dfrac{180}{\\pi} \\\\[1em]\n",
    "\\omega_c \\text{ (rad)} &= \\omega_0 \\sqrt{1-2\\zeta^2}\n",
    "\\end{align*}"
   ]
  },
  {
   "cell_type": "markdown",
   "id": "32158c41",
   "metadata": {},
   "source": [
    "```{figure} controller-requirements/matlab-margin.png\n",
    "```\n",
    "\n",
    "[MATLAB Bode Response](https://www.mathworks.com/help/control/ref/dynamicsystem.margin.html):\n",
    "MATLAB defines multiple cross over frequencies. The gain crossover frequency we're interested in is Wcp."
   ]
  },
  {
   "cell_type": "code",
   "execution_count": null,
   "id": "5b1dd40b",
   "metadata": {},
   "outputs": [],
   "source": []
  }
 ],
 "metadata": {
  "interpreter": {
   "hash": "31f2aee4e71d21fbe5cf8b01ff0e069b9275f58929596ceb00d14d90e3e16cd6"
  },
  "kernelspec": {
   "display_name": "Python 3 (ipykernel)",
   "language": "python",
   "name": "python3"
  },
  "language_info": {
   "codemirror_mode": {
    "name": "ipython",
    "version": 3
   },
   "file_extension": ".py",
   "mimetype": "text/x-python",
   "name": "python",
   "nbconvert_exporter": "python",
   "pygments_lexer": "ipython3",
   "version": "3.7.9"
  },
  "varInspector": {
   "cols": {
    "lenName": 16,
    "lenType": 16,
    "lenVar": 40
   },
   "kernels_config": {
    "python": {
     "delete_cmd_postfix": "",
     "delete_cmd_prefix": "del ",
     "library": "var_list.py",
     "varRefreshCmd": "print(var_dic_list())"
    },
    "r": {
     "delete_cmd_postfix": ") ",
     "delete_cmd_prefix": "rm(",
     "library": "var_list.r",
     "varRefreshCmd": "cat(var_dic_list()) "
    }
   },
   "types_to_exclude": [
    "module",
    "function",
    "builtin_function_or_method",
    "instance",
    "_Feature"
   ],
   "window_display": false
  }
 },
 "nbformat": 4,
 "nbformat_minor": 5
}
