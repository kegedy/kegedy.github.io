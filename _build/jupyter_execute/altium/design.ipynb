{
 "cells": [
  {
   "cell_type": "markdown",
   "id": "1cf50183",
   "metadata": {},
   "source": [
    "# Design Settings"
   ]
  },
  {
   "cell_type": "markdown",
   "id": "8aee03f4",
   "metadata": {},
   "source": [
    "## Update PCB Document"
   ]
  },
  {
   "cell_type": "markdown",
   "id": "6051dc75",
   "metadata": {},
   "source": [
    "**Create shortcut** Reposition Selected Components\n",
    "\n",
    "![](img/RepositionSelectedComponents.png)"
   ]
  },
  {
   "cell_type": "markdown",
   "id": "7a175feb",
   "metadata": {},
   "source": [
    "## Design Rules"
   ]
  },
  {
   "cell_type": "markdown",
   "id": "c2c34d30",
   "metadata": {},
   "source": [
    "**Select from dropdown** Direct Connect [default is relief connect]\n",
    "\n",
    "![](img/PolygonDirectConnect.png)"
   ]
  },
  {
   "cell_type": "markdown",
   "id": "44aef062",
   "metadata": {},
   "source": [
    "## Design Rule Checker"
   ]
  },
  {
   "cell_type": "markdown",
   "id": "98f6c30f",
   "metadata": {},
   "source": [
    "**Select** 'All' and **Unselect** 'Signal Integrity and Testpoint'"
   ]
  },
  {
   "cell_type": "code",
   "execution_count": null,
   "id": "8ab1fdc6",
   "metadata": {},
   "outputs": [],
   "source": []
  }
 ],
 "metadata": {
  "kernelspec": {
   "display_name": "Python 3 (ipykernel)",
   "language": "python",
   "name": "python3"
  },
  "language_info": {
   "codemirror_mode": {
    "name": "ipython",
    "version": 3
   },
   "file_extension": ".py",
   "mimetype": "text/x-python",
   "name": "python",
   "nbconvert_exporter": "python",
   "pygments_lexer": "ipython3",
   "version": "3.7.9"
  },
  "varInspector": {
   "cols": {
    "lenName": 16,
    "lenType": 16,
    "lenVar": 40
   },
   "kernels_config": {
    "python": {
     "delete_cmd_postfix": "",
     "delete_cmd_prefix": "del ",
     "library": "var_list.py",
     "varRefreshCmd": "print(var_dic_list())"
    },
    "r": {
     "delete_cmd_postfix": ") ",
     "delete_cmd_prefix": "rm(",
     "library": "var_list.r",
     "varRefreshCmd": "cat(var_dic_list()) "
    }
   },
   "types_to_exclude": [
    "module",
    "function",
    "builtin_function_or_method",
    "instance",
    "_Feature"
   ],
   "window_display": false
  }
 },
 "nbformat": 4,
 "nbformat_minor": 5
}