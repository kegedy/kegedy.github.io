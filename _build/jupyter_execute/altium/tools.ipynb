{
 "cells": [
  {
   "cell_type": "markdown",
   "id": "eb282cc7",
   "metadata": {},
   "source": [
    "# Tools Preferences"
   ]
  },
  {
   "cell_type": "markdown",
   "id": "955b5153",
   "metadata": {},
   "source": [
    "## Mouse Wheel  Config"
   ]
  },
  {
   "cell_type": "markdown",
   "id": "6f7eb5a0",
   "metadata": {},
   "source": [
    "**Uncheck** System >> Mouse Wheel Configuration >> Zoom Main Window >> Ctrl\n",
    "\n",
    "![](img/MouseWheelConfig.png)"
   ]
  },
  {
   "cell_type": "markdown",
   "id": "c2831af7",
   "metadata": {},
   "source": [
    "## PCB Editor General"
   ]
  },
  {
   "cell_type": "markdown",
   "id": "623ce5cb",
   "metadata": {},
   "source": [
    "**Uncheck** Enable Auto Pan\n",
    "\n",
    "![](img/EnableAutoPan.png)"
   ]
  },
  {
   "cell_type": "markdown",
   "id": "c8f3142c",
   "metadata": {},
   "source": [
    "**Check** Repour Polygons After Modification\n",
    "\n",
    "**Check** Repour all dependent polygons after editing\n",
    "\n",
    "![](img/PolygonRebuild.png)"
   ]
  },
  {
   "cell_type": "markdown",
   "id": "f4db9d5f",
   "metadata": {},
   "source": [
    "## Board Insight Display"
   ]
  },
  {
   "cell_type": "markdown",
   "id": "e716fa8f",
   "metadata": {},
   "source": [
    "**Uncheck** ‘Live highlighting only when shift key down’\n",
    "\n",
    "![](img/LiveHighlighting.png)"
   ]
  },
  {
   "cell_type": "markdown",
   "id": "3103929c",
   "metadata": {},
   "source": [
    "**Uncheck** 'Hide Other Layers' and 'Monochrome Other Layers'. \n",
    "\n",
    "**Check** 'Gray Scale Other Layers'\n",
    "\n",
    "**Shortcut: Shift + s** to make background layers grayscale  \n",
    "\n",
    "![](img/GrayscaleLayers.png)"
   ]
  },
  {
   "cell_type": "markdown",
   "id": "39cb6a01",
   "metadata": {},
   "source": [
    "## DRC Violations Display"
   ]
  },
  {
   "cell_type": "markdown",
   "id": "902b97d2",
   "metadata": {},
   "source": [
    "**Select** 'Silk To Silk Clearance' for Violation Overlay \n",
    "\n",
    "**Shortcut: Ctrl + \\[** to control brightness intensity\n",
    "\n",
    "![](img/SilkToSilkClearance.png)"
   ]
  },
  {
   "cell_type": "markdown",
   "id": "deba3e12",
   "metadata": {},
   "source": [
    "## Interactive Routing"
   ]
  },
  {
   "cell_type": "markdown",
   "id": "27aaa5dc",
   "metadata": {},
   "source": [
    "**Uncheck** Allow Via Pushing [my preference since it leads to errors]\n",
    "\n",
    "**Shortcut: Shift + r** to change interactive routing mode\n",
    "\n",
    "![](img/InteractiveRoutingOptions.png)"
   ]
  }
 ],
 "metadata": {
  "kernelspec": {
   "display_name": "Python 3 (ipykernel)",
   "language": "python",
   "name": "python3"
  },
  "language_info": {
   "codemirror_mode": {
    "name": "ipython",
    "version": 3
   },
   "file_extension": ".py",
   "mimetype": "text/x-python",
   "name": "python",
   "nbconvert_exporter": "python",
   "pygments_lexer": "ipython3",
   "version": "3.7.9"
  },
  "varInspector": {
   "cols": {
    "lenName": 16,
    "lenType": 16,
    "lenVar": 40
   },
   "kernels_config": {
    "python": {
     "delete_cmd_postfix": "",
     "delete_cmd_prefix": "del ",
     "library": "var_list.py",
     "varRefreshCmd": "print(var_dic_list())"
    },
    "r": {
     "delete_cmd_postfix": ") ",
     "delete_cmd_prefix": "rm(",
     "library": "var_list.r",
     "varRefreshCmd": "cat(var_dic_list()) "
    }
   },
   "types_to_exclude": [
    "module",
    "function",
    "builtin_function_or_method",
    "instance",
    "_Feature"
   ],
   "window_display": false
  }
 },
 "nbformat": 4,
 "nbformat_minor": 5
}