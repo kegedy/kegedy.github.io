{
 "cells": [
  {
   "cell_type": "markdown",
   "id": "c2ff20f5",
   "metadata": {},
   "source": [
    "# Strain-Gage: Signal Conditioning"
   ]
  },
  {
   "cell_type": "markdown",
   "id": "d90b4c51",
   "metadata": {},
   "source": [
    "Project: [Strain-Gage Low Noise Signal Conditioning](https://kegedy.github.io/strain-gauge.pdf)  \n",
    "\n",
    "Date: July 7, 2020"
   ]
  },
  {
   "cell_type": "markdown",
   "id": "3ee23ac9",
   "metadata": {},
   "source": [
    "```{figure} img/architecture.png\n",
    "System Architecture\n",
    "```"
   ]
  },
  {
   "cell_type": "markdown",
   "id": "9b9d4918",
   "metadata": {},
   "source": [
    "```{figure} img/TopView1.png\n",
    "Instrumentation Amplifier\n",
    "```"
   ]
  },
  {
   "cell_type": "markdown",
   "id": "0f8fb566",
   "metadata": {},
   "source": [
    "```{figure} img/TopView2.png\n",
    "Bandpass Filter\n",
    "```"
   ]
  },
  {
   "cell_type": "markdown",
   "id": "f83e8eff",
   "metadata": {},
   "source": [
    "```{figure} img/TopView3.png\n",
    "ADC Driver\n",
    "```"
   ]
  },
  {
   "cell_type": "markdown",
   "id": "c52fc09d",
   "metadata": {},
   "source": [
    "```{figure} img/FrequencyResponse.png\n",
    "Frequency Response\n",
    "```"
   ]
  },
  {
   "cell_type": "code",
   "execution_count": null,
   "id": "0d15057f",
   "metadata": {},
   "outputs": [],
   "source": []
  }
 ],
 "metadata": {
  "interpreter": {
   "hash": "31f2aee4e71d21fbe5cf8b01ff0e069b9275f58929596ceb00d14d90e3e16cd6"
  },
  "kernelspec": {
   "display_name": "Python 3.10.6 64-bit",
   "name": "python3"
  },
  "language_info": {
   "codemirror_mode": {
    "name": "ipython",
    "version": 3
   },
   "file_extension": ".py",
   "mimetype": "text/x-python",
   "name": "python",
   "nbconvert_exporter": "python",
   "pygments_lexer": "ipython3",
   "version": "3.7.9"
  },
  "varInspector": {
   "cols": {
    "lenName": 16,
    "lenType": 16,
    "lenVar": 40
   },
   "kernels_config": {
    "python": {
     "delete_cmd_postfix": "",
     "delete_cmd_prefix": "del ",
     "library": "var_list.py",
     "varRefreshCmd": "print(var_dic_list())"
    },
    "r": {
     "delete_cmd_postfix": ") ",
     "delete_cmd_prefix": "rm(",
     "library": "var_list.r",
     "varRefreshCmd": "cat(var_dic_list()) "
    }
   },
   "types_to_exclude": [
    "module",
    "function",
    "builtin_function_or_method",
    "instance",
    "_Feature"
   ],
   "window_display": false
  }
 },
 "nbformat": 4,
 "nbformat_minor": 5
}