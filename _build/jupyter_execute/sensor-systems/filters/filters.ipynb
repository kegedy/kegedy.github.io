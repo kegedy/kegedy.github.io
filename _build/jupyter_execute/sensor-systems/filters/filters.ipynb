{
 "cells": [
  {
   "cell_type": "markdown",
   "metadata": {},
   "source": [
    "# Filter Design"
   ]
  },
  {
   "cell_type": "markdown",
   "metadata": {},
   "source": [
    "Reference: [Active Low-Pass Filter Design](https://www.ti.com/lit/an/sloa049d/sloa049d.pdf?ts=1681979767604)"
   ]
  },
  {
   "cell_type": "markdown",
   "metadata": {},
   "source": [
    "**Second Order Filter**\n",
    "\n",
    "\\begin{align*}\n",
    "H(s) &= \\dfrac{\\omega_0^2}{s^2 + 2\\zeta \\omega_0 s + \\omega_0^2} \\\\[1em]\n",
    "\\end{align*}\n",
    "\n",
    "**Quality Factor**\n",
    "\n",
    "\\begin{align*}\n",
    "Q &= \\dfrac{\\omega_0}{2\\zeta \\omega_0}\n",
    "\\end{align*}\n",
    "\n",
    "- A higher value of Q results in more peaking in the frequency response and more ringing in the step response"
   ]
  },
  {
   "cell_type": "markdown",
   "metadata": {},
   "source": [
    "## Equivalent Noise Bandwidth"
   ]
  },
  {
   "cell_type": "markdown",
   "metadata": {},
   "source": [
    "\\begin{align*}\n",
    "\\omega_{enbw} &= \\int_0^{\\infty} \\bigg| \\dfrac{H(jw)}{H_{max}} \\bigg|^2 d\\omega \\\\[1em]\n",
    "\\end{align*}"
   ]
  },
  {
   "cell_type": "markdown",
   "metadata": {},
   "source": [
    "**Example: RC Filter**\n",
    "\n",
    "Transfer function of lowpass filter:\n",
    "\\begin{align*}\n",
    "H(jw) &= \\dfrac{H_{max}}{1+j\\frac{\\omega}{\\omega_c}}\n",
    "\\end{align*}\n",
    "\n",
    "Equivalent noise bandwidth\n",
    "\\begin{align*}\n",
    "\\omega_{enbw} &= \\int_0^{\\infty} \\bigg| \\dfrac{H(jw)}{H_{max}} \\bigg|^2 d\\omega \\\\[1em]\n",
    " &= \\int_0^{\\infty} \\dfrac{1}{1+(\\frac{\\omega}{\\omega_c})^2} d\\omega \\\\[1em]\n",
    " &= \\omega_c \\tan^{-1}\\dfrac{\\omega}{\\omega_c}\\bigg|_{\\ 0}^{\\ \\infty} \\\\[1em]\n",
    " &= \\dfrac{\\pi}{2} \\omega_c \\\\[1em]\n",
    "\\end{align*}\n",
    "\n",
    "**Thus**\n",
    "\\begin{align*}\n",
    "\\omega_{enbw} &= \\dfrac{\\pi}{2} \\omega_{c} \\\\[1em]\n",
    " &= \\dfrac{\\pi}{2} \\omega_{3dB} \\\\[1em]\n",
    " &= 1.57 \\omega_{3dB}\n",
    " \\end{align*}"
   ]
  },
  {
   "cell_type": "markdown",
   "metadata": {},
   "source": [
    "## Motivation"
   ]
  },
  {
   "cell_type": "markdown",
   "metadata": {},
   "source": [
    "Bandwidth of the signal is fixed by the application and sets the minimum circuit bandwidth. So how do we improve?\n",
    "\n",
    "- Goal in designing filters is to maximize SNR and minimize the noise bandwith \n",
    "- Active filters improve SNR performance over passive filters by minimizing attenuation in the pass band and providing steeper roll-off  "
   ]
  },
  {
   "cell_type": "markdown",
   "metadata": {},
   "source": [
    "## Butterworth vs Bessel vs Chebyshev"
   ]
  },
  {
   "cell_type": "markdown",
   "metadata": {},
   "source": [
    "```{figure} filter-comparison.png\n",
    "Filter Performance\n",
    "```"
   ]
  },
  {
   "cell_type": "code",
   "execution_count": 1,
   "metadata": {},
   "outputs": [],
   "source": [
    "# Imports\n",
    "import numpy as np\n",
    "import pandas as pd\n",
    "import sympy as sp\n",
    "from sympy.utilities.lambdify import lambdify\n",
    "import matplotlib.pyplot as plt\n",
    "%matplotlib inline\n",
    "from IPython.core.interactiveshell import InteractiveShell\n",
    "InteractiveShell.ast_node_interactivity = \"all\"\n",
    "from matplotlib.ticker import LogLocator"
   ]
  },
  {
   "cell_type": "markdown",
   "metadata": {},
   "source": [
    "## High Pass"
   ]
  },
  {
   "cell_type": "markdown",
   "metadata": {},
   "source": [
    "```{figure} SallenKeyHP.png\n",
    "Sallen Key Filter: High Pass\n",
    "```"
   ]
  },
  {
   "cell_type": "markdown",
   "metadata": {},
   "source": [
    "\\begin{align*}\n",
    "W_0 &= \\frac{1}{\\tau \\sqrt{mn}} \\\\[1em]\n",
    "W_c &= \\frac{W_0}{C_n}  \\\\[1em]\n",
    "Q  &= \\frac{\\sqrt{mn}}{1+n} \\\\[1em]\n",
    "m  &= \\frac{R_1}{R_2}  \\\\[1em]\n",
    "n  &= \\frac{C_1}{C_2}  \\\\[1em]\n",
    "\\tau &= R_2 C_2\n",
    "\\end{align*}"
   ]
  },
  {
   "cell_type": "code",
   "execution_count": 2,
   "metadata": {},
   "outputs": [],
   "source": [
    "fname = 'bessel'\n",
    "fc1 = 1"
   ]
  },
  {
   "cell_type": "code",
   "execution_count": 3,
   "metadata": {},
   "outputs": [],
   "source": [
    "# Future work: \n",
    "    # provide flexibility to pass m or n values\n",
    "    # provide flexibility to pass capacitor or resistor values\n",
    "    \n",
    "def HPfilter(fname='butterworth',fc=1,nVar=2,C2Var=1e-6):\n",
    "    # Determines high pass filter component values\n",
    "    # Parameters: \n",
    "        # filter name, \n",
    "        # n: ratio of capacitor values (C1/C2)\n",
    "        # C2: component value of C2\n",
    "        \n",
    "    s,m,n,C1,C2,R1,R2,Q,tau,W0 = sp.symbols('s,m,n,C1,C2,R1,R2,Q,tau,omega0')\n",
    "    systemHP = sp.Matrix([\n",
    "        [W0 - 1/(tau*sp.sqrt(m*n))],\n",
    "        [Q - sp.sqrt(m*n)/(1+m)],\n",
    "        [m - R1/R2],\n",
    "        [n - C1/C2],\n",
    "        [tau - R2*C2]\n",
    "    ])\n",
    "\n",
    "    Cn = 1                     # Table (Butterworth / Bessel / Chebyshev)\n",
    "    Qvar = 1                   # Table (Butterworth / Bessel / Chebyshev)\n",
    "    if fname == 'butterworth': \n",
    "        Cn = 1\n",
    "        Qvar = 0.7071\n",
    "    if fname == 'bessel': \n",
    "        Cn = 1.2736\n",
    "        Qvar = 0.5773\n",
    "    if fname == 'chebyshev3db':\n",
    "        Cn = 0.8414\n",
    "        Qvar =  1.3049   \n",
    "    myVals = {\n",
    "        W0:2*sp.pi*fc*Cn,\n",
    "        Q:Qvar,                \n",
    "        n:nVar,                # Chosen Ratio \n",
    "        C2:C2Var               # Chosen Value \n",
    "    }\n",
    "\n",
    "    systemHP = systemHP.subs(myVals)\n",
    "    eq = sp.solve(systemHP)\n",
    "    return eq"
   ]
  },
  {
   "cell_type": "code",
   "execution_count": 4,
   "metadata": {},
   "outputs": [
    {
     "data": {
      "text/plain": [
       "[{R1: 45733.3292215825,\n",
       "  R2: 170730.593180212,\n",
       "  m: 0.267868390601263,\n",
       "  tau: 0.170730593180212,\n",
       "  C1: 2.00000000000000e-6},\n",
       " {R1: 170730.593180212,\n",
       "  R2: 45733.3292215825,\n",
       "  m: 3.73317657135796,\n",
       "  tau: 0.0457333292215825,\n",
       "  C1: 2.00000000000000e-6}]"
      ]
     },
     "execution_count": 4,
     "metadata": {},
     "output_type": "execute_result"
    }
   ],
   "source": [
    "C2Var=1e-6\n",
    "eq = HPfilter(fname=fname,fc=fc1,nVar=2,C2Var=C2Var)\n",
    "tau = sp.symbols('tau')\n",
    "taus = []\n",
    "sol = {}\n",
    "if eq:\n",
    "    sol = eq[0]\n",
    "    if len(eq)>1:\n",
    "        taus = [dct[tau] for dct in eq]\n",
    "        sol = eq[taus.index(min(taus))]\n",
    "eq"
   ]
  },
  {
   "cell_type": "code",
   "execution_count": 5,
   "metadata": {},
   "outputs": [
    {
     "data": {
      "text/plain": [
       "{C1: 2.00000000000000e-6,\n",
       " C2: 1e-06,\n",
       " R1: 170730.593180212,\n",
       " R2: 45733.3292215825}"
      ]
     },
     "execution_count": 5,
     "metadata": {},
     "output_type": "execute_result"
    }
   ],
   "source": [
    "s,C1,C2,R1,R2 = sp.symbols('s,C1,C2,R1,R2')\n",
    "f = np.logspace(-2, 4, 10000)\n",
    "w = 2*np.pi*f\n",
    "\n",
    "num = 1*s**2\n",
    "a = 1\n",
    "b = (1/R1)*(C1+C2)/(C1*C2)\n",
    "c = 1/(R1*R2*C1*C2)\n",
    "den = a*s**2 + b*s + c\n",
    "\n",
    "components = {\n",
    "    C1:sol[C1],   # Fill in from calc.\n",
    "    C2:C2Var,     # Fill in from calc.\n",
    "    R1:sol[R1],   # Fill in from calc.\n",
    "    R2:sol[R2]    # Fill in from calc.\n",
    "}\n",
    "H = sp.Matrix([num/den])\n",
    "H1 = H = H.subs(components)\n",
    "H = lambdify(s,H,modules='numpy')\n",
    "H = H(1j*w)\n",
    "H = H[0][0]\n",
    "components"
   ]
  },
  {
   "cell_type": "code",
   "execution_count": 6,
   "metadata": {},
   "outputs": [
    {
     "data": {
      "image/png": "[encoded data removed]",
      "text/plain": [
       "<Figure size 800x400 with 1 Axes>"
      ]
     },
     "metadata": {
      "filenames": {
       "image/png": "/home/kegedy/Documents/kegedy.github.io/_build/jupyter_execute/sensor-systems/filters/filters_18_0.png"
      }
     },
     "output_type": "display_data"
    }
   ],
   "source": [
    "fig, ax = plt.subplots(figsize=(8,4))\n",
    "\n",
    "x1 = np.where(20*np.log10(abs(H))<=-3)[0][-1]\n",
    "label1 = \"fc: {:.2f}Hz\".format(f[x1])\n",
    "\n",
    "ax.set_title(f'{fname.title()}: High Pass Filter')\n",
    "ax.semilogx(f, 20*np.log10(abs(H)),label=r'2nd Order HP')\n",
    "ax.scatter(f[x1],20*np.log10(abs(H[x1])),label=label1,color='tab:blue')\n",
    "ax.set_ylabel('Magnitude [dB]')\n",
    "ax.grid(which='both', axis='both')\n",
    "ax.legend()\n",
    "plt.show();"
   ]
  },
  {
   "cell_type": "markdown",
   "metadata": {},
   "source": [
    "```{figure} SallenKeyLP.png\n",
    "Sallen Key Filter : Low Pass\n",
    "```"
   ]
  },
  {
   "cell_type": "markdown",
   "metadata": {},
   "source": [
    "\\begin{align*}\n",
    "W_0 &= \\frac{1}{\\tau \\sqrt{mn}} \\\\[1em]\n",
    "W_c &= \\frac{W_0}{C_n}  \\\\[1em]\n",
    "Q  &= \\frac{\\sqrt{mn}}{1+n} \\\\[1em]\n",
    "m  &= \\frac{R_1}{R_2}  \\\\[1em]\n",
    "n  &= \\frac{C_2}{C_1}  \\\\[1em]\n",
    "\\tau &= R_2 C_1\n",
    "\\end{align*}"
   ]
  },
  {
   "cell_type": "markdown",
   "metadata": {},
   "source": [
    "## Low Pass"
   ]
  },
  {
   "cell_type": "code",
   "execution_count": 7,
   "metadata": {},
   "outputs": [],
   "source": [
    "fname = 'bessel'\n",
    "fc2 = 5e3"
   ]
  },
  {
   "cell_type": "code",
   "execution_count": 8,
   "metadata": {},
   "outputs": [],
   "source": [
    "# Future work: \n",
    "    # provide flexibility to pass m or n values\n",
    "    # provide flexibility to pass capacitor or resistor values\n",
    "    \n",
    "def LPfilter(fname='butterworth',fc=5e3,mVar=1,C2Var=1e-9):\n",
    "    # Determines low pass filter component values\n",
    "    # Parameters: \n",
    "        # filter name, \n",
    "        # m: ratio of capacitor values (R1/R2)\n",
    "        # C2: component value of C2\n",
    "\n",
    "    s,m,n,C1,C2,R1,R2,Q,tau,W0 = sp.symbols('s,m,n,C1,C2,R1,R2,Q,tau,omega0')\n",
    "    systemLP = sp.Matrix([\n",
    "        [W0 - 1/(tau*sp.sqrt(m*n))],\n",
    "        [Q - sp.sqrt(m*n)/(1+m)],\n",
    "        [m - R1/R2],\n",
    "        [n - C2/C1],\n",
    "        [tau - R2*C1]\n",
    "    ])\n",
    "\n",
    "    Cn = 1                     # Table (Butterworth / Bessel / Chebyshev)\n",
    "    Qvar = 1                   # Table (Butterworth / Bessel / Chebyshev)\n",
    "    if fname == 'butterworth': \n",
    "        Cn = 1\n",
    "        Qvar = 0.7071\n",
    "    if fname == 'bessel': \n",
    "        Cn = 1.2736\n",
    "        Qvar = 0.5773\n",
    "    if fname == 'chebyshev3db':\n",
    "        Cn = 0.8414\n",
    "        Qvar =  1.3049         \n",
    "    myVals = {\n",
    "        W0:2*sp.pi*fc*Cn,  \n",
    "        Q:0.5773,            # Table (Butterworth / Bessel / Chebyshev)\n",
    "        m:mVar,              # Chosen Ratio \n",
    "        C2:C2Var             # Chosen Value \n",
    "    }\n",
    "    \n",
    "    systemLP = systemLP.subs(myVals)\n",
    "    eq = sp.solve(systemLP)\n",
    "    return eq"
   ]
  },
  {
   "cell_type": "code",
   "execution_count": 9,
   "metadata": {},
   "outputs": [
    {
     "data": {
      "text/plain": [
       "[{C1: 7.50130620244903e-10,\n",
       "  R1: 28856.8306051982,\n",
       "  R2: 28856.8306051982,\n",
       "  n: 1.33310116000000,\n",
       "  tau: 2.16463922401795e-5}]"
      ]
     },
     "execution_count": 9,
     "metadata": {},
     "output_type": "execute_result"
    }
   ],
   "source": [
    "C2Var=1e-9\n",
    "eq = LPfilter(fname=fname,fc=fc2,mVar=1,C2Var=C2Var)\n",
    "tau = sp.symbols('tau')\n",
    "taus = []\n",
    "sol = {}\n",
    "if eq:\n",
    "    sol = eq[0]\n",
    "    if len(eq)>1:\n",
    "        taus = [dct[tau] for dct in eq]\n",
    "        sol = eq[taus.index(min(taus))]        \n",
    "eq"
   ]
  },
  {
   "cell_type": "code",
   "execution_count": 10,
   "metadata": {},
   "outputs": [
    {
     "data": {
      "text/plain": [
       "{C1: 7.50130620244903e-10,\n",
       " C2: 1e-09,\n",
       " R1: 28856.8306051982,\n",
       " R2: 28856.8306051982}"
      ]
     },
     "execution_count": 10,
     "metadata": {},
     "output_type": "execute_result"
    }
   ],
   "source": [
    "s,C1,C2,R1,R2 = sp.symbols('s,C1,C2,R1,R2')\n",
    "f = np.logspace(-1, 5, 100000)\n",
    "w = 2*np.pi*f\n",
    "\n",
    "num = 1/(R1*R2*C1*C2)\n",
    "a = 1\n",
    "b = (1/C2)*(R1+R2)/(R1*R2)\n",
    "c = 1/(R1*R2*C1*C2)\n",
    "den = a*s**2 + b*s + c\n",
    "\n",
    "components = {\n",
    "    C1:sol[C1],     # Fill in from calc.\n",
    "    C2:C2Var,       # Fill in from calc.\n",
    "    R1:sol[R1],     # Fill in from calc.\n",
    "    R2:sol[R2]      # Fill in from calc.\n",
    "} \n",
    "H = sp.Matrix([num/den])\n",
    "H2 = H = H.subs(components)\n",
    "H = lambdify(s,H,modules='numpy')\n",
    "H = H(1j*w)\n",
    "H = H[0][0]\n",
    "components"
   ]
  },
  {
   "cell_type": "code",
   "execution_count": 11,
   "metadata": {
    "scrolled": false
   },
   "outputs": [
    {
     "data": {
      "image/png": "[encoded data removed]",
      "text/plain": [
       "<Figure size 800x400 with 1 Axes>"
      ]
     },
     "metadata": {
      "filenames": {
       "image/png": "/home/kegedy/Documents/kegedy.github.io/_build/jupyter_execute/sensor-systems/filters/filters_26_0.png"
      }
     },
     "output_type": "display_data"
    }
   ],
   "source": [
    "fig, ax = plt.subplots(figsize=(8,4))\n",
    "\n",
    "x1 = np.where(20*np.log10(abs(H))<=-3)[0][0]\n",
    "label1 = \"fc: {:.2f}Hz\".format(f[x1])\n",
    "x2 = np.where(f>=50000)[0][0]\n",
    "label2 = \"{:.2f}dB\".format(20*np.log10(abs(H[x2])))\n",
    "label2 = f\"10fc: {label2}\"\n",
    "\n",
    "ax.set_title(f'{fname.title()}: Low Pass Filter')\n",
    "ax.semilogx(f, 20*np.log10(abs(H)),label=r'2nd Order LP')\n",
    "ax.scatter(f[x1],20*np.log10(abs(H[x1])),label=label1,color='tab:blue')\n",
    "ax.scatter(f[x2],20*np.log10(abs(H[x2])),label=label2,color='tab:blue')\n",
    "ax.set_ylabel('Magnitude [dB]')\n",
    "ax.grid(which='both', axis='both')\n",
    "ax.legend()\n",
    "plt.show();"
   ]
  },
  {
   "cell_type": "markdown",
   "metadata": {},
   "source": [
    "<hr>"
   ]
  },
  {
   "cell_type": "markdown",
   "metadata": {},
   "source": [
    "## Band Pass"
   ]
  },
  {
   "cell_type": "code",
   "execution_count": 12,
   "metadata": {},
   "outputs": [],
   "source": [
    "f = np.logspace(-1, 5, 100000)\n",
    "w = 2*np.pi*f\n",
    "H = H1 * H2\n",
    "H = lambdify(s,H,modules='numpy')\n",
    "H = H(1j*w)\n",
    "H = H[0][0]"
   ]
  },
  {
   "cell_type": "code",
   "execution_count": 13,
   "metadata": {
    "scrolled": false
   },
   "outputs": [
    {
     "data": {
      "image/png": "[encoded data removed]",
      "text/plain": [
       "<Figure size 1000x500 with 1 Axes>"
      ]
     },
     "metadata": {
      "filenames": {
       "image/png": "/home/kegedy/Documents/kegedy.github.io/_build/jupyter_execute/sensor-systems/filters/filters_30_0.png"
      }
     },
     "output_type": "display_data"
    }
   ],
   "source": [
    "fig, ax = plt.subplots(figsize=(10,5))\n",
    "\n",
    "x0 = np.where(20*np.log10(abs(H[0:20000]))<=-3)[0][-1]\n",
    "label0 = \"{:.0f}Hz\".format(f[x0])\n",
    "x1 = 20000+np.where(20*np.log10(abs(H[20000:]))<=-3)[0][0]\n",
    "label1 = \"{:.0f}Hz\".format(f[x1])\n",
    "label1 = f\"BW: [{label0}, {label1}]\" \n",
    "\n",
    "ax.set_title(f'{fname.title()}: Band Pass Response')\n",
    "ax.semilogx(f, 20*np.log10(abs(H)),color='tab:blue') # label=r'$4^{th}$ Order Sallen-Key BP')\n",
    "ax.scatter(f[x0],20*np.log10(abs(H[x0])),color='tab:blue')\n",
    "ax.scatter(f[x1],20*np.log10(abs(H[x1])),label=label1,color='tab:blue')\n",
    "ax.set_ylabel('Magnitude [dB]')\n",
    "ax.set_xlabel('Frequency [Hz]')\n",
    "ax.grid(which='both', axis='both')\n",
    "ax.legend()\n",
    "plt.show();"
   ]
  },
  {
   "cell_type": "markdown",
   "metadata": {},
   "source": [
    "## Filter Scaling Tables"
   ]
  },
  {
   "cell_type": "markdown",
   "metadata": {},
   "source": [
    "```{figure} butterworth.png\n",
    "Butterworth\n",
    "```"
   ]
  },
  {
   "cell_type": "markdown",
   "metadata": {},
   "source": [
    "```{figure} bessel.png\n",
    "Bessel\n",
    "```"
   ]
  },
  {
   "cell_type": "markdown",
   "metadata": {},
   "source": [
    "```{figure} chebyshev-1db.png\n",
    "Chebyshev 1dB\n",
    "```"
   ]
  },
  {
   "cell_type": "markdown",
   "metadata": {},
   "source": [
    "```{figure} chebyshev-3db.png\n",
    "Chebyshev 3dB\n",
    "```"
   ]
  }
 ],
 "metadata": {
  "interpreter": {
   "hash": "31f2aee4e71d21fbe5cf8b01ff0e069b9275f58929596ceb00d14d90e3e16cd6"
  },
  "kernelspec": {
   "display_name": "Python 3 (ipykernel)",
   "language": "python",
   "name": "python3"
  },
  "language_info": {
   "codemirror_mode": {
    "name": "ipython",
    "version": 3
   },
   "file_extension": ".py",
   "mimetype": "text/x-python",
   "name": "python",
   "nbconvert_exporter": "python",
   "pygments_lexer": "ipython3",
   "version": "3.7.9"
  },
  "varInspector": {
   "cols": {
    "lenName": 16,
    "lenType": 16,
    "lenVar": 40
   },
   "kernels_config": {
    "python": {
     "delete_cmd_postfix": "",
     "delete_cmd_prefix": "del ",
     "library": "var_list.py",
     "varRefreshCmd": "print(var_dic_list())"
    },
    "r": {
     "delete_cmd_postfix": ") ",
     "delete_cmd_prefix": "rm(",
     "library": "var_list.r",
     "varRefreshCmd": "cat(var_dic_list()) "
    }
   },
   "types_to_exclude": [
    "module",
    "function",
    "builtin_function_or_method",
    "instance",
    "_Feature"
   ],
   "window_display": false
  }
 },
 "nbformat": 4,
 "nbformat_minor": 2
}