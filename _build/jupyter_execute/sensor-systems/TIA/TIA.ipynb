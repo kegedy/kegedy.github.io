{
 "cells": [
  {
   "cell_type": "markdown",
   "id": "227ca18e",
   "metadata": {},
   "source": [
    "# TIA: Wideband & Low Noise"
   ]
  },
  {
   "cell_type": "markdown",
   "id": "770959fa",
   "metadata": {},
   "source": [
    "Project: [Low-Noise Wideband Transimpedance Amplifier](https://kegedy.github.io/TIA.pdf)  \n",
    "\n",
    "Date: June 3, 2021"
   ]
  },
  {
   "cell_type": "markdown",
   "id": "e3d75c2f",
   "metadata": {},
   "source": [
    "```{figure} img/top_level.png\n",
    "System Architecture\n",
    "```"
   ]
  },
  {
   "cell_type": "markdown",
   "id": "6a9de939",
   "metadata": {},
   "source": [
    "```{figure} img/noise-analysis-circuit.png\n",
    "Noise Analysis Circuit\n",
    "```"
   ]
  },
  {
   "cell_type": "markdown",
   "id": "60dd10af",
   "metadata": {},
   "source": [
    "```{figure} img/noise_bode.png\n",
    "Noise Analysis Bode Plot\n",
    "```"
   ]
  }
 ],
 "metadata": {
  "interpreter": {
   "hash": "31f2aee4e71d21fbe5cf8b01ff0e069b9275f58929596ceb00d14d90e3e16cd6"
  },
  "kernelspec": {
   "display_name": "Python 3.10.6 64-bit",
   "name": "python3"
  },
  "language_info": {
   "codemirror_mode": {
    "name": "ipython",
    "version": 3
   },
   "file_extension": ".py",
   "mimetype": "text/x-python",
   "name": "python",
   "nbconvert_exporter": "python",
   "pygments_lexer": "ipython3",
   "version": "3.7.9"
  },
  "varInspector": {
   "cols": {
    "lenName": 16,
    "lenType": 16,
    "lenVar": 40
   },
   "kernels_config": {
    "python": {
     "delete_cmd_postfix": "",
     "delete_cmd_prefix": "del ",
     "library": "var_list.py",
     "varRefreshCmd": "print(var_dic_list())"
    },
    "r": {
     "delete_cmd_postfix": ") ",
     "delete_cmd_prefix": "rm(",
     "library": "var_list.r",
     "varRefreshCmd": "cat(var_dic_list()) "
    }
   },
   "types_to_exclude": [
    "module",
    "function",
    "builtin_function_or_method",
    "instance",
    "_Feature"
   ],
   "window_display": false
  }
 },
 "nbformat": 4,
 "nbformat_minor": 5
}