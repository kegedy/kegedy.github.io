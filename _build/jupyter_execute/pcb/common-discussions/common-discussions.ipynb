{
 "cells": [
  {
   "cell_type": "markdown",
   "id": "cac806df",
   "metadata": {},
   "source": [
    "# Common Discussions"
   ]
  },
  {
   "cell_type": "markdown",
   "id": "0a406251",
   "metadata": {},
   "source": [
    "## Q1: Trace width\n",
    "\n",
    "[PCB Trace Inductance and Width: How Wide is Too Wide?](https://resources.altium.com/p/pcb-trace-inductance-and-width-how-wide-too-wide)"
   ]
  },
  {
   "cell_type": "markdown",
   "id": "3155f544",
   "metadata": {},
   "source": [
    "- Goal: minimize PCB trace inductance per unit length while keeping impedance constant  \n",
    "- Wheeler implementation produces less than 0.7% error which is much better than IPC-2141\n",
    "\n",
    "$$\n",
    "\\begin{align*}\n",
    " L &= \\dfrac{Z_0(w,h,t)}{c} \\sqrt{\\epsilon_{eff}(w,h,t)}  \\\\[0.5em]\n",
    " C &= \\dfrac{L}{Z_0(w,h,t)^2} \\\\[0.5em]\n",
    " Z_0 &= \\text{Waddell’s equations for microstrip impedance}\n",
    "\\end{align*}\n",
    "$$"
   ]
  },
  {
   "cell_type": "markdown",
   "id": "45b523f5",
   "metadata": {},
   "source": [
    "```{figure} trace-geometry.png\n",
    "Trace Geometry\n",
    "```"
   ]
  },
  {
   "cell_type": "markdown",
   "id": "0c0a7d6d",
   "metadata": {},
   "source": [
    "## Q2: Filling unused area in signal planes with copper pours\n",
    "\n",
    "[On Shaky Ground—the Arguments Against Copper Pours](https://resources.altium.com/p/shaky-ground-arguments-against-copper-pours#the-history-of-ground-pours)\n",
    "- Ground pours resemble patch antennas and can emit noise\n",
    "- When the copper is thick, desoldering and service operations are more difficult"
   ]
  },
  {
   "cell_type": "markdown",
   "id": "26cf391f",
   "metadata": {},
   "source": [
    "## Q3: Current sensor location\n",
    "\n",
    "[Current Sensing: Where to Place the Sense Resistor](https://www.analog.com/en/technical-articles/switch-mode-power-supply-current-sensing-part-2-where-to-place-the-sense-resistor.html)\n",
    "\n",
    "- Placing sense resistor after inductor provides best signal to noise ratios. Ultimately, resistor should be replaced with hall sensor to improve dissipated power if it's within budget (\\$)."
   ]
  },
  {
   "cell_type": "markdown",
   "id": "9f114d49",
   "metadata": {},
   "source": [
    "```{figure} Rsense.jpg\n",
    "---\n",
    "width: 400px\n",
    "---\n",
    "Sense Resistor in Switch Mode Power Supply\n",
    "```"
   ]
  },
  {
   "cell_type": "markdown",
   "id": "fe32e22e",
   "metadata": {},
   "source": [
    "## Q4: Gate driver protection\n",
    "\n",
    "[Gate resistor for power devices](https://www.infineon.com/dgdl/Infineon-EiceDRIVER-Gate_resistor_for_power_devices-ApplicationNotes-v01_00-EN.pdf?fileId=5546d462518ffd8501523ee694b74f18)  \n",
    "[Peak Current of Isolated Gate Drivers](https://www.analog.com/en/analog-dialogue/articles/peak-current-of-isolated-gate-drivers.html)\n"
   ]
  },
  {
   "cell_type": "markdown",
   "id": "d68408a5",
   "metadata": {},
   "source": [
    "```{figure} TypicalApplication.png\n",
    "Typical Application\n",
    "```"
   ]
  },
  {
   "cell_type": "markdown",
   "id": "9d61e9b9",
   "metadata": {},
   "source": [
    "|  Design             | Component  |\n",
    "| :------------------: | :---------: |\n",
    "| Gate Driver         | [STDRIVEG600](https://www.st.com/resource/en/datasheet/stdriveg600.pdf)   |\n",
    "| MOSFET              | [TPH8R903NL](https://www.digikey.com/en/products/detail/toshiba-semiconductor-and-storage/TPH8R903NL-LQ/4332031)     |\n",
    "\n"
   ]
  },
  {
   "cell_type": "markdown",
   "id": "55062a73",
   "metadata": {},
   "source": [
    "Given PVCC = 5V, VBO = 20V and gate driver specs:  \n",
    "\n",
    "| Source | Source | Sink | $R_{\\text{DS_on}}$ | $R_{\\text{DS_off}}$ |\n",
    "| :-- | :-- | :-- | :-- | :-- |\n",
    "| 6.0V | 1.3A | 2.4A | 2.0$\\Omega$ | 1.2$\\Omega$ |\n",
    "| 15V  | 5.5A | 6.0A | 1.25$\\Omega$ | 0.9$\\Omega$ |\n"
   ]
  },
  {
   "cell_type": "markdown",
   "id": "75e7ae6a",
   "metadata": {},
   "source": [
    "**High Side Calculations**  \n",
    "\n",
    "$\n",
    "\\begin{align*}\n",
    "I_{\\text{charging_peak}} &= \\dfrac{V_{BO}}{R_{\\text{DS_on}} + R_{\\text{G_on}}} \\\\[0.5em]\n",
    "5.5A &= \\dfrac{20}{1.25 + R_{\\text{G_on}}} \\\\[0.5em]\n",
    "R_{\\text{G_on}} &= 2.39 \\Omega \\\\[0.5em]\n",
    "I_{\\text{discharging_peak}} &= \\dfrac{V_{BO}}{R_{\\text{DS_off}} + R_{\\text{G_off}}}\\\\[0.5em] \n",
    "6.0A &= \\dfrac{20}{0.9 + R_{\\text{G_off}}} \\\\[0.5em]\n",
    "R_{\\text{G_off}} &= 2.43 \\Omega \\\\[0.5em]\n",
    "\\end{align*}\n",
    "$\n"
   ]
  },
  {
   "cell_type": "markdown",
   "id": "9588aa0c",
   "metadata": {},
   "source": [
    "**Low Side Calculations** \n",
    "\n",
    "$\n",
    "\\begin{align*}\n",
    "I_{\\text{charging_peak}} &= \\dfrac{PVCC}{R_{\\text{DS_on}} + R_{\\text{G_on}}} \\\\[0.5em]\n",
    "1.3A &= \\dfrac{5}{2.0 + R_{\\text{G_on}}} \\\\[0.5em]\n",
    "R_{\\text{G_on}} &= 1.85 \\Omega \\\\[0.5em]\n",
    "I_{\\text{discharging_peak}} &= \\dfrac{PVCC}{R_{\\text{DS_off}} + R_{\\text{G_off}}}\\\\[0.5em] \n",
    "2.4A &= \\dfrac{5}{1.2 + R_{\\text{G_off}}} \\\\[0.5em]\n",
    "R_{\\text{G_off}} &= 0.89 \\Omega \\\\[0.5em]\n",
    "\\end{align*}\n",
    "$"
   ]
  },
  {
   "cell_type": "markdown",
   "id": "80c7273c",
   "metadata": {},
   "source": [
    "**Resistor Size**\n",
    "\n",
    "Additionally, power dissipated through the resistor is $P  = C V^2 f$ for selecting components."
   ]
  },
  {
   "cell_type": "markdown",
   "id": "7b4ce788",
   "metadata": {},
   "source": []
  }
 ],
 "metadata": {
  "interpreter": {
   "hash": "31f2aee4e71d21fbe5cf8b01ff0e069b9275f58929596ceb00d14d90e3e16cd6"
  },
  "kernelspec": {
   "display_name": "Python 3.10.6 64-bit",
   "name": "python3"
  },
  "language_info": {
   "codemirror_mode": {
    "name": "ipython",
    "version": 3
   },
   "file_extension": ".py",
   "mimetype": "text/x-python",
   "name": "python",
   "nbconvert_exporter": "python",
   "pygments_lexer": "ipython3",
   "version": "3.7.9"
  },
  "varInspector": {
   "cols": {
    "lenName": 16,
    "lenType": 16,
    "lenVar": 40
   },
   "kernels_config": {
    "python": {
     "delete_cmd_postfix": "",
     "delete_cmd_prefix": "del ",
     "library": "var_list.py",
     "varRefreshCmd": "print(var_dic_list())"
    },
    "r": {
     "delete_cmd_postfix": ") ",
     "delete_cmd_prefix": "rm(",
     "library": "var_list.r",
     "varRefreshCmd": "cat(var_dic_list()) "
    }
   },
   "types_to_exclude": [
    "module",
    "function",
    "builtin_function_or_method",
    "instance",
    "_Feature"
   ],
   "window_display": false
  }
 },
 "nbformat": 4,
 "nbformat_minor": 5
}