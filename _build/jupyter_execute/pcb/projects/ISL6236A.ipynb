{
 "cells": [
  {
   "cell_type": "markdown",
   "id": "d211769c",
   "metadata": {},
   "source": [
    "# ISL6236A"
   ]
  },
  {
   "cell_type": "markdown",
   "id": "d65d3c68",
   "metadata": {},
   "source": [
    "The ISL6236A controller generates dual logic-supply voltages in battery-powered systems. \n",
    "\n",
    "Part of fedeval academy curriculum with Robert Feranec [Learn Altium Essentials](https://academy.fedevel.com/courses/online-switching-power-supply-design-course)."
   ]
  },
  {
   "cell_type": "markdown",
   "id": "b36a9f8e",
   "metadata": {},
   "source": [
    "```{figure} ISL6236A/ISL6236A_schematic.png\n",
    "Schematic\n",
    "```"
   ]
  },
  {
   "cell_type": "markdown",
   "id": "356c14a1",
   "metadata": {},
   "source": [
    "```{figure} ISL6236A/ISL6236A-all-layers.png\n",
    "All Layers\n",
    "```"
   ]
  },
  {
   "cell_type": "markdown",
   "id": "06ba3bd4",
   "metadata": {},
   "source": [
    "```{figure} ISL6236A/ISL6236A-top-and-bottom.png\n",
    "Top and Bottom Layers\n",
    "```"
   ]
  },
  {
   "cell_type": "markdown",
   "id": "f329ffc5",
   "metadata": {},
   "source": [
    "```{figure} ISL6236A/ISL6236A-top-3D.png\n",
    "Top 3D View\n",
    "```"
   ]
  },
  {
   "cell_type": "markdown",
   "id": "984aadd7",
   "metadata": {},
   "source": [
    "```{figure} ISL6236A/ISL6236A-bottom-3D.png\n",
    "Bottom 3D View\n",
    "```"
   ]
  }
 ],
 "metadata": {
  "interpreter": {
   "hash": "31f2aee4e71d21fbe5cf8b01ff0e069b9275f58929596ceb00d14d90e3e16cd6"
  },
  "kernelspec": {
   "display_name": "Python 3.10.6 64-bit",
   "name": "python3"
  },
  "language_info": {
   "codemirror_mode": {
    "name": "ipython",
    "version": 3
   },
   "file_extension": ".py",
   "mimetype": "text/x-python",
   "name": "python",
   "nbconvert_exporter": "python",
   "pygments_lexer": "ipython3",
   "version": "3.7.9"
  },
  "varInspector": {
   "cols": {
    "lenName": 16,
    "lenType": 16,
    "lenVar": 40
   },
   "kernels_config": {
    "python": {
     "delete_cmd_postfix": "",
     "delete_cmd_prefix": "del ",
     "library": "var_list.py",
     "varRefreshCmd": "print(var_dic_list())"
    },
    "r": {
     "delete_cmd_postfix": ") ",
     "delete_cmd_prefix": "rm(",
     "library": "var_list.r",
     "varRefreshCmd": "cat(var_dic_list()) "
    }
   },
   "types_to_exclude": [
    "module",
    "function",
    "builtin_function_or_method",
    "instance",
    "_Feature"
   ],
   "window_display": false
  }
 },
 "nbformat": 4,
 "nbformat_minor": 5
}