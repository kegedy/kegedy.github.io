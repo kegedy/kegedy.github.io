{
 "cells": [
  {
   "cell_type": "markdown",
   "id": "9f44dec7",
   "metadata": {},
   "source": [
    "# Impedance Transformation"
   ]
  },
  {
   "cell_type": "markdown",
   "id": "d79ceadf",
   "metadata": {},
   "source": [
    "## Series to Parallel"
   ]
  },
  {
   "cell_type": "markdown",
   "id": "13243ee4",
   "metadata": {},
   "source": [
    "```{figure} impedance-transformation/impedance-transformation.jpg\n",
    ":width: 300px\n",
    "Series to Parallel Conversion\n",
    "```"
   ]
  },
  {
   "cell_type": "markdown",
   "id": "769f153b",
   "metadata": {},
   "source": [
    "### Quality Factor"
   ]
  },
  {
   "cell_type": "markdown",
   "id": "71a8a1b1",
   "metadata": {},
   "source": [
    "\\begin{align*}\n",
    "Q_s &= \\dfrac{|X_s|}{R_s}  \\\\[1em]\n",
    "Q_P &= \\dfrac{R_p}{|X_p|} \\\\[1em]\n",
    "\\end{align*}"
   ]
  },
  {
   "cell_type": "markdown",
   "id": "0a2b4f27",
   "metadata": {},
   "source": [
    "### R & C\n",
    "\n",
    "\\begin{align*}\n",
    "Q_s &= \\dfrac{1}{\\omega C_s R_s}\\\\[1em]\n",
    "Q_P &= \\dfrac{\\omega C_p R_p}{1} \\\\[1em]\n",
    "\\end{align*}"
   ]
  },
  {
   "cell_type": "markdown",
   "id": "5c41cb72",
   "metadata": {},
   "source": [
    "**Equate Impedances**\n",
    "\n",
    "\\begin{align*}\n",
    "R_s + \\dfrac{1}{j\\omega C_s} &= R_p \\parallel \\dfrac{1}{j\\omega C_p} \\\\[1em]\n",
    "\\dfrac{j\\omega R_s C_s + 1}{j\\omega C_s} &= \\dfrac{\\dfrac{R_p}{j\\omega C_p}}{R_p + \\dfrac{1}{j\\omega C_p}} \\\\[1em]\n",
    "\\dfrac{j\\omega R_s C_s + 1}{j\\omega C_s} &= \\dfrac{\\dfrac{R_p}{j\\omega C_p}}{\\dfrac{j\\omega R_p C_p + 1}{j\\omega C_p}} \\\\[1em]\n",
    "\\dfrac{j\\omega R_s C_s + 1}{j\\omega C_s} &= \\dfrac{R_p}{j\\omega R_p C_p + 1} \\\\[1em]\n",
    "-\\omega^2 R_s C_s R_p C_p & + j \\omega R_s C_s + j \\omega R_P C_p + 1 = j \\omega R_p C_s \\\\[1em]\n",
    "\\text{equate real} &  \\text{ and imaginary}  \\\\[1em]\n",
    "\\omega^2 R_s C_s R_p C_p = 1 \\ \\ & \\text{ & } \\ \\\n",
    "R_s C_s + R_P C_p - R_p C_s = 0 \\\\[1em]\n",
    "\\cdots \\\\[1em]\n",
    "R_p &= (Q_s^2 + 1)R_s \\\\[1em]\n",
    "C_p &= \\dfrac{Q_s^2}{Q_s^2+1}C_s\n",
    "\\end{align*}"
   ]
  },
  {
   "cell_type": "markdown",
   "id": "65e74070",
   "metadata": {},
   "source": [
    "**Thus, as long as $Q_s^2 \\gg 1$ then** \n",
    "\n",
    "\\begin{align*}\n",
    "R_p &\\approx Q_s^2 R_s \\\\[1em]\n",
    "C_p &\\approx C_s\n",
    "\\end{align*}"
   ]
  },
  {
   "cell_type": "markdown",
   "id": "bcba81fe",
   "metadata": {},
   "source": [
    "### R & L"
   ]
  },
  {
   "cell_type": "markdown",
   "id": "aa786d13",
   "metadata": {},
   "source": [
    "\\begin{align*}\n",
    "Q_s &= \\dfrac{\\omega L_s}{ R_s}\\\\[1em]\n",
    "Q_P &= \\dfrac{R_p}{\\omega L_p} \\\\[1em]\n",
    "\\end{align*}"
   ]
  },
  {
   "cell_type": "markdown",
   "id": "c2144830",
   "metadata": {},
   "source": [
    "**Equate Impedances**\n",
    "\n",
    "\\begin{align*}\n",
    "R_s + j\\omega L_s &= R_p \\parallel j\\omega L_p \\\\[1em]\n",
    "R_s + j\\omega L_s  &= \\dfrac{j\\omega R_p L_p}{R_p + j\\omega L_p} \\\\[1em]\n",
    "  &= \\dfrac{j\\omega R_p L_p}{R_p + j\\omega L_p} \\dfrac{R_p - j\\omega L_p}{R_p - j\\omega L_p}\\\\[1em]\n",
    "  &= \\dfrac{(\\omega L_p)^2 R_p + j\\omega L_p R_p^2}{R_p^2 + \\omega^2 L_p^2}\\\\[1em]\n",
    "  \\text{equate real} &  \\text{ and imaginary}  \\\\[1em]\n",
    "  \\cdots  \\\\[1em]\n",
    "R_p &= (Q_s^2 + 1)R_s \\\\[1em]\n",
    "L_S &= \\dfrac{Q_s^2}{Q_s^2+1} L_P\n",
    "\\end{align*}"
   ]
  },
  {
   "cell_type": "markdown",
   "id": "de89dd30",
   "metadata": {},
   "source": [
    "**Thus, as long as $Q_s^2 \\gg 1$ then** \n",
    "\n",
    "\\begin{align*}\n",
    "R_p &\\approx Q_s^2 R_s \\\\[1em]\n",
    "L_S &\\approx L_P\n",
    "\\end{align*}"
   ]
  },
  {
   "cell_type": "code",
   "execution_count": null,
   "id": "a78adf60",
   "metadata": {},
   "outputs": [],
   "source": []
  }
 ],
 "metadata": {
  "interpreter": {
   "hash": "31f2aee4e71d21fbe5cf8b01ff0e069b9275f58929596ceb00d14d90e3e16cd6"
  },
  "kernelspec": {
   "display_name": "Python 3 (ipykernel)",
   "language": "python",
   "name": "python3"
  },
  "language_info": {
   "codemirror_mode": {
    "name": "ipython",
    "version": 3
   },
   "file_extension": ".py",
   "mimetype": "text/x-python",
   "name": "python",
   "nbconvert_exporter": "python",
   "pygments_lexer": "ipython3",
   "version": "3.7.9"
  },
  "varInspector": {
   "cols": {
    "lenName": 16,
    "lenType": 16,
    "lenVar": 40
   },
   "kernels_config": {
    "python": {
     "delete_cmd_postfix": "",
     "delete_cmd_prefix": "del ",
     "library": "var_list.py",
     "varRefreshCmd": "print(var_dic_list())"
    },
    "r": {
     "delete_cmd_postfix": ") ",
     "delete_cmd_prefix": "rm(",
     "library": "var_list.r",
     "varRefreshCmd": "cat(var_dic_list()) "
    }
   },
   "types_to_exclude": [
    "module",
    "function",
    "builtin_function_or_method",
    "instance",
    "_Feature"
   ],
   "window_display": false
  }
 },
 "nbformat": 4,
 "nbformat_minor": 5
}