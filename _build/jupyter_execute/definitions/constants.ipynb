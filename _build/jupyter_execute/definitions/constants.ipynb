{
 "cells": [
  {
   "cell_type": "markdown",
   "id": "f0ff455d",
   "metadata": {},
   "source": [
    "# Constants"
   ]
  },
  {
   "cell_type": "markdown",
   "id": "9c69fe10",
   "metadata": {},
   "source": [
    "| Symbol  | <div style=\"width:150px\">Value</div> | <div style=\"width:150px\">Unit</div>  |\n",
    "|:-------:|:------:|:------|\n",
    "| $k$       | $1.380649 \\cdot 10^{-23}$ | (J/K) joules / kelvin    |\n",
    "| $q$       | $1.602 \\cdot 10^{-19}$ | (C) coulombs  |\n",
    "| $\\epsilon_0$       | $8.85\\cdot 10^{-12}$  | (F/m) farad / meter  |\n",
    "| $\\mu_0$   | $4\\pi \\cdot 10^{-7}$ | (H/m) henry / meter |"
   ]
  },
  {
   "cell_type": "markdown",
   "id": "e4a0686f",
   "metadata": {},
   "source": [
    "**Thermal Voltage**  "
   ]
  },
  {
   "cell_type": "markdown",
   "id": "9a95959d",
   "metadata": {},
   "source": [
    "| Symbol  | <div style=\"width:150px\">Value</div> | <div style=\"width:150px\">Unit</div>  |\n",
    "|:-------:|:------:|:------|\n",
    "| $kT/q$       | $25.86$ mV | thermal voltage at T=$30^\\circ$ C  |\n",
    "| $kT/q$       | $25.69$ mV | thermal voltage at T=$25^\\circ$ C  |"
   ]
  },
  {
   "cell_type": "code",
   "execution_count": null,
   "id": "5fb53e9a",
   "metadata": {},
   "outputs": [],
   "source": []
  }
 ],
 "metadata": {
  "kernelspec": {
   "display_name": "Python 3 (ipykernel)",
   "language": "python",
   "name": "python3"
  },
  "language_info": {
   "codemirror_mode": {
    "name": "ipython",
    "version": 3
   },
   "file_extension": ".py",
   "mimetype": "text/x-python",
   "name": "python",
   "nbconvert_exporter": "python",
   "pygments_lexer": "ipython3",
   "version": "3.7.9"
  },
  "varInspector": {
   "cols": {
    "lenName": 16,
    "lenType": 16,
    "lenVar": 40
   },
   "kernels_config": {
    "python": {
     "delete_cmd_postfix": "",
     "delete_cmd_prefix": "del ",
     "library": "var_list.py",
     "varRefreshCmd": "print(var_dic_list())"
    },
    "r": {
     "delete_cmd_postfix": ") ",
     "delete_cmd_prefix": "rm(",
     "library": "var_list.r",
     "varRefreshCmd": "cat(var_dic_list()) "
    }
   },
   "types_to_exclude": [
    "module",
    "function",
    "builtin_function_or_method",
    "instance",
    "_Feature"
   ],
   "window_display": false
  }
 },
 "nbformat": 4,
 "nbformat_minor": 5
}