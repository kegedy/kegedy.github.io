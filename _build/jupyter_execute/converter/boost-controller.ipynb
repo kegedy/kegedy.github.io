{
 "cells": [
  {
   "cell_type": "markdown",
   "id": "ac242455",
   "metadata": {},
   "source": [
    "# Boost Controller"
   ]
  },
  {
   "cell_type": "markdown",
   "id": "89636692",
   "metadata": {},
   "source": [
    "## Dynamic Modeling"
   ]
  },
  {
   "cell_type": "markdown",
   "id": "3b78bbf1",
   "metadata": {},
   "source": [
    "### Averaged Inductor Current $\\langle i(t) \\rangle$ and Averaged Capacitor Voltage $\\langle v(t) \\rangle$ "
   ]
  },
  {
   "cell_type": "markdown",
   "id": "f598c3f4",
   "metadata": {},
   "source": [
    "**Volt-Seconds**"
   ]
  },
  {
   "cell_type": "markdown",
   "id": "67aceeba",
   "metadata": {},
   "source": [
    "$$\\begin{align*}\n",
    "\\langle v_{L}(t)\\rangle = L\\frac{d}{dt} \\langle i(t)\\rangle &= \n",
    "\\bigg[\\bigg(\\langle{v_g}(t)\\rangle-\\langle i(t)\\rangle R_{on} \\bigg)d(t) + \\bigg( \\langle{v_g}(t)\\rangle-\\langle i(t)\\rangle R_{on} - \\langle v(t)\\rangle \\bigg)d'(t) \\bigg] \\\\[0.5em]\n",
    "\\langle v_{L}(t)\\rangle = L\\frac{d}{dt} \\langle i(t)\\rangle &= \n",
    "\\bigg[\\langle{v_g}(t)\\rangle-\\langle i(t)\\rangle R_{on} - \\langle v(t)\\rangle d'(t) \\bigg] \\\\[0.5em]\n",
    "\\frac{d}{dt} \\langle i(t)\\rangle &= \n",
    "\\begin{matrix}\n",
    "\\dfrac{1}{L} \\\\[1em]\n",
    "\\end{matrix} \n",
    "\\bigg[\\langle{v_g}(t)\\rangle-\\langle i(t)\\rangle R_{on} - \\langle v(t)\\rangle d'(t) \\bigg] \\\\[0.5em]\n",
    "\\end{align*}$$"
   ]
  },
  {
   "cell_type": "markdown",
   "id": "09aa434e",
   "metadata": {},
   "source": [
    "**Charge Balance**"
   ]
  },
  {
   "cell_type": "markdown",
   "id": "0970ae18",
   "metadata": {},
   "source": [
    "$$\n",
    "\\begin{align*}\n",
    "\\langle i_C (t) \\rangle = \n",
    "C\\frac{d}{dt} \\langle v(t)\\rangle &= \n",
    "\\bigg[\\bigg(\\dfrac{-\\langle v(t)\\rangle}{R}\\bigg)d(t) +\\bigg(\\langle i(t)\\rangle -\\frac{\\langle v(t)\\rangle}{R} \\bigg)d'(t)\\bigg] \\\\[1em]\n",
    "\\langle i_C (t) \\rangle = \n",
    "C\\frac{d}{dt} \\langle v(t)\\rangle &= \n",
    "\\bigg[\\dfrac{-\\langle v(t)\\rangle}{R} + \\langle i(t)\\rangle d'(t) \\bigg] \\\\[1em]\n",
    " \\frac{d}{dt} \\langle v(t)\\rangle &= \n",
    "\\begin{matrix}\n",
    "\\dfrac{1}{C} \\\\[1em]\n",
    "\\end{matrix}\n",
    "\\bigg[\\dfrac{-\\langle v(t)\\rangle}{R} + \\langle i(t)\\rangle d'(t) \\bigg] \\\\[1em]\n",
    "\\end{align*}\n",
    "$$"
   ]
  },
  {
   "cell_type": "markdown",
   "id": "c1d7c17f",
   "metadata": {},
   "source": [
    "**Differential Solution** "
   ]
  },
  {
   "cell_type": "markdown",
   "id": "95025768",
   "metadata": {},
   "source": [
    "Given  $\\ x = \n",
    "\\begin{bmatrix}\n",
    "\\langle i(t)\\rangle \\\\\n",
    "\\langle v(t)\\rangle\n",
    "\\end{bmatrix}$, \n",
    "u = \n",
    "$\\begin{bmatrix}\n",
    "d(t) \\\\\n",
    "\\langle v_g(t)\\rangle\n",
    "\\end{bmatrix}$ \n",
    "\n",
    "$$\n",
    "\\begin{align*}\n",
    "\\dot{x} &= f(x(t),u(t)) = \\dfrac{d}{dt}\n",
    "\\begin{bmatrix}\n",
    "\\langle i(t)\\rangle \\\\[1em]\n",
    "\\langle v(t)\\rangle\n",
    "\\end{bmatrix} = \n",
    "\\begin{matrix}\n",
    "\\dfrac{1}{L} \\\\[0.5em]\n",
    "\\dfrac{1}{C}\n",
    "\\end{matrix}\n",
    "\\begin{bmatrix}\n",
    "\\langle{v_g}(t)\\rangle-\\langle i(t)\\rangle R_{on} - \\langle v(t)\\rangle d'(t) \\\\[1em]\n",
    "\\dfrac{-\\langle v(t)\\rangle}{R} + \\langle i(t)\\rangle d'(t)s\n",
    "\\end{bmatrix} \\\\[0.5em]\n",
    "\\end{align*}$$"
   ]
  },
  {
   "cell_type": "markdown",
   "id": "7ecfa368",
   "metadata": {},
   "source": [
    "### Linearized Small-Signal Model"
   ]
  },
  {
   "cell_type": "markdown",
   "id": "ae42969c",
   "metadata": {},
   "source": [
    "**Derive a linearized small-signal model**"
   ]
  },
  {
   "cell_type": "markdown",
   "id": "958d4516",
   "metadata": {},
   "source": [
    "$$\n",
    "\\begin{align*}\n",
    "\\dot{\\hat{x}}(t) &\\approx A \\hat{x}(t) + B \\hat{u}(t) \\\\[0.5em]\n",
    "\\hat{y}(t) &= C \\hat{x}(t) + E  \\hat{u}(t) \n",
    "\\end{align*}\n",
    "$$\n",
    "\n",
    "**where** \n",
    "\n",
    "$$\n",
    "\\begin{matrix}\n",
    "x(t) = \\hat{x}(t) + X && X = \n",
    "\\begin{bmatrix}\n",
    "I \\\\\n",
    "V\n",
    "\\end{bmatrix} \\\\[0.5em] \n",
    "u(t) = \\hat{u}(t) + U && U = \n",
    "\\begin{bmatrix}\n",
    "D \\\\\n",
    "V_g \n",
    "\\end{bmatrix}\n",
    "\\\\[0.5em]\n",
    "\\end{matrix}\n",
    "$$"
   ]
  },
  {
   "cell_type": "markdown",
   "id": "4b87cccb",
   "metadata": {},
   "source": [
    "**Volt-Seconds (Large Signal)**\n",
    "\n",
    "$$\\begin{align*}\n",
    "\\langle v_{L}(t)\\rangle &= L\\frac{d}{dt} \\langle i(t)\\rangle = \n",
    "\\bigg[\\langle{v_g}(t)\\rangle-\\langle i(t)\\rangle R_{on} - \\langle v(t)\\rangle d'(t) \\bigg]  = 0\\\\[0.5em]\n",
    "0 &=  V_g - I R_{on} - VD'   \\\\[0.5em]\n",
    "VD' &= V_g - I R_{on} \\\\[0.5em]\n",
    "V &= \\dfrac{V_g - I R_{on}}{D'} \\bigg|_{I = \\dfrac{V}{D'R} }  \\\\[0.5em]\n",
    "V &= \\dfrac{V_g - \\dfrac{V}{D'R} R_{on}}{D'} \\\\[0.5em]\n",
    "V &= \\dfrac{V_g}{D'}\\cdot \\dfrac{1}{1+\\dfrac{ R_{on}}{D'^2 R}} \\\\[0.5em]\n",
    "\\end{align*}$$"
   ]
  },
  {
   "cell_type": "markdown",
   "id": "16fa07fa",
   "metadata": {},
   "source": [
    "**Charge Balance (Large Signal)**\n",
    "\n",
    "$$\\begin{align*}\n",
    "\\langle i_C (t) \\rangle &= \n",
    "C\\frac{d}{dt} \\langle v(t)\\rangle = \n",
    "\\bigg[\\dfrac{-\\langle v(t)\\rangle}{R} + \\langle i(t)\\rangle d'(t) \\bigg] = 0\\\\[1em]\n",
    "0 &=\\dfrac{-V}{R} + I D' \\\\[1em]\n",
    "I &= \\dfrac{V}{D'R} \\\\[1em]\n",
    "I &= \\dfrac{1}{D'R}\\cdot \\frac{V_g}{D'}\\cdot \\dfrac{1}{1+\\dfrac{ R_{on}}{D'^2 R}} \\\\[1em]\n",
    "I &= \\frac{V_g}{D'^2 R}\\cdot \\dfrac{1}{1+\\dfrac{ R_{on}}{D'^2 R}} \\\\[1em]\n",
    "\\end{align*}$$"
   ]
  },
  {
   "cell_type": "markdown",
   "id": "6262d2f1",
   "metadata": {},
   "source": [
    "**Find A, B, C, D**"
   ]
  },
  {
   "cell_type": "markdown",
   "id": "5f107bd1",
   "metadata": {},
   "source": [
    "$A = \\dfrac{d}{d\\hat{x}(t)} f(x(t),u(t))\\bigg|_{x=X,u=U} = $  \n",
    "\n",
    "$\\begin{bmatrix}\n",
    "\\dfrac{\\partial f_1}{\\partial x_1} & \\dfrac{\\partial f_1}{\\partial x_2} \\\\[.5em] \n",
    "\\dfrac{\\partial f_2}{\\partial x_1} & \\dfrac{\\partial f_2}{\\partial x_2}\n",
    "\\end{bmatrix} = \n",
    "\\begin{bmatrix}\n",
    "\\dfrac{\\partial f_1}{\\partial \\langle \\hat{i}(t)\\rangle} & \\dfrac{\\partial f_1}{\\partial \\langle \\hat{v}(t)\\rangle} \\\\[.5em] \n",
    "\\dfrac{\\partial f_2}{\\partial \\langle \\hat{i}(t)\\rangle} & \\dfrac{\\partial f_2}{\\partial \\langle \\hat{v}(t)\\rangle}\n",
    "\\end{bmatrix} = \n",
    "\\begin{bmatrix}\n",
    "\\dfrac{-R_{on}}{L} & \\dfrac{-D'}{L} \\\\[.5em]\n",
    "\\dfrac{D'}{C} & \\dfrac{-1}{RC}\n",
    "\\end{bmatrix}\n",
    "$"
   ]
  },
  {
   "cell_type": "markdown",
   "id": "d17fdbf0",
   "metadata": {},
   "source": [
    "$ B = \\dfrac{d}{\\partial{\\hat{u}(t)}} f(x(t),u(t))\\bigg|_{x=X,u=U} =  $  \n",
    "\n",
    "$\\begin{bmatrix}\n",
    "\\dfrac{\\partial f_1}{\\partial u_1} & \\dfrac{\\partial f_1}{\\partial u_2} \\\\[0.5em] \n",
    "\\dfrac{\\partial f_2}{\\partial u_1} & \\dfrac{\\partial f_2}{\\partial u_2}\n",
    "\\end{bmatrix} = \n",
    "\\begin{bmatrix}\n",
    "\\dfrac{\\partial f_1}{\\partial \\hat{d}(t)} & \\dfrac{\\partial f_1}{\\partial \\langle \\hat{v_g}(t)\\rangle} \\\\[1.5em] \n",
    "\\dfrac{\\partial f_2}{\\partial \\hat{d}(t)} & \\dfrac{\\partial f_2}{\\partial \\langle \\hat{v_g}(t)\\rangle}\n",
    "\\end{bmatrix} =$\n",
    "$\\begin{bmatrix}\n",
    "\\dfrac{V}{L} & \\dfrac{1}{L} \\\\[0.5em]\n",
    "\\dfrac{-I}{C} & 0\n",
    "\\end{bmatrix} = \n",
    "\\begin{bmatrix}\n",
    "\\dfrac{V_g}{D'L}\\cdot \\dfrac{1}{1+\\dfrac{ R_{on}}{D'^2 R}} & \\dfrac{1}{L} \\\\[0.5em]\n",
    "\\dfrac{-V_g}{D'^2 RC}\\cdot \\dfrac{1}{1+\\dfrac{ R_{on}}{D'^2 R}} & 0\n",
    "\\end{bmatrix} $"
   ]
  },
  {
   "cell_type": "markdown",
   "id": "096a180f",
   "metadata": {},
   "source": [
    "$C = \n",
    "\\begin{bmatrix}\n",
    "0 & 1  \\\\\n",
    "1 & 0\n",
    "\\end{bmatrix}$\n",
    "\n",
    "$E = \n",
    "\\begin{bmatrix}\n",
    "0 & 0 \\\\\n",
    "0 & 0\n",
    "\\end{bmatrix}$"
   ]
  },
  {
   "cell_type": "markdown",
   "id": "523597f6",
   "metadata": {},
   "source": [
    "### System Outputs in Frequency Domain"
   ]
  },
  {
   "cell_type": "markdown",
   "id": "30f9482d",
   "metadata": {},
   "source": [
    "$\\begin{align*}\n",
    "\\dot{\\hat{x}}(t) &= A \\hat{x}(t) + B \\hat{u}(t) \\\\[0.5em]\n",
    "\\dot{\\hat{y}}(t) &= C \\hat{x}(t) + D \\hat{u}(t) \\\\[0.5em]\n",
    " \\text{Laplace Transform } &\\\\[0.5em]\n",
    "s\\hat{x}(s) &= A \\hat{x}(s) + B \\hat{u}(s) \\\\[0.5em]\n",
    "sI\\hat{x}(s) - A \\hat{x}(s) &= B \\hat{u}(s) \\\\[0.5em]\n",
    "\\hat{x}(s) &= \\left(sI-A\\right)^{-1}B \\hat{u}(s) \\\\[0.5em]\n",
    "\\hat{y}(s) &= \\bigg(C(sI-A)^{-1}B +E \\bigg)\\hat{u}(s) = G(s) \\hat{u}(s)\n",
    "\\end{align*}$"
   ]
  },
  {
   "cell_type": "markdown",
   "id": "e915f8d2",
   "metadata": {},
   "source": [
    "**Solver** \n",
    "\n",
    "$G(s) = \n",
    "\\begin{bmatrix}\n",
    "G_{id}(s) & G_{ig}(s) \\\\[1em]\n",
    "G_{vd}(s) & G_{vg}(s)\n",
    "\\end{bmatrix} = \n",
    "$"
   ]
  },
  {
   "cell_type": "code",
   "execution_count": null,
   "id": "a9a65920",
   "metadata": {},
   "outputs": [],
   "source": []
  }
 ],
 "metadata": {
  "interpreter": {
   "hash": "31f2aee4e71d21fbe5cf8b01ff0e069b9275f58929596ceb00d14d90e3e16cd6"
  },
  "kernelspec": {
   "display_name": "Python 3 (ipykernel)",
   "language": "python",
   "name": "python3"
  },
  "language_info": {
   "codemirror_mode": {
    "name": "ipython",
    "version": 3
   },
   "file_extension": ".py",
   "mimetype": "text/x-python",
   "name": "python",
   "nbconvert_exporter": "python",
   "pygments_lexer": "ipython3",
   "version": "3.7.9"
  },
  "varInspector": {
   "cols": {
    "lenName": 16,
    "lenType": 16,
    "lenVar": 40
   },
   "kernels_config": {
    "python": {
     "delete_cmd_postfix": "",
     "delete_cmd_prefix": "del ",
     "library": "var_list.py",
     "varRefreshCmd": "print(var_dic_list())"
    },
    "r": {
     "delete_cmd_postfix": ") ",
     "delete_cmd_prefix": "rm(",
     "library": "var_list.r",
     "varRefreshCmd": "cat(var_dic_list()) "
    }
   },
   "types_to_exclude": [
    "module",
    "function",
    "builtin_function_or_method",
    "instance",
    "_Feature"
   ],
   "window_display": false
  }
 },
 "nbformat": 4,
 "nbformat_minor": 5
}