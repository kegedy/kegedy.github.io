{
 "cells": [
  {
   "cell_type": "markdown",
   "id": "f412d3c7",
   "metadata": {},
   "source": [
    "# Current Drivers for Neural Stimulation"
   ]
  },
  {
   "cell_type": "markdown",
   "id": "41063f3a",
   "metadata": {},
   "source": [
    "..."
   ]
  },
  {
   "cell_type": "markdown",
   "id": "21b78e3c",
   "metadata": {},
   "source": [
    "```{figure} current-source-drivers/TopLevelSchematic.png\n",
    "Top Level View\n",
    "```"
   ]
  },
  {
   "cell_type": "markdown",
   "id": "5e453268",
   "metadata": {},
   "source": [
    "````{sidebar}\n",
    "```{figure} current-source-drivers/ElectrodeDrivers.png\n",
    "---\n",
    "width: 200px\n",
    "---\n",
    "Gain Boosted Driver\n",
    "```\n",
    "````"
   ]
  },
  {
   "cell_type": "markdown",
   "id": "97f2c719",
   "metadata": {},
   "source": [
    "The output resistance is seen as the cascode output resistance multiplied by the gain. The cascode amplifier and PTAT current source are investigated to determine how much gain needs to be designed.\n",
    "\n",
    "$$\n",
    "\\begin{align*}\n",
    "|A_V| &= G_m R_{out} \\\\[0.25em]\n",
    "|A_V| &\\approx g_{m1} \\left[r_{02}+(A_1 + 1)g_{m2} r_{02} + r_{01}\\right] \\\\[0.25em]\n",
    "|A_V| &\\approx g_{m1} \\left[g_{m2} r_{01} r_{02}A_1\\right]\n",
    "\\end{align*}\n",
    "$$\n",
    "\n",
    "The ideal gain for a differential telescopic amp is\n",
    "\n",
    "\n",
    "$$ A_v = g_{m1} (g_{m2} r_{04} r_{05} || g_{m6} r_{06} r_{07}).$$"
   ]
  },
  {
   "cell_type": "code",
   "execution_count": null,
   "id": "be8ae80f",
   "metadata": {},
   "outputs": [],
   "source": []
  }
 ],
 "metadata": {
  "interpreter": {
   "hash": "31f2aee4e71d21fbe5cf8b01ff0e069b9275f58929596ceb00d14d90e3e16cd6"
  },
  "kernelspec": {
   "display_name": "Python 3 (ipykernel)",
   "language": "python",
   "name": "python3"
  },
  "language_info": {
   "codemirror_mode": {
    "name": "ipython",
    "version": 3
   },
   "file_extension": ".py",
   "mimetype": "text/x-python",
   "name": "python",
   "nbconvert_exporter": "python",
   "pygments_lexer": "ipython3",
   "version": "3.7.9"
  },
  "varInspector": {
   "cols": {
    "lenName": 16,
    "lenType": 16,
    "lenVar": 40
   },
   "kernels_config": {
    "python": {
     "delete_cmd_postfix": "",
     "delete_cmd_prefix": "del ",
     "library": "var_list.py",
     "varRefreshCmd": "print(var_dic_list())"
    },
    "r": {
     "delete_cmd_postfix": ") ",
     "delete_cmd_prefix": "rm(",
     "library": "var_list.r",
     "varRefreshCmd": "cat(var_dic_list()) "
    }
   },
   "types_to_exclude": [
    "module",
    "function",
    "builtin_function_or_method",
    "instance",
    "_Feature"
   ],
   "window_display": false
  }
 },
 "nbformat": 4,
 "nbformat_minor": 5
}