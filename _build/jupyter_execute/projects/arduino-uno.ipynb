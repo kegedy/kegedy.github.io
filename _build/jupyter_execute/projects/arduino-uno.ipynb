{
 "cells": [
  {
   "cell_type": "markdown",
   "id": "425bce2f",
   "metadata": {},
   "source": [
    "# Arduino Uno"
   ]
  },
  {
   "cell_type": "markdown",
   "id": "2a2480df",
   "metadata": {},
   "source": [
    "Part of fedeval academy curriculum with Robert Feranec [Learn to Design Your Own Boards](https://academy.fedevel.com/courses/online-want-to-design-your-own-arduino-board). Note, 3D models should be downloaded and used with 3D viewer.\n",
    "\n",
    "- [Schematic](https://kegedy.github.io/arduino-uno-schematic.pdf)  \n",
    "\n",
    "- [3D Model: No Variations](https://kegedy.github.io/arduino-uno-3D-model-no-variations.pdf)  \n",
    "\n",
    "- [3D Model: Fixed 5V](https://kegedy.github.io/arduino-uno-3D-model-fixed-5V.pdf)  \n",
    "\n",
    "- [3D Model: Fixed 5V/3.3V](https://kegedy.github.io/arduino-uno-3D-model-fixed-5V_3V3.pdf)"
   ]
  },
  {
   "cell_type": "markdown",
   "id": "8a66d987",
   "metadata": {},
   "source": [
    "```{figure} arduino-uno/top-side-3D.png\n",
    "Top View\n",
    "```"
   ]
  },
  {
   "cell_type": "markdown",
   "id": "90147809",
   "metadata": {},
   "source": [
    "```{figure} arduino-uno/isometric-3D.png\n",
    "3D View\n",
    "```"
   ]
  },
  {
   "cell_type": "markdown",
   "id": "a60df12b",
   "metadata": {},
   "source": [
    "```{figure} arduino-uno/bottom-side-3D.png\n",
    "Bottom View\n",
    "```"
   ]
  },
  {
   "cell_type": "markdown",
   "id": "0b91344a",
   "metadata": {},
   "source": [
    "```{figure} arduino-uno/pcb-layers.png\n",
    "All Layers\n",
    "```"
   ]
  }
 ],
 "metadata": {
  "interpreter": {
   "hash": "31f2aee4e71d21fbe5cf8b01ff0e069b9275f58929596ceb00d14d90e3e16cd6"
  },
  "kernelspec": {
   "display_name": "Python 3.10.6 64-bit",
   "name": "python3"
  },
  "language_info": {
   "codemirror_mode": {
    "name": "ipython",
    "version": 3
   },
   "file_extension": ".py",
   "mimetype": "text/x-python",
   "name": "python",
   "nbconvert_exporter": "python",
   "pygments_lexer": "ipython3",
   "version": "3.7.9"
  },
  "varInspector": {
   "cols": {
    "lenName": 16,
    "lenType": 16,
    "lenVar": 40
   },
   "kernels_config": {
    "python": {
     "delete_cmd_postfix": "",
     "delete_cmd_prefix": "del ",
     "library": "var_list.py",
     "varRefreshCmd": "print(var_dic_list())"
    },
    "r": {
     "delete_cmd_postfix": ") ",
     "delete_cmd_prefix": "rm(",
     "library": "var_list.r",
     "varRefreshCmd": "cat(var_dic_list()) "
    }
   },
   "types_to_exclude": [
    "module",
    "function",
    "builtin_function_or_method",
    "instance",
    "_Feature"
   ],
   "window_display": false
  }
 },
 "nbformat": 4,
 "nbformat_minor": 5
}