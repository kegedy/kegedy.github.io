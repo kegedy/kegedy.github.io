{
 "cells": [
  {
   "cell_type": "markdown",
   "id": "56d8117d",
   "metadata": {},
   "source": [
    "# ISL6236A\n",
    "\n",
    "Date: October 17, 2021"
   ]
  },
  {
   "cell_type": "markdown",
   "id": "2e792532",
   "metadata": {},
   "source": [
    "The ISL6236A controller generates dual logic-supply voltages in battery-powered systems. \n",
    "\n",
    "Part of fedeval academy curriculum with Robert Feranec [Learn Altium Essentials](https://academy.fedevel.com/courses/online-switching-power-supply-design-course). Based on evaluation kit: [ISL6236EVAL1-Kit](https://kegedy.github.io/ISL6236EVAL1-Kit.pdf). \n",
    "\n",
    "```{eval-rst}\n",
    ".. note::\n",
    "\n",
    "   3D models should be downloaded and used with 3D viewer.\n",
    "```\n",
    "\n",
    "- [Github](https://github.com/kegedy/ISL6236A)\n",
    "\n",
    "- [Schematic](https://kegedy.github.io/ISL6236A-schematic.pdf)  \n",
    "\n",
    "- [3D Model: No Variations](https://kegedy.github.io/ISL6236A-3D-model.pdf) "
   ]
  },
  {
   "cell_type": "markdown",
   "id": "db4c6e97",
   "metadata": {},
   "source": [
    "```{figure} ISL6236A/ISL6236A_schematic.png\n",
    "Schematic\n",
    "```"
   ]
  },
  {
   "cell_type": "markdown",
   "id": "c72486c9",
   "metadata": {},
   "source": [
    "```{figure} ISL6236A/ISL6236A-all-layers.png\n",
    "All Layers\n",
    "```"
   ]
  },
  {
   "cell_type": "markdown",
   "id": "b38ebe09",
   "metadata": {},
   "source": [
    "```{figure} ISL6236A/ISL6236A-top-and-bottom.png\n",
    "Top and Bottom Layers\n",
    "```"
   ]
  },
  {
   "cell_type": "markdown",
   "id": "daab3d0f",
   "metadata": {},
   "source": [
    "```{figure} ISL6236A/ISL6236A-top-3D.png\n",
    "Top 3D View\n",
    "```"
   ]
  },
  {
   "cell_type": "markdown",
   "id": "440ef285",
   "metadata": {},
   "source": [
    "```{figure} ISL6236A/ISL6236A-bottom-3D.png\n",
    "Bottom 3D View\n",
    "```"
   ]
  }
 ],
 "metadata": {
  "interpreter": {
   "hash": "31f2aee4e71d21fbe5cf8b01ff0e069b9275f58929596ceb00d14d90e3e16cd6"
  },
  "kernelspec": {
   "display_name": "Python 3.10.6 64-bit",
   "name": "python3"
  },
  "language_info": {
   "codemirror_mode": {
    "name": "ipython",
    "version": 3
   },
   "file_extension": ".py",
   "mimetype": "text/x-python",
   "name": "python",
   "nbconvert_exporter": "python",
   "pygments_lexer": "ipython3",
   "version": "3.7.9"
  },
  "varInspector": {
   "cols": {
    "lenName": 16,
    "lenType": 16,
    "lenVar": 40
   },
   "kernels_config": {
    "python": {
     "delete_cmd_postfix": "",
     "delete_cmd_prefix": "del ",
     "library": "var_list.py",
     "varRefreshCmd": "print(var_dic_list())"
    },
    "r": {
     "delete_cmd_postfix": ") ",
     "delete_cmd_prefix": "rm(",
     "library": "var_list.r",
     "varRefreshCmd": "cat(var_dic_list()) "
    }
   },
   "types_to_exclude": [
    "module",
    "function",
    "builtin_function_or_method",
    "instance",
    "_Feature"
   ],
   "window_display": false
  }
 },
 "nbformat": 4,
 "nbformat_minor": 5
}