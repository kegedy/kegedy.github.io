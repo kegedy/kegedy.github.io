{
 "cells": [
  {
   "cell_type": "markdown",
   "id": "435ac61f",
   "metadata": {},
   "source": [
    "# Design Review Guide"
   ]
  },
  {
   "cell_type": "markdown",
   "id": "a96c0d12",
   "metadata": {},
   "source": [
    "[Altium: PCB Review Pre-Checklist](https://resources.altium.com/p/pcb-design-and-review-checklist#before-submitting-your-board-for-pcb-design-review)\n",
    "\n",
    "**Required**\n",
    "- Validate project/schematic\n",
    "- Update PCB from schematic\n",
    "- Repour all polygons\n",
    "- Pass DRC (design rule check) with no errors"
   ]
  },
  {
   "cell_type": "markdown",
   "id": "437b97b9",
   "metadata": {},
   "source": [
    "## Altium PCB Filter"
   ]
  },
  {
   "cell_type": "markdown",
   "id": "07419cb0",
   "metadata": {},
   "source": [
    "[Altium Designer Query Language](https://www.altium.com/documentation/altium-designer/working-with-the-query-language#!pcb_filter_panel)"
   ]
  },
  {
   "cell_type": "markdown",
   "id": "f6cc84c5",
   "metadata": {},
   "source": [
    "**Check assembly text is oriented correctly**\n",
    "\n",
    "```\n",
    "IsText and OnLayer('ASM  Top') and  (Rotation = 180000)\n",
    "```"
   ]
  },
  {
   "cell_type": "markdown",
   "id": "ea887c9b",
   "metadata": {},
   "source": [
    "**Find traces of desired widths on a given layer**\n",
    "\n",
    "```\n",
    "(OnLayer('L1') or OnLayer('L2')) and IsTrack and (Width > 0.381)\n",
    "```"
   ]
  },
  {
   "cell_type": "markdown",
   "id": "549aa5f4",
   "metadata": {},
   "source": [
    "**Find unrouted pads on PCB**\n",
    "\n",
    "```\n",
    "(Net='No Net') and (IsPad=True)\n",
    "```"
   ]
  },
  {
   "cell_type": "markdown",
   "id": "dfebb48b",
   "metadata": {},
   "source": [
    "## Simulation"
   ]
  },
  {
   "cell_type": "markdown",
   "id": "67bbca94",
   "metadata": {},
   "source": [
    "[Altium: How to Simulate a PCB Design](https://resources.altium.com/p/pcb-simulation-software#simulations-during-pcb-layout-and-routing)\n",
    " - Front-end PCB Simulation and Analysis  \n",
    " - Impedance Calculations in PCB Stackup Design\n",
    " - Simulations During PCB Layout and Routing\n",
    " - Post-Layout Simulations\n",
    " - More Advanced PCB Simulations"
   ]
  },
  {
   "cell_type": "markdown",
   "id": "5ab9952f",
   "metadata": {},
   "source": [
    "## Decoupling Capacitors"
   ]
  },
  {
   "cell_type": "markdown",
   "id": "e617cf3c",
   "metadata": {},
   "source": [
    "Resource: [Decoupling Capacitor Calculations](https://resources.altium.com/p/what-size-decoupling-capacitor-should-i-use-my-digital-ics)\n",
    "\n",
    "- Use a combination of inrush current calculations and impedance spectrums to minimize PDN impedance"
   ]
  },
  {
   "cell_type": "markdown",
   "id": "3bfe305d",
   "metadata": {},
   "source": [
    "```{figure} img/new-caps-z-spectrum.png\n",
    "---\n",
    "width: 400px\n",
    "---\n",
    "PDN Impedance\n",
    "```"
   ]
  },
  {
   "cell_type": "markdown",
   "id": "e9fc990e",
   "metadata": {},
   "source": [
    "## Vias"
   ]
  },
  {
   "cell_type": "markdown",
   "id": "0ecaa713",
   "metadata": {},
   "source": [
    "Resource: [Via Stitching & Via Shielding](https://www.altium.com/documentation/altium-designer/via-stitching-via-shielding-pcb)\n",
    "\n",
    "**Via Stitching**\n",
    "- maintains low impedance and short return loops\n",
    "\n",
    "**Via Shielding**\n",
    "- reduces crosstalk and electromagnetic interference in RF signals\n",
    "- provides low impedance path for EMI to travel, effectively grounding any stray signals that may be present"
   ]
  },
  {
   "cell_type": "markdown",
   "id": "0bfc74c2",
   "metadata": {},
   "source": [
    "## Power Distribution Network"
   ]
  },
  {
   "cell_type": "markdown",
   "id": "1d2bad3f",
   "metadata": {},
   "source": [
    "Goal is to ensure sufficient current and voltage to all loads.\n",
    "\n",
    "Requirements:\n",
    "- Sufficient copper between sources and loads\n",
    "- Capacitor values and placement\n",
    "- VIAs sizes\n",
    "\n",
    "Tools:\n",
    "- [PDN analyzer](https://resources.altium.com/p/the-basics-of-pdn-for-the-pcb-designer)\n",
    "- [Saturn PCB Design Toolkit](https://saturnpcb.com/saturn-pcb-toolkit/) "
   ]
  },
  {
   "cell_type": "code",
   "execution_count": null,
   "id": "e844bcf8",
   "metadata": {},
   "outputs": [],
   "source": []
  }
 ],
 "metadata": {
  "interpreter": {
   "hash": "31f2aee4e71d21fbe5cf8b01ff0e069b9275f58929596ceb00d14d90e3e16cd6"
  },
  "kernelspec": {
   "display_name": "Python 3.10.6 64-bit",
   "name": "python3"
  },
  "language_info": {
   "codemirror_mode": {
    "name": "ipython",
    "version": 3
   },
   "file_extension": ".py",
   "mimetype": "text/x-python",
   "name": "python",
   "nbconvert_exporter": "python",
   "pygments_lexer": "ipython3",
   "version": "3.7.9"
  },
  "varInspector": {
   "cols": {
    "lenName": 16,
    "lenType": 16,
    "lenVar": 40
   },
   "kernels_config": {
    "python": {
     "delete_cmd_postfix": "",
     "delete_cmd_prefix": "del ",
     "library": "var_list.py",
     "varRefreshCmd": "print(var_dic_list())"
    },
    "r": {
     "delete_cmd_postfix": ") ",
     "delete_cmd_prefix": "rm(",
     "library": "var_list.r",
     "varRefreshCmd": "cat(var_dic_list()) "
    }
   },
   "types_to_exclude": [
    "module",
    "function",
    "builtin_function_or_method",
    "instance",
    "_Feature"
   ],
   "window_display": false
  }
 },
 "nbformat": 4,
 "nbformat_minor": 5
}