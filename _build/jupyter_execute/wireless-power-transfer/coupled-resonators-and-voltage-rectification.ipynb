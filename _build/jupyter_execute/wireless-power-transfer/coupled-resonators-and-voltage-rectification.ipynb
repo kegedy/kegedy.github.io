{
 "cells": [
  {
   "cell_type": "markdown",
   "id": "667a1e6d",
   "metadata": {},
   "source": [
    "# Coupled Resonators and Voltage Rectification"
   ]
  },
  {
   "cell_type": "markdown",
   "id": "b1b57dc6",
   "metadata": {},
   "source": [
    "## Topics"
   ]
  },
  {
   "cell_type": "markdown",
   "id": "118ba2c3",
   "metadata": {},
   "source": [
    "- Mutual inductance of two shielded-loop resonators\n",
    "- Effects of distance and alignment on mutual inductance\n",
    "- Critical coupling distance\n",
    "- Full-wave bridge rectifiers"
   ]
  },
  {
   "cell_type": "markdown",
   "id": "5df0019a",
   "metadata": {},
   "source": [
    "```{figure} img/complete-circuit-model.png\n",
    "Coupled Shielded-Loop Resonator with Load\n",
    "```"
   ]
  },
  {
   "cell_type": "markdown",
   "id": "f4f3f95e",
   "metadata": {},
   "source": [
    "## Calculating Mutual Inductance"
   ]
  },
  {
   "cell_type": "markdown",
   "id": "9da35ea2",
   "metadata": {},
   "source": [
    "```{figure} img/axially-aligned-coupled-loops.png\n",
    "Mutual Inductance for Axially Aligned Coupled Loops\n",
    "```"
   ]
  },
  {
   "cell_type": "markdown",
   "id": "4023babb",
   "metadata": {},
   "source": [
    "$$\n",
    "\\begin{align*}\n",
    "M = \\mu \\sqrt{r_1 r_2}\\bigg((\\dfrac{2}{k} - k)\\ K(k) - \\dfrac{2}{k}E(k) \\bigg)\n",
    "\\end{align*}\n",
    "$$  \n",
    "\n",
    "where $K(k)$ is the complete elliptical integral with radius $r_1$ and $E(k)$ is the complete elliptical integral with radius $r_2$.\n",
    "\n",
    "$$\n",
    "\\begin{align*}\n",
    "K(k) &= \\int_{0}^{\\frac{\\pi}{2}} \\dfrac{d \\beta}{\\sqrt{1-k^2 sin^2 \\beta}} \\\\[0.5em]\n",
    "E(k) &= \\int_{0}^{\\frac{\\pi}{2}} d\\beta \\sqrt{1-k^2 sin^2 \\beta} \\\\[0.5em]\n",
    "k &= \\sqrt{\\dfrac{4r_1 r_2}{(r_1 + r_2)^2 + d^2}}\n",
    "\\end{align*}\n",
    "$$  "
   ]
  },
  {
   "cell_type": "markdown",
   "id": "be41752a",
   "metadata": {},
   "source": [
    "## Input Impedance of Coupled Shielded-Loop Resonators"
   ]
  },
  {
   "cell_type": "markdown",
   "id": "e3e00f6c",
   "metadata": {},
   "source": [
    "At resonance, the input impedance to the coupled shielded-loop simplifies to\n",
    "\n",
    "$$\n",
    "\\begin{align*}\n",
    "Z_{in} &= \\dfrac{v_x}{i_1} = R_1 + j\\bigg(\\omega L_1 - \\dfrac{1}{\\omega C_1} \\bigg) + \\dfrac{(\\omega M)^2}{R_2 + R_L + j\\bigg(\\omega L_2 - \\dfrac{1}{\\omega C_2} \\bigg)} \\bigg|_{\\ \\omega \\ = \\ \\omega_0} \\\\[0.5em]\n",
    "Z_{in}(\\omega_0) &= R_{in}(\\omega_0) = R_1 + \\dfrac{(\\omega_0 M)^2}{R_2 + R_L} \n",
    "\\end{align*}\n",
    "$$"
   ]
  },
  {
   "cell_type": "markdown",
   "id": "e01a066b",
   "metadata": {},
   "source": [
    "## Feedline Effects"
   ]
  },
  {
   "cell_type": "markdown",
   "id": "a0b3bacf",
   "metadata": {},
   "source": [
    "The load impedance $Z_L$ is designed to the characteristic impedance $Z_0$ of the transmission line to eliminate feedline effect and reduce the circuit model.\n",
    "\n",
    "$$Z_L = Z_0 = 50 \\Omega$$"
   ]
  },
  {
   "cell_type": "markdown",
   "id": "2283f51e",
   "metadata": {},
   "source": [
    "```{figure} img/impedance-simplification.png\n",
    "Mutual Inductance for Axially Aligned Coupled Loops\n",
    "```"
   ]
  },
  {
   "cell_type": "markdown",
   "id": "0e65eed7",
   "metadata": {},
   "source": [
    "## Weak, Critical and Strong Coupling"
   ]
  },
  {
   "cell_type": "markdown",
   "id": "d6c64dab",
   "metadata": {},
   "source": [
    "Isolated loop resonance occurs when\n",
    "\n",
    "$$\\omega = \\omega_0 = \\dfrac{1}{\\sqrt{LC}} $$"
   ]
  },
  {
   "cell_type": "markdown",
   "id": "c2b3fc46",
   "metadata": {},
   "source": [
    "Coupled loop resonance also occurs when\n",
    "\n",
    "$$\\bigg(\\omega L - \\dfrac{1}{\\omega C} \\bigg)^2 = (\\omega M)^2 - (R + R_L)^2 $$"
   ]
  },
  {
   "cell_type": "markdown",
   "id": "de99ae58",
   "metadata": {},
   "source": [
    "Solving this quadratic equation results in multiple solutions depending on the mutual inductance and/or distance.  \n",
    "\n",
    "**Strong coupling**\n",
    "$$\\omega M > R + R_L$$\n",
    "\n",
    "- Odd mode solution: resonance is slightly less than $\\omega_0$ and the currents in the coupled loops are 180° out-of-phase\n",
    "- Even mode solution: resonance is slightly greater than $\\omega_0$ and the currents in the coupled loops are in-phase\n",
    "- Resonant frequency $\\omega_0$, the current in the load loop leads that of the source loop by approximately 90°"
   ]
  },
  {
   "cell_type": "markdown",
   "id": "eadadb04",
   "metadata": {},
   "source": [
    "**Critical coupling**\n",
    "\n",
    "$$\\omega M = R + R_L$$\n",
    "\n",
    "The even and odd mode frequencies merge into the resonant frequency $\\omega_0$"
   ]
  },
  {
   "cell_type": "markdown",
   "id": "20da20fd",
   "metadata": {},
   "source": [
    "**Weak coupling**\n",
    "\n",
    "$$\\omega M < R + R_L$$\n",
    "\n",
    "In weak coupling, there is only one resonant frequency $\\omega_0$"
   ]
  },
  {
   "cell_type": "markdown",
   "id": "ac81f165",
   "metadata": {},
   "source": [
    "## Power Transfer"
   ]
  },
  {
   "cell_type": "markdown",
   "id": "005ecb45",
   "metadata": {},
   "source": [
    "The power transfer efficiency of a wireless power transfer system is the ratio of power delivered to the\n",
    "load $P_L$ and the power available from the source $P_A$."
   ]
  },
  {
   "cell_type": "markdown",
   "id": "5f2fb2a8",
   "metadata": {},
   "source": [
    "$$P_A = \\dfrac{|V_S|^2}{8Re\\{Z_S\\}}$$\n",
    "\n",
    "- $Z_S$ characteristic impedance of the voltage source where $Re\\{Z_S\\} = R_S$\n",
    "- $V_S$ peak voltage of the source\n",
    "- $P_A$ power available from the source if the source impedance is terminated in an impedance equal to its complex conjugate"
   ]
  },
  {
   "cell_type": "markdown",
   "id": "0b343db4",
   "metadata": {},
   "source": [
    "For a system operating at critical or weak coupling, the power transfer efficiency is  \n",
    "\n",
    "$$\\eta = \\dfrac{4R_L^2(\\omega_0 M)^2}{\\bigg((R+R_L)^2 + (\\omega_0 M)^2\\bigg)^2}$$"
   ]
  },
  {
   "cell_type": "markdown",
   "id": "d80ff60d",
   "metadata": {},
   "source": [
    "For a system operating at strong coupling, the power transfer efficiency is  \n",
    "\n",
    "$$\\eta = \\dfrac{R_L^2}{(R+R_L)^2}$$"
   ]
  },
  {
   "cell_type": "markdown",
   "id": "596da594",
   "metadata": {},
   "source": [
    "## Voltage Rectification"
   ]
  },
  {
   "cell_type": "code",
   "execution_count": null,
   "id": "be53e704",
   "metadata": {},
   "outputs": [],
   "source": []
  }
 ],
 "metadata": {
  "kernelspec": {
   "display_name": "Python 3 (ipykernel)",
   "language": "python",
   "name": "python3"
  },
  "language_info": {
   "codemirror_mode": {
    "name": "ipython",
    "version": 3
   },
   "file_extension": ".py",
   "mimetype": "text/x-python",
   "name": "python",
   "nbconvert_exporter": "python",
   "pygments_lexer": "ipython3",
   "version": "3.7.9"
  },
  "varInspector": {
   "cols": {
    "lenName": 16,
    "lenType": 16,
    "lenVar": 40
   },
   "kernels_config": {
    "python": {
     "delete_cmd_postfix": "",
     "delete_cmd_prefix": "del ",
     "library": "var_list.py",
     "varRefreshCmd": "print(var_dic_list())"
    },
    "r": {
     "delete_cmd_postfix": ") ",
     "delete_cmd_prefix": "rm(",
     "library": "var_list.r",
     "varRefreshCmd": "cat(var_dic_list()) "
    }
   },
   "types_to_exclude": [
    "module",
    "function",
    "builtin_function_or_method",
    "instance",
    "_Feature"
   ],
   "window_display": false
  }
 },
 "nbformat": 4,
 "nbformat_minor": 5
}