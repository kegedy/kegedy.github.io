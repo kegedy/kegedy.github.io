{
 "cells": [
  {
   "cell_type": "markdown",
   "id": "ce100e83",
   "metadata": {},
   "source": [
    "# Coupled Resonators and Voltage Rectification"
   ]
  },
  {
   "cell_type": "markdown",
   "id": "8c7c80d2",
   "metadata": {},
   "source": [
    "## Topics"
   ]
  },
  {
   "cell_type": "markdown",
   "id": "48b82ee0",
   "metadata": {},
   "source": [
    "- Mutual inductance of two shielded-loop resonators\n",
    "- Effects of distance and alignment on mutual inductance\n",
    "- Critical coupling distance\n",
    "- Full-wave bridge rectifiers"
   ]
  },
  {
   "cell_type": "markdown",
   "id": "d97779bc",
   "metadata": {},
   "source": [
    "```{figure} img/complete-circuit-model.png\n",
    "Coupled Shielded-Loop Resonator with Load\n",
    "```"
   ]
  },
  {
   "cell_type": "markdown",
   "id": "cb10ee4e",
   "metadata": {},
   "source": [
    "## Calculating Mutual Inductance"
   ]
  },
  {
   "cell_type": "markdown",
   "id": "0cee3c32",
   "metadata": {},
   "source": [
    "```{figure} img/axially-aligned-coupled-loops.png\n",
    "Mutual Inductance for Axially Aligned Coupled Loops\n",
    "```"
   ]
  },
  {
   "cell_type": "markdown",
   "id": "1e8d8989",
   "metadata": {},
   "source": [
    "$$\n",
    "\\begin{align*}\n",
    "M = \\mu \\sqrt{r_1 r_2}\\bigg((\\dfrac{2}{k} - k)\\ K(k) - \\dfrac{2}{k}E(k) \\bigg)\n",
    "\\end{align*}\n",
    "$$  \n",
    "\n",
    "where $K(k)$ is the complete elliptical integral with radius $r_1$ and $E(k)$ is the complete elliptical integral with radius $r_2$.\n",
    "\n",
    "$$\n",
    "\\begin{align*}\n",
    "K(k) &= \\int_{0}^{\\frac{\\pi}{2}} \\dfrac{d \\beta}{\\sqrt{1-k^2 sin^2 \\beta}} \\\\[0.5em]\n",
    "E(k) &= \\int_{0}^{\\frac{\\pi}{2}} d\\beta \\sqrt{1-k^2 sin^2 \\beta} \\\\[0.5em]\n",
    "k &= \\sqrt{\\dfrac{4r_1 r_2}{(r_1 + r_2)^2 + d^2}}\n",
    "\\end{align*}\n",
    "$$  "
   ]
  },
  {
   "cell_type": "markdown",
   "id": "a6526ff7",
   "metadata": {},
   "source": [
    "## Input Impedance of Coupled Shielded-Loop Resonators"
   ]
  },
  {
   "cell_type": "markdown",
   "id": "59e8832d",
   "metadata": {},
   "source": [
    "At resonance, the input impedance to the coupled shielded-loop simplifies to\n",
    "\n",
    "$$\n",
    "\\begin{align*}\n",
    "Z_{in} &= \\dfrac{v_x}{i_1} = R_1 + j\\bigg(\\omega L_1 - \\dfrac{1}{\\omega C_1} \\bigg) + \\dfrac{(\\omega M)^2}{R_2 + R_L + j\\bigg(\\omega L_2 - \\dfrac{1}{\\omega C_2} \\bigg)} \\bigg|_{\\ \\omega \\ = \\ \\omega_0} \\\\[0.5em]\n",
    "Z_{in}(\\omega_0) &= R_{in}(\\omega_0) = R_1 + \\dfrac{(\\omega_0 M)^2}{R_2 + R_L} \n",
    "\\end{align*}\n",
    "$$"
   ]
  },
  {
   "cell_type": "markdown",
   "id": "9c9b134f",
   "metadata": {},
   "source": [
    "## Feedline Effects"
   ]
  },
  {
   "cell_type": "markdown",
   "id": "04e5a7d4",
   "metadata": {},
   "source": [
    "The load impedance $Z_L$ is designed to the characteristic impedance $Z_0$ of the transmission line to eliminate feedline effect and reduce the circuit model.\n",
    "\n",
    "$$Z_L = Z_0 = 50 \\Omega$$"
   ]
  },
  {
   "cell_type": "markdown",
   "id": "a7b61f89",
   "metadata": {},
   "source": [
    "```{figure} img/impedance-simplification.png\n",
    "Impedance Simplification\n",
    "```"
   ]
  },
  {
   "cell_type": "markdown",
   "id": "4161aca6",
   "metadata": {},
   "source": [
    "## Weak, Critical and Strong Coupling"
   ]
  },
  {
   "cell_type": "markdown",
   "id": "c64fa1a9",
   "metadata": {},
   "source": [
    "Isolated loop resonance occurs when\n",
    "\n",
    "$$\\omega = \\omega_0 = \\dfrac{1}{\\sqrt{LC}} $$"
   ]
  },
  {
   "cell_type": "markdown",
   "id": "2efd13fd",
   "metadata": {},
   "source": [
    "Coupled loop resonance also occurs when\n",
    "\n",
    "$$\\bigg(\\omega L - \\dfrac{1}{\\omega C} \\bigg)^2 = (\\omega M)^2 - (R + R_L)^2 $$"
   ]
  },
  {
   "cell_type": "markdown",
   "id": "7c5672ce",
   "metadata": {},
   "source": [
    "Solving this quadratic equation results in multiple solutions depending on the mutual inductance as a function of distance.  \n",
    "\n",
    "**Strong coupling**  \n",
    "\n",
    "$$\\omega M > R + R_L$$\n",
    "\n",
    "- **Odd mode solution:** frequency is slightly less than $\\omega_0$ and the currents in the coupled loops are 180° out-of-phase\n",
    "- **Even mode solution:** frequency is slightly greater than $\\omega_0$ and the currents in the coupled loops are in-phase\n",
    "- **Resonant frequency:** $\\omega_0$ the current in the load loop leads that of the source loop by approximately 90°"
   ]
  },
  {
   "cell_type": "markdown",
   "id": "b762a3b4",
   "metadata": {},
   "source": [
    "**Critical coupling**\n",
    "\n",
    "$$\\omega M = R + R_L$$\n",
    "\n",
    "The even and odd mode frequencies merge into the resonant frequency $\\omega_0$"
   ]
  },
  {
   "cell_type": "markdown",
   "id": "ffd06f46",
   "metadata": {},
   "source": [
    "**Weak coupling**\n",
    "\n",
    "$$\\omega M < R + R_L$$\n",
    "\n",
    "In weak coupling, there is only one resonant frequency $\\omega_0$"
   ]
  },
  {
   "cell_type": "markdown",
   "id": "0128638b",
   "metadata": {},
   "source": [
    "## Power Transfer"
   ]
  },
  {
   "cell_type": "markdown",
   "id": "f53ad637",
   "metadata": {},
   "source": [
    "The power transfer efficiency of a wireless power transfer system is the ratio of power delivered to the\n",
    "load $P_L$ and the power available from the source $P_A$."
   ]
  },
  {
   "cell_type": "markdown",
   "id": "1b11beb4",
   "metadata": {},
   "source": [
    "$$P_A = \\dfrac{|V_S|^2}{8Re\\{Z_S\\}}$$\n",
    "\n",
    "- $Z_S$ characteristic impedance of the voltage source where $Re\\{Z_S\\} = R_S$\n",
    "- $V_S$ peak voltage of the source\n",
    "- $P_A$ power available from the source if the source impedance is terminated in an impedance equal to its complex conjugate"
   ]
  },
  {
   "cell_type": "markdown",
   "id": "d61e9eb5",
   "metadata": {},
   "source": [
    "For a system operating at critical or weak coupling, the power transfer efficiency is  \n",
    "\n",
    "$$\\eta = \\dfrac{4R_L^2(\\omega_0 M)^2}{\\bigg((R+R_L)^2 + (\\omega_0 M)^2\\bigg)^2}$$"
   ]
  },
  {
   "cell_type": "markdown",
   "id": "d113fd91",
   "metadata": {},
   "source": [
    "For a system operating at strong coupling (even or odd), the power transfer efficiency is  \n",
    "\n",
    "$$\\eta = \\dfrac{R_L^2}{(R+R_L)^2}$$"
   ]
  },
  {
   "cell_type": "markdown",
   "id": "6c00fa87",
   "metadata": {},
   "source": [
    "For matched source and load impedances ($50 \\Omega$), the power transfer efficiency is\n",
    "\n",
    "$$\\eta = |S_{21}|^2$$"
   ]
  },
  {
   "cell_type": "markdown",
   "id": "156de0f8",
   "metadata": {},
   "source": [
    "## Voltage Rectification"
   ]
  },
  {
   "cell_type": "markdown",
   "id": "bfdf2098",
   "metadata": {},
   "source": [
    "```{figure} img/full-wave-bridge-rectifier.png\n",
    "Full Wave Bridge Rectifier\n",
    "```\n",
    "In this circuit, the negative cycle of the input AC signal is not blocked. Instead it is converted to a\n",
    "positive value for the RC filter to “smooth”"
   ]
  },
  {
   "cell_type": "markdown",
   "id": "dbcadd94",
   "metadata": {},
   "source": [
    "Given metrics since vector analyzer has maximum output power of 0 dBm.\n",
    "\n",
    "|   | Input Return Loss (dB)  | Input Impedance ($\\Omega$)  |\n",
    "|:---|:---:|:---:|\n",
    "| Rectifier at $\\omega = \\omega_0$  | $-0.486$ | $9.221 - j119.4$   |"
   ]
  },
  {
   "cell_type": "markdown",
   "id": "3bbdd0d0",
   "metadata": {},
   "source": [
    "## Measurements"
   ]
  },
  {
   "cell_type": "markdown",
   "id": "b3c026ee",
   "metadata": {},
   "source": [
    "**5 cm loop and $\\omega = \\omega_0$**\n",
    "\n",
    "| Distance (cm) | $\\Gamma_{in}' (mU)$ | $S_{21} (dB)$  | $R_{in}$  | $M (calc.)$  | $\\eta (calc.)$  |\n",
    "|:---:|:---|:---|:---|:---|:---|\n",
    "| 2  |   |   |   |   |   |\n",
    "| 4  |   |   |   |   |   |\n",
    "| 6  |   |   |   |   |   |\n",
    "| 8  |   |   |   |   |   |\n",
    "| 10  |   |   |   |   |   |\n",
    "| 12  |   |   |   |   |   |\n",
    "| 14  |   |   |   |   |   |\n",
    "| 16  |   |   |   |   |   |"
   ]
  },
  {
   "cell_type": "markdown",
   "id": "e8bbd9e5",
   "metadata": {},
   "source": [
    "**9 cm loop and $\\omega = \\omega_0$**\n",
    "\n",
    "| Distance (cm) | $\\Gamma_{in}' (mU)$ | $S_{21} (dB)$  | $R_{in}$  | $M (calc.)$  | $\\eta (calc.)$  |\n",
    "|:---:|:---|:---|:---|:---|:---|\n",
    "| 2  |   |   |   |   |   |\n",
    "| 4  |   |   |   |   |   |\n",
    "| 6  |   |   |   |   |   |\n",
    "| 8  |   |   |   |   |   |\n",
    "| 10  |   |   |   |   |   |\n",
    "| 12  |   |   |   |   |   |\n",
    "| 14  |   |   |   |   |   |\n",
    "| 16  |   |   |   |   |   |"
   ]
  },
  {
   "cell_type": "code",
   "execution_count": null,
   "id": "e62cba3e",
   "metadata": {},
   "outputs": [],
   "source": []
  }
 ],
 "metadata": {
  "interpreter": {
   "hash": "31f2aee4e71d21fbe5cf8b01ff0e069b9275f58929596ceb00d14d90e3e16cd6"
  },
  "kernelspec": {
   "display_name": "Python 3.10.6 64-bit",
   "name": "python3"
  },
  "language_info": {
   "codemirror_mode": {
    "name": "ipython",
    "version": 3
   },
   "file_extension": ".py",
   "mimetype": "text/x-python",
   "name": "python",
   "nbconvert_exporter": "python",
   "pygments_lexer": "ipython3",
   "version": "3.7.9"
  },
  "varInspector": {
   "cols": {
    "lenName": 16,
    "lenType": 16,
    "lenVar": 40
   },
   "kernels_config": {
    "python": {
     "delete_cmd_postfix": "",
     "delete_cmd_prefix": "del ",
     "library": "var_list.py",
     "varRefreshCmd": "print(var_dic_list())"
    },
    "r": {
     "delete_cmd_postfix": ") ",
     "delete_cmd_prefix": "rm(",
     "library": "var_list.r",
     "varRefreshCmd": "cat(var_dic_list()) "
    }
   },
   "types_to_exclude": [
    "module",
    "function",
    "builtin_function_or_method",
    "instance",
    "_Feature"
   ],
   "window_display": false
  }
 },
 "nbformat": 4,
 "nbformat_minor": 5
}