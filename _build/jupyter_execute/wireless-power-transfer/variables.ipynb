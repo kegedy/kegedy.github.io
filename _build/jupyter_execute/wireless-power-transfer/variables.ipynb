{
 "cells": [
  {
   "cell_type": "markdown",
   "id": "7c9017fc",
   "metadata": {},
   "source": [
    "# Definition of Variables"
   ]
  },
  {
   "cell_type": "markdown",
   "id": "ed4cb2e4",
   "metadata": {},
   "source": [
    "[Wikipedia: electrical length](https://www.wikiwand.com/en/Electrical_length)"
   ]
  },
  {
   "cell_type": "markdown",
   "id": "fb5c3265",
   "metadata": {},
   "source": [
    "| Symbol  | <div style=\"width:150px\">Unit</div>  | <div style=\"width:250px\">Definition</div>  |\n",
    "|:-------:|:------:|:------------|\n",
    "| $\\beta$       | 1 / meter            | Wavenumber of wave in conductor $= 2\\pi/\\lambda$   |\n",
    "| $\\epsilon$    | farads / meter       | Permittivity per meter of the dielectric in cable  |\n",
    "| $\\epsilon_0$  | farads / meter       | Permittivity of free space (constant)  |\n",
    "| $\\epsilon_{\\text{eff}}$  | farads / meter  | Effective relative permittivity per meter of cable  |\n",
    "| $\\epsilon_r$  | none                 | Relative permittivity of the dielectric in cable  |\n",
    "| $\\kappa$      | none                 | Velocity factor of current in conductor $ = \\nu_p\\ /\\ c$  |\n",
    "| $\\lambda$     | meter                | Wavelength of radio waves in conductor   |\n",
    "| $\\lambda_0$   | meter                | Wavelength of radio waves in free space  |\n",
    "| $\\mu$         | henries / meter      | Effective magnetic permeability per meter of cable  |\n",
    "| $\\mu_0$       | henries / meter      | Permeability of free space (constant)  |\n",
    "| $\\mu_r$       | none                 | Relative permeability of dielectric in cable  |\n",
    "| $\\nu$         | none                 | Index of refraction of dielectric material  |\n",
    "| $\\phi$        | radians or degrees   | Phase shift of current between the ends of the conductor  |\n",
    "| $\\omega$      | radians / second     | Angular frequency of alternating current $ = 2 \\pi f$ |\n",
    "| $c$           | meters / second      | Speed of light in vacuum  |\n",
    "| $C$           | farads / meter       | Shunt capacitance per unit length of the conductor  |\n",
    "| $f$           | hertz                | Frequency of radio waves  |\n",
    "| $F$           | none                 | Fraction of space filled with dielectric, fill factor of a transmission line  |\n",
    "| $G$           | none                 | Electrical length of conductor  |\n",
    "| $G_0$         | none                 | Electrical length of electromagnetic wave in free space  |\n",
    "| $l$           | meter                | Length of the conductor  |\n",
    "| $L$           | henries / meter      | Inductance per unit length of the conductor  |\n",
    "| $T$           | second               | Period of radio waves  |\n",
    "| $t$           | second               | Time  |\n",
    "| $\\nu_p$       | meters / second      | Phase velocity of current in conductor  |\n",
    "| $x$           | meter                | Distance along conductor  |"
   ]
  },
  {
   "cell_type": "code",
   "execution_count": null,
   "id": "23007ffa",
   "metadata": {},
   "outputs": [],
   "source": []
  }
 ],
 "metadata": {
  "interpreter": {
   "hash": "31f2aee4e71d21fbe5cf8b01ff0e069b9275f58929596ceb00d14d90e3e16cd6"
  },
  "kernelspec": {
   "display_name": "Python 3.10.6 64-bit",
   "name": "python3"
  },
  "language_info": {
   "codemirror_mode": {
    "name": "ipython",
    "version": 3
   },
   "file_extension": ".py",
   "mimetype": "text/x-python",
   "name": "python",
   "nbconvert_exporter": "python",
   "pygments_lexer": "ipython3",
   "version": "3.7.9"
  },
  "varInspector": {
   "cols": {
    "lenName": 16,
    "lenType": 16,
    "lenVar": 40
   },
   "kernels_config": {
    "python": {
     "delete_cmd_postfix": "",
     "delete_cmd_prefix": "del ",
     "library": "var_list.py",
     "varRefreshCmd": "print(var_dic_list())"
    },
    "r": {
     "delete_cmd_postfix": ") ",
     "delete_cmd_prefix": "rm(",
     "library": "var_list.r",
     "varRefreshCmd": "cat(var_dic_list()) "
    }
   },
   "types_to_exclude": [
    "module",
    "function",
    "builtin_function_or_method",
    "instance",
    "_Feature"
   ],
   "window_display": false
  }
 },
 "nbformat": 4,
 "nbformat_minor": 5
}