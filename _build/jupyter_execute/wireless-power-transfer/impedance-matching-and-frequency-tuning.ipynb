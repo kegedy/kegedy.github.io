{
 "cells": [
  {
   "cell_type": "markdown",
   "id": "b149112b",
   "metadata": {},
   "source": [
    "# Impedance Matching and Frequency Tuning"
   ]
  },
  {
   "cell_type": "markdown",
   "id": "9aca149a",
   "metadata": {},
   "source": [
    "## Topics"
   ]
  },
  {
   "cell_type": "markdown",
   "id": "bfbb5191",
   "metadata": {},
   "source": [
    "- Lumped element matching circuits\n",
    "- Frequency-tuned, wireless non-radiative power transfer systems\n",
    "- Lighting up a light-emitting diode (LED) using a WNPT system\n",
    "- Use frequency tuning to maintain the brightness of the LED"
   ]
  },
  {
   "cell_type": "markdown",
   "id": "b915dfed",
   "metadata": {},
   "source": [
    "## Complex-Conjugate Matching"
   ]
  },
  {
   "cell_type": "markdown",
   "id": "b4ad776a",
   "metadata": {},
   "source": [
    "**Given**\n",
    "\n",
    "$$\n",
    "\\begin{align*}\n",
    "Z_S &= R_S + jX_S \\\\[0.5em]\n",
    "Z_L &= R_L + jX_L \n",
    "\\end{align*}\n",
    "$$"
   ]
  },
  {
   "cell_type": "markdown",
   "id": "5a10190c",
   "metadata": {},
   "source": [
    "```{figure} img/complex-conjugate-matching.png\n",
    "Reference Circuit\n",
    "width: 250px\n",
    "```"
   ]
  },
  {
   "cell_type": "markdown",
   "id": "16e022a7",
   "metadata": {},
   "source": [
    "Given\n",
    "\n",
    "$$\n",
    "\\begin{align*}\n",
    "Z_S &= R_S + jX_S \\\\[0.5em]\n",
    "Z_L &= R_L + jX_L \n",
    "\\end{align*}\n",
    "$$"
   ]
  },
  {
   "cell_type": "markdown",
   "id": "1f19dbbd",
   "metadata": {},
   "source": [
    "Voltage and current across load $Z_L$ is defined as\n",
    "\n",
    "$$\n",
    "\\begin{align*}\n",
    "v_A &= v_S \\dfrac{Z_L}{Z_S + Z_L} \\\\[0.5em]\n",
    "i &= \\dfrac{v_S}{Z_S + Z_L}\n",
    "\\end{align*}\n",
    "$$"
   ]
  },
  {
   "cell_type": "markdown",
   "id": "bdccb4e6",
   "metadata": {},
   "source": [
    "Power $P_D$ delivered to load $Z_L$ is \n",
    "\n",
    "$$\n",
    "\\begin{align*}\n",
    "P_D = \\dfrac{1}{2} Re\\{v_A i^* \\} &= \\dfrac{|v_S|^2}{2} \\dfrac{Re\\{Z_L \\}}{|Z_S + Z_L|^2} \\\\[0.5em]\n",
    "    &= \\dfrac{|v_S|^2}{2} \\dfrac{R_L}{(R_S+R_L)^2 + (X_S + X_L)^2}\n",
    "\\end{align*}\n",
    "$$"
   ]
  },
  {
   "cell_type": "markdown",
   "id": "278d023c",
   "metadata": {},
   "source": [
    "Analyzing the power relation, it is shown that maximum power transfer occurs when $Z_S = Z_L^*$."
   ]
  },
  {
   "cell_type": "markdown",
   "id": "1523e8d8",
   "metadata": {},
   "source": [
    "```{figure} img/two-port-network.png\n",
    "Impedance Matched, Two Port Network\n",
    "```"
   ]
  },
  {
   "cell_type": "markdown",
   "id": "836b6dbd",
   "metadata": {},
   "source": [
    "<hr>\n",
    "\n",
    "## Matching Network Topologies"
   ]
  },
  {
   "cell_type": "markdown",
   "id": "a5b9897a",
   "metadata": {},
   "source": [
    "Lumped element matching networks are chosen for this design since the resonating frequencies are less than 100 MHz. Other solutions are obtained with transmission line models, however it is difficult to design reasonably sized lines and stubs due to the operating frequencies. Set input impedance $Z_S = Z_0$ and find the matching network for load $Z_L = R_L + jX_L$."
   ]
  },
  {
   "cell_type": "markdown",
   "id": "7bf99f58",
   "metadata": {},
   "source": [
    "```{figure} img/matching-network-topologies.png\n",
    "Left: Load-Parallel-Series;      Right: Load-Series-Parallel\n",
    "```"
   ]
  },
  {
   "cell_type": "markdown",
   "id": "74361d26",
   "metadata": {},
   "source": [
    "**Lump Element: Load-Parallel-Series**\n",
    "\n",
    "$$\n",
    "\\begin{align*}\n",
    "X_s &= -Xp + \\dfrac{X_L Z_0}{R_L} + \\dfrac{X_p Z_0}{R_L} \\\\[0.5em]\n",
    "X_p &= -\\dfrac{R_L^2 + X_L^2}{X_L \\pm \\sqrt{R_L/Z_0}\\sqrt{R_L^2 + X_L^2 - Z_0 R_L}}\n",
    "\\end{align*}\n",
    "$$"
   ]
  },
  {
   "cell_type": "markdown",
   "id": "0615a93e",
   "metadata": {},
   "source": [
    "**Solution Conditions**\n",
    "\n",
    "$$\n",
    "\\begin{align*}\n",
    "Re\\{{\\dfrac{1}{Z_L}}\\} < \\dfrac{1}{Z_0} \\\\[0.5em]\n",
    "\\dfrac{R_L}{R_L^2 + X_L^2} < \\dfrac{1}{Z_0} \\\\[0.5em]\n",
    "R_L^2 + X_L^2 - Z_0 R_L > 0\n",
    "\\end{align*}\n",
    "$$"
   ]
  },
  {
   "cell_type": "markdown",
   "id": "e4eccfdf",
   "metadata": {},
   "source": [
    "**Lump Element: Load-Series-Parallel**\n",
    "\n",
    "$$\n",
    "\\begin{align*}\n",
    "X_s &= \\sqrt{R_L(Z_0 - R_L)} - X_L & \\ &\n",
    "X_p = -\\dfrac{\\sqrt{R_L}Z_0}{\\sqrt{Z_0-R_L}} \\\\\n",
    "X_s &= -\\sqrt{R_L(Z_0 - R_L)} - X_L & \\ &\n",
    "X_p = \\dfrac{\\sqrt{R_L}Z_0}{\\sqrt{Z_0-R_L}}\n",
    "\\end{align*}\n",
    "$$"
   ]
  },
  {
   "cell_type": "markdown",
   "id": "41beb0f9",
   "metadata": {},
   "source": [
    "<hr>\n",
    "\n",
    "## Simultaneous Matching"
   ]
  },
  {
   "cell_type": "markdown",
   "id": "494c31e9",
   "metadata": {},
   "source": [
    "```{figure} img/ideal-coupled-shielded-loop-resonators-with-matching-networks.png\n",
    "Coupled Shielded-Loop Resonators with Matching Networks\n",
    "```"
   ]
  },
  {
   "cell_type": "markdown",
   "id": "9f22c225",
   "metadata": {},
   "source": [
    "Inductively-coupled RLC circuits assuming identical loops\n",
    "\n",
    "$$\n",
    "\\begin{align*}\n",
    "Z_{in} &= R + j\\bigg(\\omega L - \\dfrac{1}{\\omega C} \\bigg) + \\dfrac{(\\omega M)^2}{R + Z_L + j\\bigg(\\omega L - \\dfrac{1}{\\omega C} \\bigg)} \\\\[0.5em]\n",
    "Z_{out} &= R + j\\bigg(\\omega L - \\dfrac{1}{\\omega C} \\bigg) + \\dfrac{(\\omega M)^2}{R + Z_S + j\\bigg(\\omega L - \\dfrac{1}{\\omega C} \\bigg)}\n",
    "\\end{align*}\n",
    "$$"
   ]
  },
  {
   "cell_type": "markdown",
   "id": "6688b855",
   "metadata": {},
   "source": [
    "For a simultaneous, complex-conjugate match, we must ensure that\n",
    "\n",
    "$$\n",
    "\\begin{align*}\n",
    "Z_S &= Z_{in}^* \\\\[0.5em]\n",
    "Z_L &= Z_{out}^*\n",
    "\\end{align*}\n",
    "$$"
   ]
  },
  {
   "cell_type": "markdown",
   "id": "7de0caa8",
   "metadata": {},
   "source": [
    "Then the simulataneous matching is satisfied by\n",
    "\n",
    "$$\n",
    "\\begin{align*}\n",
    "Z_{L}^{OPT} = Z_{S}^{OPT} = j\\bigg(\\omega L - \\dfrac{1}{\\omega C}\\bigg) + \\sqrt{R^2 + (\\omega M)^2}\n",
    "\\end{align*}\n",
    "$$"
   ]
  },
  {
   "cell_type": "markdown",
   "id": "e396874a",
   "metadata": {},
   "source": [
    "```{figure} img/coupled-shielded-loop-resonators-with-matching-networks.png\n",
    "Including Feedline Effects\n",
    "```"
   ]
  },
  {
   "cell_type": "markdown",
   "id": "f7da835f",
   "metadata": {},
   "source": [
    "Factoring in feedline effects, the adjusted source and load impedance become\n",
    "\n",
    "$$\n",
    "\\begin{align*}\n",
    "Z_{S}^{'} &= Z_0 \\dfrac{Z_S - j Z_0 \\tan(\\beta l)}{Z_0 - j Z_S \\tan(\\beta l)} \\\\[0.5em]\n",
    "Z_{L}^{'} &= Z_0 \\dfrac{Z_L - j Z_0 \\tan(\\beta l)}{Z_0 - j Z_L \\tan(\\beta l)} \n",
    "\\end{align*}\n",
    "$$"
   ]
  },
  {
   "cell_type": "markdown",
   "id": "35be2b25",
   "metadata": {},
   "source": [
    "Then the simulataneous matching is satisfied by\n",
    "\n",
    "$$\n",
    "\\begin{align*}\n",
    "Z_{L}^{OPT} = Z_{S}^{OPT} = Z_0 \\dfrac{j\\bigg(\\omega L - \\dfrac{1}{\\omega C}\\bigg) + \\sqrt{R^2 + (\\omega M)^2} - j Z_0 \\tan(\\beta l)}{Z_0 - j\\bigg[j\\bigg(\\omega L - \\dfrac{1}{\\omega C}\\bigg) + \\sqrt{R^2 + (\\omega M)^2}\\bigg]\\tan(\\beta l)}\n",
    "\\end{align*}\n",
    "$$"
   ]
  },
  {
   "cell_type": "markdown",
   "id": "4f805a3b",
   "metadata": {},
   "source": [
    "At resonant frequency this simplifies to\n",
    "\n",
    "$$\n",
    "\\begin{align*}\n",
    "Z_{L}^{OPT}(\\omega_0) = Z_{S}^{OPT}(\\omega_0) = Z_0 \\dfrac{\\sqrt{R^2 + (\\omega_0 M)^2} - j Z_0 \\tan(\\beta l)}{Z_0 - j\\sqrt{R^2 + (\\omega_0 M)^2} \\tan(\\beta l)}\n",
    "\\end{align*}\n",
    "$$"
   ]
  },
  {
   "cell_type": "markdown",
   "id": "60b05c29",
   "metadata": {},
   "source": [
    "**Calculate**\n",
    "\n",
    "Assuming coupling distance of 5cm, determine \n",
    "- mutual inductance $M$\n",
    "- $R,L,C$ of the shielded resonator loop \n",
    "- $Z_S = Z_L$\n",
    "- $Z_S^{*} = Z_L^{*}$\n",
    "- Matching network lump elements"
   ]
  },
  {
   "cell_type": "markdown",
   "id": "51963dfd",
   "metadata": {},
   "source": [
    "If the system is mismatched, incident power from the source gets refected back and is measured via return loss. \n",
    "\n",
    "$$\\text{Return Loss} = -20\\log_{10}|\\Gamma|$$"
   ]
  },
  {
   "cell_type": "markdown",
   "id": "6b905dcd",
   "metadata": {},
   "source": [
    "<hr>\n",
    "\n",
    "## Maximum Power Transfer Efficiency"
   ]
  },
  {
   "cell_type": "markdown",
   "id": "90f9496b",
   "metadata": {},
   "source": [
    "Recall the power transfer efficiency for a system operating at resonant frequency $\\omega_0$ is \n",
    "\n",
    "$$\\eta = \\dfrac{4R_L^2(\\omega_0 M)^2}{\\bigg((R+R_L)^2 + (\\omega_0 M)^2\\bigg)^2}$$"
   ]
  },
  {
   "cell_type": "markdown",
   "id": "e3ac1214",
   "metadata": {},
   "source": [
    "Examining the impedance-matched system for magnetically coupled loops, we see it only satisfies the weak coupling condition. (for $R \\neq 0$)\n",
    "\n",
    "$$\n",
    "\\begin{align*}\n",
    "R_L^{OPT} = Re\\{Z_{L}^{OPT}\\} = \\sqrt{R^2 + (\\omega M)^2} > \\omega M \\\\[0.5em]\n",
    "\\end{align*}\n",
    "$$"
   ]
  },
  {
   "cell_type": "markdown",
   "id": "d2f69406",
   "metadata": {},
   "source": [
    "Thus, subsituting in $R_L^{OPT}$, the maximum possible power transfer efficiency for a system at resonant frequency $\\omega_0$ is\n",
    "\n",
    "\n",
    "$$\\eta = \\dfrac{4\\bigg(R^2 + (\\omega M)^2\\bigg)^2(\\omega_0 M)^2}{\\bigg(\\bigg(R+\\sqrt{R^2 + (\\omega M)^2}\\bigg)^2 + (\\omega_0 M)^2\\bigg)^2}$$"
   ]
  },
  {
   "cell_type": "code",
   "execution_count": null,
   "id": "e0f40d69",
   "metadata": {},
   "outputs": [],
   "source": []
  }
 ],
 "metadata": {
  "interpreter": {
   "hash": "31f2aee4e71d21fbe5cf8b01ff0e069b9275f58929596ceb00d14d90e3e16cd6"
  },
  "kernelspec": {
   "display_name": "Python 3 (ipykernel)",
   "language": "python",
   "name": "python3"
  },
  "language_info": {
   "codemirror_mode": {
    "name": "ipython",
    "version": 3
   },
   "file_extension": ".py",
   "mimetype": "text/x-python",
   "name": "python",
   "nbconvert_exporter": "python",
   "pygments_lexer": "ipython3",
   "version": "3.7.9"
  },
  "varInspector": {
   "cols": {
    "lenName": 16,
    "lenType": 16,
    "lenVar": 40
   },
   "kernels_config": {
    "python": {
     "delete_cmd_postfix": "",
     "delete_cmd_prefix": "del ",
     "library": "var_list.py",
     "varRefreshCmd": "print(var_dic_list())"
    },
    "r": {
     "delete_cmd_postfix": ") ",
     "delete_cmd_prefix": "rm(",
     "library": "var_list.r",
     "varRefreshCmd": "cat(var_dic_list()) "
    }
   },
   "types_to_exclude": [
    "module",
    "function",
    "builtin_function_or_method",
    "instance",
    "_Feature"
   ],
   "window_display": false
  }
 },
 "nbformat": 4,
 "nbformat_minor": 5
}