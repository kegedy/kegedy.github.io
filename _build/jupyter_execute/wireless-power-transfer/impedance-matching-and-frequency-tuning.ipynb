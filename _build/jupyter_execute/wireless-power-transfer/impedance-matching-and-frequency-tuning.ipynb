{
 "cells": [
  {
   "cell_type": "markdown",
   "id": "b2eae95e",
   "metadata": {},
   "source": [
    "# Impedance-Matched Networks"
   ]
  },
  {
   "cell_type": "markdown",
   "id": "79190acd",
   "metadata": {},
   "source": [
    "## Topics"
   ]
  },
  {
   "cell_type": "markdown",
   "id": "b8d9e014",
   "metadata": {},
   "source": [
    "- Lumped element matching circuits\n",
    "- Frequency-tuned, wireless non-radiative power transfer systems\n",
    "- Lighting up a light-emitting diode (LED) using a WNPT system\n",
    "- Use frequency tuning to maintain the brightness of the LED"
   ]
  },
  {
   "cell_type": "markdown",
   "id": "fbc2ea71",
   "metadata": {},
   "source": [
    "## Complex-Conjugate Matching"
   ]
  },
  {
   "cell_type": "markdown",
   "id": "8ac72f9b",
   "metadata": {},
   "source": [
    "**Given**\n",
    "\n",
    "$$\n",
    "\\begin{align*}\n",
    "Z_S &= R_S + jX_S \\\\[0.5em]\n",
    "Z_L &= R_L + jX_L \n",
    "\\end{align*}\n",
    "$$"
   ]
  },
  {
   "cell_type": "markdown",
   "id": "f2ab3b5c",
   "metadata": {},
   "source": [
    "```{figure} img/complex-conjugate-matching.png\n",
    "---\n",
    "width: 200px\n",
    "---\n",
    "Reference Circuit\n",
    "```"
   ]
  },
  {
   "cell_type": "markdown",
   "id": "bd0b8c6c",
   "metadata": {},
   "source": [
    "Voltage and current across load $Z_L$ is defined as\n",
    "\n",
    "$$\n",
    "\\begin{align*}\n",
    "v_A &= v_S \\dfrac{Z_L}{Z_S + Z_L} \\\\[0.5em]\n",
    "i &= \\dfrac{v_S}{Z_S + Z_L}\n",
    "\\end{align*}\n",
    "$$"
   ]
  },
  {
   "cell_type": "markdown",
   "id": "51d2196d",
   "metadata": {},
   "source": [
    "Power $P_D$ delivered to load $Z_L$ is \n",
    "\n",
    "$$\n",
    "\\begin{align*}\n",
    "P_D = \\dfrac{1}{2} Re\\{v_A i^* \\} &= \\dfrac{|v_S|^2}{2} \\dfrac{Re\\{Z_L \\}}{|Z_S + Z_L|^2} \\\\[0.5em]\n",
    "    &= \\dfrac{|v_S|^2}{2} \\dfrac{R_L}{(R_S+R_L)^2 + (X_S + X_L)^2}\n",
    "\\end{align*}\n",
    "$$"
   ]
  },
  {
   "cell_type": "markdown",
   "id": "1ea767f3",
   "metadata": {},
   "source": [
    "Analyzing the power relation, it is shown that maximum power transfer occurs when $Z_S = Z_L^*$."
   ]
  },
  {
   "cell_type": "markdown",
   "id": "25f1e8b5",
   "metadata": {},
   "source": [
    "```{figure} img/two-port-network.png\n",
    "Impedance Matched, Two Port Network\n",
    "```"
   ]
  },
  {
   "cell_type": "markdown",
   "id": "07a3088c",
   "metadata": {},
   "source": [
    "<hr>\n",
    "\n",
    "## Matching Network Topologies"
   ]
  },
  {
   "cell_type": "markdown",
   "id": "124a78dc",
   "metadata": {},
   "source": [
    "Lumped element matching networks are chosen for this design since the resonating frequencies are less than 100 MHz. Other solutions are obtained with transmission line models, however it is difficult to design reasonably sized lines and stubs due to the operating frequencies. Set input impedance $Z_S = Z_0$ and find the matching network for load $Z_L = R_L + jX_L$."
   ]
  },
  {
   "cell_type": "markdown",
   "id": "bd2b2b94",
   "metadata": {},
   "source": [
    "```{figure} img/matching-network-topologies.png\n",
    "Left: Load-Parallel-Series;      Right: Load-Series-Parallel\n",
    "```"
   ]
  },
  {
   "cell_type": "markdown",
   "id": "bb35cf36",
   "metadata": {},
   "source": [
    "**Lump Element: Load-Parallel-Series**\n",
    "\n",
    "$$\n",
    "\\begin{align*}\n",
    "X_s &= -Xp + \\dfrac{X_L Z_0}{R_L} + \\dfrac{X_p Z_0}{R_L} \\\\[0.5em]\n",
    "X_p &= -\\dfrac{R_L^2 + X_L^2}{X_L \\pm \\sqrt{R_L/Z_0}\\sqrt{R_L^2 + X_L^2 - Z_0 R_L}}\n",
    "\\end{align*}\n",
    "$$"
   ]
  },
  {
   "cell_type": "markdown",
   "id": "a953fafb",
   "metadata": {},
   "source": [
    "**Solution Conditions**\n",
    "\n",
    "$$\n",
    "\\begin{align*}\n",
    "Re\\{{\\dfrac{1}{Z_L}}\\} < \\dfrac{1}{Z_0} \\\\[0.5em]\n",
    "\\dfrac{R_L}{R_L^2 + X_L^2} < \\dfrac{1}{Z_0} \\\\[0.5em]\n",
    "R_L^2 + X_L^2 - Z_0 R_L > 0\n",
    "\\end{align*}\n",
    "$$"
   ]
  },
  {
   "cell_type": "markdown",
   "id": "b6c5e8a0",
   "metadata": {},
   "source": [
    "**Lump Element: Load-Series-Parallel**\n",
    "\n",
    "$$\n",
    "\\begin{align*}\n",
    "X_s &= \\sqrt{R_L(Z_0 - R_L)} - X_L & \\ &\n",
    "X_p = -\\dfrac{\\sqrt{R_L}Z_0}{\\sqrt{Z_0-R_L}} \\\\\n",
    "X_s &= -\\sqrt{R_L(Z_0 - R_L)} - X_L & \\ &\n",
    "X_p = \\dfrac{\\sqrt{R_L}Z_0}{\\sqrt{Z_0-R_L}}\n",
    "\\end{align*}\n",
    "$$"
   ]
  },
  {
   "cell_type": "markdown",
   "id": "e57b20b3",
   "metadata": {},
   "source": [
    "<hr>\n",
    "\n",
    "## Simultaneous Matching"
   ]
  },
  {
   "cell_type": "markdown",
   "id": "c8176b4a",
   "metadata": {},
   "source": [
    "```{figure} img/ideal-coupled-shielded-loop-resonators-with-matching-networks.png\n",
    "Coupled Shielded-Loop Resonators with Matching Networks\n",
    "```"
   ]
  },
  {
   "cell_type": "markdown",
   "id": "7bfbe0fe",
   "metadata": {},
   "source": [
    "Inductively-coupled RLC circuits assuming identical loops\n",
    "\n",
    "$$\n",
    "\\begin{align*}\n",
    "Z_{in} &= R + j\\bigg(\\omega L - \\dfrac{1}{\\omega C} \\bigg) + \\dfrac{(\\omega M)^2}{R + Z_L + j\\bigg(\\omega L - \\dfrac{1}{\\omega C} \\bigg)} \\\\[0.5em]\n",
    "Z_{out} &= R + j\\bigg(\\omega L - \\dfrac{1}{\\omega C} \\bigg) + \\dfrac{(\\omega M)^2}{R + Z_S + j\\bigg(\\omega L - \\dfrac{1}{\\omega C} \\bigg)}\n",
    "\\end{align*}\n",
    "$$"
   ]
  },
  {
   "cell_type": "markdown",
   "id": "d7f2317a",
   "metadata": {},
   "source": [
    "For a simultaneous, complex-conjugate match, we must ensure that\n",
    "\n",
    "$$\n",
    "\\begin{align*}\n",
    "Z_S &= Z_{in}^* \\\\[0.5em]\n",
    "Z_L &= Z_{out}^*\n",
    "\\end{align*}\n",
    "$$"
   ]
  },
  {
   "cell_type": "markdown",
   "id": "8497d062",
   "metadata": {},
   "source": [
    "Then the simulataneous matching is satisfied by\n",
    "\n",
    "$$\n",
    "\\begin{align*}\n",
    "Z_{L}^{OPT} = Z_{S}^{OPT} = j\\bigg(\\omega L - \\dfrac{1}{\\omega C}\\bigg) + \\sqrt{R^2 + (\\omega M)^2}\n",
    "\\end{align*}\n",
    "$$"
   ]
  },
  {
   "cell_type": "markdown",
   "id": "82689b24",
   "metadata": {},
   "source": [
    "```{figure} img/coupled-shielded-loop-resonators-with-matching-networks.png\n",
    "Including Feedline Effects\n",
    "```"
   ]
  },
  {
   "cell_type": "markdown",
   "id": "59f8d43d",
   "metadata": {},
   "source": [
    "Factoring in feedline effects, the adjusted source and load impedance become\n",
    "\n",
    "$$\n",
    "\\begin{align*}\n",
    "Z_{S}^{'} &= Z_0 \\dfrac{Z_S - j Z_0 \\tan(\\beta l)}{Z_0 - j Z_S \\tan(\\beta l)} \\\\[0.5em]\n",
    "Z_{L}^{'} &= Z_0 \\dfrac{Z_L - j Z_0 \\tan(\\beta l)}{Z_0 - j Z_L \\tan(\\beta l)} \n",
    "\\end{align*}\n",
    "$$"
   ]
  },
  {
   "cell_type": "markdown",
   "id": "e1df9a10",
   "metadata": {},
   "source": [
    "Then the simulataneous matching is satisfied by\n",
    "\n",
    "$$\n",
    "\\begin{align*}\n",
    "Z_{L}^{OPT} = Z_{S}^{OPT} = Z_0 \\dfrac{j\\bigg(\\omega L - \\dfrac{1}{\\omega C}\\bigg) + \\sqrt{R^2 + (\\omega M)^2} - j Z_0 \\tan(\\beta l)}{Z_0 - j\\bigg[j\\bigg(\\omega L - \\dfrac{1}{\\omega C}\\bigg) + \\sqrt{R^2 + (\\omega M)^2}\\bigg]\\tan(\\beta l)}\n",
    "\\end{align*}\n",
    "$$"
   ]
  },
  {
   "cell_type": "markdown",
   "id": "f249e620",
   "metadata": {},
   "source": [
    "At resonant frequency this simplifies to\n",
    "\n",
    "$$\n",
    "\\begin{align*}\n",
    "Z_{L}^{OPT}(\\omega_0) = Z_{S}^{OPT}(\\omega_0) = Z_0 \\dfrac{\\sqrt{R^2 + (\\omega_0 M)^2} - j Z_0 \\tan(\\beta l)}{Z_0 - j\\sqrt{R^2 + (\\omega_0 M)^2} \\tan(\\beta l)}\n",
    "\\end{align*}\n",
    "$$"
   ]
  },
  {
   "cell_type": "markdown",
   "id": "4cfb3ee5",
   "metadata": {},
   "source": [
    "**Calculate**\n",
    "\n",
    "Assuming coupling distance of 5cm, determine \n",
    "- mutual inductance $M$\n",
    "- $R,L,C$ of the shielded resonator loop \n",
    "- $Z_S = Z_L$\n",
    "- $Z_S^{*} = Z_L^{*}$\n",
    "- Matching network lump elements"
   ]
  },
  {
   "cell_type": "markdown",
   "id": "3e290eeb",
   "metadata": {},
   "source": [
    "If the system is mismatched, incident power from the source gets refected back and is measured via return loss. \n",
    "\n",
    "$$\\text{Return Loss} = -20\\log_{10}|\\Gamma|$$"
   ]
  },
  {
   "cell_type": "markdown",
   "id": "5c65a5d1",
   "metadata": {},
   "source": [
    "<hr>\n",
    "\n",
    "## Maximum Power Transfer Efficiency"
   ]
  },
  {
   "cell_type": "markdown",
   "id": "638f5510",
   "metadata": {},
   "source": [
    "Recall the power transfer efficiency for a system operating at resonant frequency $\\omega_0$ is \n",
    "\n",
    "$$\\eta = \\dfrac{4R_L^2(\\omega_0 M)^2}{\\bigg((R+R_L)^2 + (\\omega_0 M)^2\\bigg)^2}$$"
   ]
  },
  {
   "cell_type": "markdown",
   "id": "3e5a5fee",
   "metadata": {},
   "source": [
    "Examining the impedance-matched system for magnetically coupled loops, we see it only satisfies the weak coupling condition. (for $R \\neq 0$)\n",
    "\n",
    "$$\n",
    "\\begin{align*}\n",
    "R_L^{OPT} = Re\\{Z_{L}^{OPT}\\} = \\sqrt{R^2 + (\\omega M)^2} > \\omega M \\\\[0.5em]\n",
    "\\end{align*}\n",
    "$$"
   ]
  },
  {
   "cell_type": "markdown",
   "id": "33de794b",
   "metadata": {},
   "source": [
    "Thus, subsituting in $R_L^{OPT}$, the maximum possible power transfer efficiency for a system at resonant frequency $\\omega_0$ is\n",
    "\n",
    "\n",
    "$$\\eta = \\dfrac{4\\bigg(R^2 + (\\omega M)^2\\bigg)^2(\\omega_0 M)^2}{\\bigg(\\bigg(R+\\sqrt{R^2 + (\\omega M)^2}\\bigg)^2 + (\\omega_0 M)^2\\bigg)^2}$$"
   ]
  },
  {
   "cell_type": "code",
   "execution_count": null,
   "id": "65b97ec7",
   "metadata": {},
   "outputs": [],
   "source": []
  }
 ],
 "metadata": {
  "interpreter": {
   "hash": "31f2aee4e71d21fbe5cf8b01ff0e069b9275f58929596ceb00d14d90e3e16cd6"
  },
  "kernelspec": {
   "display_name": "Python 3.10.6 64-bit",
   "name": "python3"
  },
  "language_info": {
   "codemirror_mode": {
    "name": "ipython",
    "version": 3
   },
   "file_extension": ".py",
   "mimetype": "text/x-python",
   "name": "python",
   "nbconvert_exporter": "python",
   "pygments_lexer": "ipython3",
   "version": "3.7.9"
  },
  "varInspector": {
   "cols": {
    "lenName": 16,
    "lenType": 16,
    "lenVar": 40
   },
   "kernels_config": {
    "python": {
     "delete_cmd_postfix": "",
     "delete_cmd_prefix": "del ",
     "library": "var_list.py",
     "varRefreshCmd": "print(var_dic_list())"
    },
    "r": {
     "delete_cmd_postfix": ") ",
     "delete_cmd_prefix": "rm(",
     "library": "var_list.r",
     "varRefreshCmd": "cat(var_dic_list()) "
    }
   },
   "types_to_exclude": [
    "module",
    "function",
    "builtin_function_or_method",
    "instance",
    "_Feature"
   ],
   "window_display": false
  }
 },
 "nbformat": 4,
 "nbformat_minor": 5
}