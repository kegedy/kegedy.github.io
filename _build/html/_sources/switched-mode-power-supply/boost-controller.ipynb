{
 "cells": [
  {
   "cell_type": "markdown",
   "id": "adab2be6",
   "metadata": {},
   "source": [
    "# Boost Controller"
   ]
  },
  {
   "cell_type": "markdown",
   "id": "8c6e8ad2",
   "metadata": {},
   "source": [
    "```{figure} boost-controller/boost-converter-schematic.png\n",
    "---\n",
    "width: 400px\n",
    "---\n",
    "```"
   ]
  },
  {
   "cell_type": "markdown",
   "id": "487f9791",
   "metadata": {},
   "source": [
    "## Averaged Inductor Current and Capacitor Voltage "
   ]
  },
  {
   "cell_type": "markdown",
   "id": "34629a75",
   "metadata": {},
   "source": [
    "**Volt-Seconds**"
   ]
  },
  {
   "cell_type": "markdown",
   "id": "ad6ca259",
   "metadata": {},
   "source": [
    "\\begin{align*}\n",
    "\\langle v_{L}(t)\\rangle = L\\frac{d}{dt} \\langle i(t)\\rangle &= \n",
    "\\bigg[\\bigg(\\langle{v_g}(t)\\rangle-\\langle i(t)\\rangle R_{on} \\bigg)d(t) + \\bigg( \\langle{v_g}(t)\\rangle-\\langle i(t)\\rangle R_{on} - \\langle v(t)\\rangle \\bigg)d'(t) \\bigg] \\\\[0.5em]\n",
    "\\langle v_{L}(t)\\rangle = L\\frac{d}{dt} \\langle i(t)\\rangle &= \n",
    "\\bigg[\\langle{v_g}(t)\\rangle-\\langle i(t)\\rangle R_{on} - \\langle v(t)\\rangle d'(t) \\bigg] \\\\[0.5em]\n",
    "\\frac{d}{dt} \\langle i(t)\\rangle &= \n",
    "\\begin{matrix}\n",
    "\\dfrac{1}{L} \\\\[1em]\n",
    "\\end{matrix} \n",
    "\\bigg[\\langle{v_g}(t)\\rangle-\\langle i(t)\\rangle R_{on} - \\langle v(t)\\rangle d'(t) \\bigg] \\\\[0.5em]\n",
    "\\end{align*}"
   ]
  },
  {
   "cell_type": "markdown",
   "id": "99268376",
   "metadata": {},
   "source": [
    "**Charge Balance**"
   ]
  },
  {
   "cell_type": "markdown",
   "id": "ecf91aef",
   "metadata": {},
   "source": [
    "\\begin{align*}\n",
    "\\langle i_C (t) \\rangle = \n",
    "C\\frac{d}{dt} \\langle v(t)\\rangle &= \n",
    "\\bigg[\\bigg(\\dfrac{-\\langle v(t)\\rangle}{R}\\bigg)d(t) +\\bigg(\\langle i(t)\\rangle -\\frac{\\langle v(t)\\rangle}{R} \\bigg)d'(t)\\bigg] \\\\[1em]\n",
    "\\langle i_C (t) \\rangle = \n",
    "C\\frac{d}{dt} \\langle v(t)\\rangle &= \n",
    "\\bigg[\\dfrac{-\\langle v(t)\\rangle}{R} + \\langle i(t)\\rangle d'(t) \\bigg] \\\\[1em]\n",
    " \\frac{d}{dt} \\langle v(t)\\rangle &= \n",
    "\\begin{matrix}\n",
    "\\dfrac{1}{C} \\\\[1em]\n",
    "\\end{matrix}\n",
    "\\bigg[\\dfrac{-\\langle v(t)\\rangle}{R} + \\langle i(t)\\rangle d'(t) \\bigg] \\\\[1em]\n",
    "\\end{align*}"
   ]
  },
  {
   "cell_type": "markdown",
   "id": "20791dd6",
   "metadata": {},
   "source": [
    "**Differential Solution** "
   ]
  },
  {
   "cell_type": "markdown",
   "id": "9ecadfc5",
   "metadata": {},
   "source": [
    "x = \n",
    "\\begin{bmatrix}\n",
    "\\langle i(t)\\rangle \\\\\n",
    "\\langle v(t)\\rangle\n",
    "\\end{bmatrix} \n",
    "u = \n",
    "\\begin{bmatrix}\n",
    "d(t) \\\\\n",
    "\\langle v_g(t)\\rangle\n",
    "\\end{bmatrix} \n",
    "\n",
    "\\begin{align*}\n",
    "\\dot{x} &= f(x(t),u(t)) = \\dfrac{d}{dt}\n",
    "\\begin{bmatrix}\n",
    "\\langle i(t)\\rangle \\\\[1em]\n",
    "\\langle v(t)\\rangle\n",
    "\\end{bmatrix} = \n",
    "\\begin{matrix}\n",
    "\\dfrac{1}{L} \\\\[0.5em]\n",
    "\\dfrac{1}{C}\n",
    "\\end{matrix}\n",
    "\\begin{bmatrix}\n",
    "\\langle{v_g}(t)\\rangle-\\langle i(t)\\rangle R_{on} - \\langle v(t)\\rangle d'(t) \\\\[1em]\n",
    "\\dfrac{-\\langle v(t)\\rangle}{R} + \\langle i(t)\\rangle d'(t)s\n",
    "\\end{bmatrix} \\\\[0.5em]\n",
    "\\end{align*}"
   ]
  },
  {
   "cell_type": "markdown",
   "id": "61cc8f09",
   "metadata": {},
   "source": [
    "## Linearized Small-Signal Model"
   ]
  },
  {
   "cell_type": "markdown",
   "id": "a4373177",
   "metadata": {},
   "source": [
    "**Derive a linearized small-signal model**"
   ]
  },
  {
   "cell_type": "markdown",
   "id": "efcf61d0",
   "metadata": {},
   "source": [
    "\\begin{align*}\n",
    "\\dot{\\hat{x}}(t) &\\approx A \\hat{x}(t) + B \\hat{u}(t) \\\\[0.5em]\n",
    "\\hat{y}(t) &= C \\hat{x}(t) + E  \\hat{u}(t) \n",
    "\\end{align*}\n",
    "\n",
    "**where** \n",
    "\n",
    "\\begin{matrix}\n",
    "x(t) = \\hat{x}(t) + X && X = \n",
    "\\begin{bmatrix}\n",
    "I \\\\\n",
    "V\n",
    "\\end{bmatrix} \\\\[0.5em] \n",
    "u(t) = \\hat{u}(t) + U && U = \n",
    "\\begin{bmatrix}\n",
    "D \\\\\n",
    "V_g \n",
    "\\end{bmatrix}\n",
    "\\\\[0.5em]\n",
    "\\end{matrix}"
   ]
  },
  {
   "cell_type": "markdown",
   "id": "e1a761e7",
   "metadata": {},
   "source": [
    "**Volt-Seconds (Large Signal)**"
   ]
  },
  {
   "cell_type": "markdown",
   "id": "90d46b89",
   "metadata": {},
   "source": [
    "\\begin{align*}\n",
    "\\langle v_{L}(t)\\rangle &= L\\frac{d}{dt} \\langle i(t)\\rangle = \n",
    "\\bigg[\\langle{v_g}(t)\\rangle-\\langle i(t)\\rangle R_{on} - \\langle v(t)\\rangle d'(t) \\bigg]  = 0\\\\[0.5em]\n",
    "0 &=  V_g - I R_{on} - VD'   \\\\[0.5em]\n",
    "VD' &= V_g - I R_{on} \\\\[0.5em]\n",
    "V &= \\dfrac{V_g - I R_{on}}{D'} \\bigg|_{I = \\dfrac{V}{D'R} }  \\\\[0.5em]\n",
    "V &= \\dfrac{V_g - \\dfrac{V}{D'R} R_{on}}{D'} \\\\[0.5em]\n",
    "V &= \\dfrac{V_g}{D'}\\cdot \\dfrac{1}{1+\\dfrac{ R_{on}}{D'^2 R}} \\\\[0.5em]\n",
    "\\end{align*}"
   ]
  },
  {
   "cell_type": "markdown",
   "id": "6866dbdf",
   "metadata": {},
   "source": [
    "**Charge Balance (Large Signal)**\n",
    "\n",
    "\\begin{align*}\n",
    "\\langle i_C (t) \\rangle &= \n",
    "C\\frac{d}{dt} \\langle v(t)\\rangle = \n",
    "\\bigg[\\dfrac{-\\langle v(t)\\rangle}{R} + \\langle i(t)\\rangle d'(t) \\bigg] = 0\\\\[1em]\n",
    "0 &=\\dfrac{-V}{R} + I D' \\\\[1em]\n",
    "I &= \\dfrac{V}{D'R} \\\\[1em]\n",
    "I &= \\dfrac{1}{D'R}\\cdot \\frac{V_g}{D'}\\cdot \\dfrac{1}{1+\\dfrac{ R_{on}}{D'^2 R}} \\\\[1em]\n",
    "I &= \\frac{V_g}{D'^2 R}\\cdot \\dfrac{1}{1+\\dfrac{ R_{on}}{D'^2 R}} \\\\[1em]\n",
    "\\end{align*}"
   ]
  },
  {
   "cell_type": "markdown",
   "id": "26b7b63b",
   "metadata": {},
   "source": [
    "**Find A, B, C, D**\n",
    "\n",
    "\\begin{align*}\n",
    "A = \\dfrac{d}{d\\hat{x}(t)} f(x(t),u(t))\\bigg|_{x=X,u=U} &= \n",
    "\\begin{bmatrix}\n",
    "\\ \\ \\dfrac{\\partial f_1}{\\partial x_1} & \\dfrac{\\partial f_1}{\\partial x_2} \\ \\ \\\\[1em] \n",
    "\\ \\ \\dfrac{\\partial f_2}{\\partial x_1} & \\dfrac{\\partial f_2}{\\partial x_2} \\ \\\n",
    "\\end{bmatrix}\\bigg|_{x,u} = \n",
    "\\begin{bmatrix}\n",
    "\\dfrac{\\partial f_1}{\\partial \\langle \\hat{i}(t)\\rangle} & \\dfrac{\\partial f_1}{\\partial \\langle \\hat{v}(t)\\rangle} \\\\[1em] \n",
    "\\dfrac{\\partial f_2}{\\partial \\langle \\hat{i}(t)\\rangle} & \\dfrac{\\partial f_2}{\\partial \\langle \\hat{v}(t)\\rangle}\n",
    "\\end{bmatrix}\\bigg|_{x,u} \\\\[1em]\n",
    "A &= \n",
    "\\begin{bmatrix}\n",
    "\\dfrac{-R_{on}}{L} & \\dfrac{-D'}{L} \\\\[1em]\n",
    "\\dfrac{D'}{C} & \\dfrac{-1}{RC}\n",
    "\\end{bmatrix} \\\\[1em]\n",
    "\\end{align*}"
   ]
  },
  {
   "cell_type": "markdown",
   "id": "230923ee",
   "metadata": {},
   "source": [
    "\\begin{align*} B = \\dfrac{d}{d\\hat{u}(t)} f(x(t),u(t))\\bigg|_{x=X,u=U} &= \n",
    "\\begin{bmatrix}\n",
    "\\dfrac{\\partial f_1}{\\partial u_1} & \\dfrac{\\partial f_1}{\\partial u_2} \\\\[1em] \n",
    "\\dfrac{\\partial f_2}{\\partial u_1} & \\dfrac{\\partial f_2}{\\partial u_2}\n",
    "\\end{bmatrix}\\bigg|_{x,u} = \n",
    "\\begin{bmatrix}\n",
    "\\dfrac{\\partial f_1}{\\partial \\hat{d'}(t)} & \\dfrac{\\partial f_1}{\\partial \\langle \\hat{v_g}(t)\\rangle} \\\\[1em] \n",
    "\\dfrac{\\partial f_2}{\\partial \\hat{d'}(t)} & \\dfrac{\\partial f_2}{\\partial \\langle \\hat{v_g}(t)\\rangle}\n",
    "\\end{bmatrix}\\bigg|_{x,u} \\\\[1em]\n",
    "B &= \n",
    "\\begin{bmatrix}\n",
    "\\dfrac{V}{L} & \\dfrac{1}{L} \\\\[1em]\n",
    "\\dfrac{-I}{C} & 0\n",
    "\\end{bmatrix} = \n",
    "\\begin{bmatrix}\n",
    "\\dfrac{V_g}{D'L}\\cdot \\dfrac{1}{1+\\dfrac{ R_{on}}{D'^2 R}} & \\dfrac{1}{L} \\\\[1.5em]\n",
    "\\dfrac{-V_g}{D'^2 RC}\\cdot \\dfrac{1}{1+\\dfrac{ R_{on}}{D'^2 R}} & 0\n",
    "\\end{bmatrix} \\\\[1em]\n",
    "\\end{align*}"
   ]
  },
  {
   "cell_type": "markdown",
   "id": "42637992",
   "metadata": {},
   "source": [
    "C = \n",
    "\\begin{bmatrix}\n",
    "0 & 1  \\\\\n",
    "1 & 0\n",
    "\\end{bmatrix}\n",
    "\n",
    "E = \n",
    "\\begin{bmatrix}\n",
    "0 & 0 \\\\\n",
    "0 & 0\n",
    "\\end{bmatrix}"
   ]
  },
  {
   "cell_type": "markdown",
   "id": "c53c7bd0",
   "metadata": {},
   "source": [
    "## System Outputs in Frequency Domain"
   ]
  },
  {
   "cell_type": "markdown",
   "id": "47591f47",
   "metadata": {},
   "source": [
    "\\begin{align*}\n",
    "\\dot{\\hat{x}}(t) &= A \\hat{x}(t) + B \\hat{u}(t) \\\\[0.5em]\n",
    "\\dot{\\hat{y}}(t) &= C \\hat{x}(t) + D \\hat{u}(t) \\\\[0.5em]\n",
    " \\text{Laplace Transform } &\\\\[0.5em]\n",
    "s\\hat{x}(s) &= A \\hat{x}(s) + B \\hat{u}(s) \\\\[0.5em]\n",
    "sI\\hat{x}(s) - A \\hat{x}(s) &= B \\hat{u}(s) \\\\[0.5em]\n",
    "\\hat{x}(s) &= \\left(sI-A\\right)^{-1}B \\hat{u}(s) \\\\[0.5em]\n",
    "\\hat{y}(s) &= \\bigg(C(sI-A)^{-1}B +E \\bigg)\\hat{u}(s) = G(s) \\hat{u}(s)\n",
    "\\end{align*}"
   ]
  },
  {
   "cell_type": "markdown",
   "id": "28bf52a5",
   "metadata": {},
   "source": [
    "**Solver** \n",
    "\n",
    "G(s) = \n",
    "\\begin{bmatrix}\n",
    "G_{id}(s) & G_{ig}(s) \\\\[1em]\n",
    "G_{vd}(s) & G_{vg}(s)\n",
    "\\end{bmatrix} = \n",
    "\\nonumber \n",
    "\\begin{bmatrix}\n",
    "\\dfrac{D'RV_g}{D'^2R + R_{on}}\\dfrac{(CRs + 2)}{(LCRs^2 + RR_{on}Cs + Ls + D'^2R +R_{on})} & \\dfrac{RCs + 1}{LCRs^2 + RR_{on}Cs + Ls + D'^2R +R_{on}} \\\\[1em]\n",
    "\\dfrac{RV_g}{D'^2R + R_{on}}\\dfrac{(D'^2R - R_{on}-Ls)}{(LCRs^2 + RR_{on}Cs + Ls + D'^2R +R_{on})} & \\dfrac{D'R}{LCRs^2 + RR_{on}Cs + Ls + D'^2R +R_{on}}\n",
    "\\end{bmatrix}"
   ]
  },
  {
   "cell_type": "markdown",
   "id": "7f1f9d42",
   "metadata": {},
   "source": [
    "| Transfer Function   | Description  |\n",
    "|:--:|:---|\n",
    "| $G_{id}(s)$   | Small signal output current to duty ratio  |\n",
    "| $G_{ig}(s)$   | Small signal output current to supply voltage  |\n",
    "| $G_{vd}(s)$   | Small signal output voltage to duty ratio  |\n",
    "| $G_{vg}(s)$   | Small signal output voltage to supply voltage  |"
   ]
  }
 ],
 "metadata": {
  "interpreter": {
   "hash": "31f2aee4e71d21fbe5cf8b01ff0e069b9275f58929596ceb00d14d90e3e16cd6"
  },
  "kernelspec": {
   "display_name": "Python 3 (ipykernel)",
   "language": "python",
   "name": "python3"
  },
  "language_info": {
   "codemirror_mode": {
    "name": "ipython",
    "version": 3
   },
   "file_extension": ".py",
   "mimetype": "text/x-python",
   "name": "python",
   "nbconvert_exporter": "python",
   "pygments_lexer": "ipython3",
   "version": "3.7.9"
  },
  "varInspector": {
   "cols": {
    "lenName": 16,
    "lenType": 16,
    "lenVar": 40
   },
   "kernels_config": {
    "python": {
     "delete_cmd_postfix": "",
     "delete_cmd_prefix": "del ",
     "library": "var_list.py",
     "varRefreshCmd": "print(var_dic_list())"
    },
    "r": {
     "delete_cmd_postfix": ") ",
     "delete_cmd_prefix": "rm(",
     "library": "var_list.r",
     "varRefreshCmd": "cat(var_dic_list()) "
    }
   },
   "types_to_exclude": [
    "module",
    "function",
    "builtin_function_or_method",
    "instance",
    "_Feature"
   ],
   "window_display": false
  }
 },
 "nbformat": 4,
 "nbformat_minor": 5
}
