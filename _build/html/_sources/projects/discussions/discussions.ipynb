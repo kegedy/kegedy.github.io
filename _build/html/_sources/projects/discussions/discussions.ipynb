{
 "cells": [
  {
   "cell_type": "markdown",
   "id": "3ad68444",
   "metadata": {},
   "source": [
    "# Discussions"
   ]
  },
  {
   "cell_type": "markdown",
   "id": "fac99884",
   "metadata": {},
   "source": [
    "## Q1: Trace width\n",
    "\n",
    "[PCB Trace Inductance and Width: How Wide is Too Wide?](https://resources.altium.com/p/pcb-trace-inductance-and-width-how-wide-too-wide)"
   ]
  },
  {
   "cell_type": "markdown",
   "id": "783be729",
   "metadata": {},
   "source": [
    "- Goal: minimize PCB trace inductance per unit length while keeping impedance constant \n",
    "- IPC 2142 formulas are only highly accurate within a particular impedance range \n",
    "- Waddell’s implementation produces less than 0.7% error which is much better than IPC-2141\n",
    "\n",
    "\\begin{align*}\n",
    " L &= \\dfrac{Z_0(\\frac{w}{h}, \\frac{t}{h})}{c} \\sqrt{\\epsilon_{eff}(\\frac{w}{h}, \\frac{t}{h})}  \\\\[1em]\n",
    " C &= \\dfrac{L}{Z_0(\\frac{w}{h}, \\frac{t}{h})^2} \\\\[1em]\n",
    " Z_0 &= \\text{Waddell’s equations for microstrip impedance}\n",
    "\\end{align*}\n",
    "\n",
    "\\begin{align*}\n",
    " \\text{Minimize }L \\bigg(\\dfrac{w}{h}, \\dfrac{t}{h} \\bigg) &= \\dfrac{Z_0 (\\frac{w}{h}, \\frac{t}{h})}{c} \\sqrt{\\epsilon_{eff}(\\dfrac{w}{h}, \\dfrac{t}{h})} \\\\[1em]\n",
    " \\text{s.t. } & 0 < \\dfrac{w}{h} < a \\\\[1em]\n",
    "  & Z_0 = 50 \\Omega \\\\[1em]\n",
    "  & 0 < \\dfrac{t}{h} < b\n",
    "\\end{align*}"
   ]
  },
  {
   "cell_type": "markdown",
   "id": "96bc2710",
   "metadata": {},
   "source": [
    "```{figure} trace-geometry.png\n",
    "Trace Geometry\n",
    "```"
   ]
  },
  {
   "cell_type": "markdown",
   "id": "8289c5f9",
   "metadata": {},
   "source": [
    "## Q2: Filling unused area in signal planes with copper pours\n",
    "\n",
    "[On Shaky Ground—the Arguments Against Copper Pours](https://resources.altium.com/p/shaky-ground-arguments-against-copper-pours#the-history-of-ground-pours)\n",
    "- Ground pours resemble patch antennas and can emit noise\n",
    "- When the copper is thick, desoldering and service operations are more difficult"
   ]
  },
  {
   "cell_type": "markdown",
   "id": "8a0342a1",
   "metadata": {},
   "source": [
    "## Q3: Current sensor location\n",
    "\n",
    "[Current Sensing: Where to Place the Sense Resistor](https://www.analog.com/en/technical-articles/switch-mode-power-supply-current-sensing-part-2-where-to-place-the-sense-resistor.html)\n",
    "\n",
    "- Placing sense resistor after inductor provides best signal to noise ratios. Ultimately, resistor should be replaced with hall sensor to improve dissipated power if it's within budget (\\$)."
   ]
  },
  {
   "cell_type": "markdown",
   "id": "56c5acd2",
   "metadata": {},
   "source": [
    "```{figure} Rsense.jpg\n",
    "---\n",
    "width: 400px\n",
    "---\n",
    "Sense Resistor in Switch Mode Power Supply\n",
    "```"
   ]
  },
  {
   "cell_type": "markdown",
   "id": "361dac16",
   "metadata": {},
   "source": [
    "## Q4: Gate driver protection\n",
    "\n",
    "[Gate Resistor for Power Devices](https://www.infineon.com/dgdl/Infineon-EiceDRIVER-Gate_resistor_for_power_devices-ApplicationNotes-v01_00-EN.pdf?fileId=5546d462518ffd8501523ee694b74f18)  \n",
    "[Peak Current of Isolated Gate Drivers](https://www.analog.com/en/analog-dialogue/articles/peak-current-of-isolated-gate-drivers.html)\n"
   ]
  },
  {
   "cell_type": "markdown",
   "id": "bcaa38c4",
   "metadata": {},
   "source": [
    "```{figure} TypicalApplication.png\n",
    "Typical Application\n",
    "```"
   ]
  },
  {
   "cell_type": "markdown",
   "id": "48864a44",
   "metadata": {},
   "source": [
    "|  Design             | Component  |\n",
    "| :------------------: | :---------: |\n",
    "| Gate Driver         | [STDRIVEG600](https://www.st.com/resource/en/datasheet/stdriveg600.pdf)   |\n",
    "| MOSFET              | [TPH8R903NL](https://www.digikey.com/en/products/detail/toshiba-semiconductor-and-storage/TPH8R903NL-LQ/4332031)     |\n",
    "\n"
   ]
  },
  {
   "cell_type": "markdown",
   "id": "f34b4bdd",
   "metadata": {},
   "source": [
    "Given PVCC = 5V, VBO = 20V and gate driver specs:  \n",
    "\n",
    "| Source | Source | Sink | $R_{\\text{DS_on}}$ | $R_{\\text{DS_off}}$ |\n",
    "| :-- | :-- | :-- | :-- | :-- |\n",
    "| 6.0V | 1.3A | 2.4A | 2.0$\\Omega$ | 1.2$\\Omega$ |\n",
    "| 15V  | 5.5A | 6.0A | 1.25$\\Omega$ | 0.9$\\Omega$ |"
   ]
  },
  {
   "cell_type": "markdown",
   "id": "139611ec",
   "metadata": {},
   "source": [
    "**High Side Calculations**  \n",
    "\n",
    "\\begin{align*}\n",
    "I_{\\text{charging_peak}} &= \\dfrac{V_{BO}}{R_{\\text{DS_on}} + R_{\\text{G_on}}} \\\\[0.5em]\n",
    "5.5A &= \\dfrac{20}{1.25 + R_{\\text{G_on}}} \\\\[0.5em]\n",
    "R_{\\text{G_on}} &= 2.39 \\Omega \\\\[0.5em]\n",
    "I_{\\text{discharging_peak}} &= \\dfrac{V_{BO}}{R_{\\text{DS_off}} + R_{\\text{G_off}}}\\\\[0.5em] \n",
    "6.0A &= \\dfrac{20}{0.9 + R_{\\text{G_off}}} \\\\[0.5em]\n",
    "R_{\\text{G_off}} &= 2.43 \\Omega \\\\[0.5em]\n",
    "\\end{align*}\n"
   ]
  },
  {
   "cell_type": "markdown",
   "id": "a8cbfa87",
   "metadata": {},
   "source": [
    "**Low Side Calculations** \n",
    "\n",
    "\\begin{align*}\n",
    "I_{\\text{charging_peak}} &= \\dfrac{PVCC}{R_{\\text{DS_on}} + R_{\\text{G_on}}} \\\\[0.5em]\n",
    "1.3A &= \\dfrac{5}{2.0 + R_{\\text{G_on}}} \\\\[0.5em]\n",
    "R_{\\text{G_on}} &= 1.85 \\Omega \\\\[0.5em]\n",
    "I_{\\text{discharging_peak}} &= \\dfrac{PVCC}{R_{\\text{DS_off}} + R_{\\text{G_off}}}\\\\[0.5em] \n",
    "2.4A &= \\dfrac{5}{1.2 + R_{\\text{G_off}}} \\\\[0.5em]\n",
    "R_{\\text{G_off}} &= 0.89 \\Omega \\\\[0.5em]\n",
    "\\end{align*}"
   ]
  },
  {
   "cell_type": "markdown",
   "id": "caebc22d",
   "metadata": {},
   "source": [
    "**Resistor Size**\n",
    "\n",
    "Additionally, power dissipated through the resistor is \n",
    "\\begin{equation} \n",
    "P = C V^2 f \n",
    "\\end{equation}\n",
    "for selecting components."
   ]
  },
  {
   "cell_type": "markdown",
   "id": "b0bb8111",
   "metadata": {},
   "source": []
  }
 ],
 "metadata": {
  "interpreter": {
   "hash": "31f2aee4e71d21fbe5cf8b01ff0e069b9275f58929596ceb00d14d90e3e16cd6"
  },
  "kernelspec": {
   "display_name": "Python 3 (ipykernel)",
   "language": "python",
   "name": "python3"
  },
  "language_info": {
   "codemirror_mode": {
    "name": "ipython",
    "version": 3
   },
   "file_extension": ".py",
   "mimetype": "text/x-python",
   "name": "python",
   "nbconvert_exporter": "python",
   "pygments_lexer": "ipython3",
   "version": "3.7.9"
  },
  "varInspector": {
   "cols": {
    "lenName": 16,
    "lenType": 16,
    "lenVar": 40
   },
   "kernels_config": {
    "python": {
     "delete_cmd_postfix": "",
     "delete_cmd_prefix": "del ",
     "library": "var_list.py",
     "varRefreshCmd": "print(var_dic_list())"
    },
    "r": {
     "delete_cmd_postfix": ") ",
     "delete_cmd_prefix": "rm(",
     "library": "var_list.r",
     "varRefreshCmd": "cat(var_dic_list()) "
    }
   },
   "types_to_exclude": [
    "module",
    "function",
    "builtin_function_or_method",
    "instance",
    "_Feature"
   ],
   "window_display": false
  }
 },
 "nbformat": 4,
 "nbformat_minor": 5
}
