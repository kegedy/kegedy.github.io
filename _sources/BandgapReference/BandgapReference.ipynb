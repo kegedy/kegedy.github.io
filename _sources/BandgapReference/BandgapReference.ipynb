{
 "cells": [
  {
   "cell_type": "markdown",
   "metadata": {},
   "source": [
    "# Bandgap Reference\n",
    "\n",
    "The need for temperature-independent references are essential for modern applications and rapidly changing environments. This article discusses the negative and positive temperature coefficients (TC) of a bipolar device and how to cancel their effects to create a stable reference.\n"
   ]
  },
  {
   "cell_type": "markdown",
   "metadata": {},
   "source": [
    "## Negative-TC Voltage (CTAT)"
   ]
  },
  {
   "cell_type": "markdown",
   "metadata": {},
   "source": [
    "For a bipolar device, the forward voltage of a *pn*-junction diode exhibits a negative TC."
   ]
  },
  {
   "cell_type": "markdown",
   "metadata": {},
   "source": [
    "$\n",
    "\\begin{align*}\n",
    "I_C &= I_s\\ \\text{exp}(V_{BE}/V_T) \\text{ where } V_T = \\dfrac{kT}{q} \\\\[1em]\n",
    "I_S &= bT^{4+m}\\ \\text{exp}(-\\dfrac{Eg}{kT}) \\\\[1em]\n",
    "V_{BE} &= V_T\\ ln{\\left(\\dfrac{I_C}{I_S} \\right)}  \\\\[1em]\n",
    "\\dfrac{\\partial V_{BE}}{\\partial T} &= \\dfrac{\\partial V_T}{\\partial T}\\ ln{\\dfrac{I_C}{I_S}} - \\dfrac{V_T}{I_S} \\dfrac{\\partial I_S}{\\partial T}  \\\\[1em]\n",
    "\\dfrac{V_T}{I_S} \\dfrac{\\partial I_S}{\\partial T} &= (4+m)\\dfrac{V_T}{T} + \\dfrac{E_g}{kT^2}V_T \\\\[1em]\n",
    "\\dfrac{\\partial V_{BE}}{\\partial T} &= \\dfrac{V_T}{T}\\ ln{\\dfrac{I_C}{I_S}} - (4+m)\\dfrac{V_T}{T} + \\dfrac{E_g}{kT^2}V_T \\\\[1em]\n",
    "&= \\dfrac{V_{BE}-(4+m)V_T - E_g/q}{T}\n",
    "\\end{align*}\n",
    "$"
   ]
  },
  {
   "cell_type": "markdown",
   "metadata": {},
   "source": [
    "Thus, at $T=300K$ and $V_{BE} \\approx 750$mV, the change in TC voltage with respect to temperature is $\\partial V_{BE}/ \\partial T \\approx -1.5$mV."
   ]
  },
  {
   "cell_type": "markdown",
   "metadata": {},
   "source": [
    "Figure 1 shows two bipolar transistors operating with ideal current sources. The difference between their base-emitter voltages is directly proportional to absolute temperature. The circuit emphasizes design choices by scaling bias current *n* and number of devices *m*."
   ]
  },
  {
   "cell_type": "markdown",
   "metadata": {},
   "source": [
    "$\n",
    "\\begin{align*}\n",
    "\\Delta V_{BE} &= V_{BE1} - V_{BE2} \\\\[0.5em]\n",
    "&= V_T\\ ln{(\\dfrac{n I_0}{I_{S}})} - V_T\\ ln{(\\dfrac{I_0}{mI_{S}})} \\\\[0.5em]\n",
    "&= V_T\\ ln{(nm)} \\\\[0.5em]\n",
    "&= \\dfrac{kT}{q}\\ ln{(nm)} \\\\[0.5em]\n",
    "\\dfrac{\\partial}{\\partial T} \\Delta V_{BE} &=  \\dfrac{\\partial}{\\partial T} \\dfrac{kT}{q}\\ ln{(nm)}\\\\[0.5em]\n",
    "&= \\dfrac{k}{q}\\ ln{(nm)}\n",
    "\\end{align*}\n",
    "$"
   ]
  },
  {
   "cell_type": "markdown",
   "metadata": {},
   "source": [
    "The positive temperature coefficient is proportional to $\\frac{k}{q}$ such that $\\dfrac{\\partial }{\\partial T}\\Delta V_{BE} =  \\alpha\\ 0.087$ mV/C."
   ]
  },
  {
   "cell_type": "code",
   "execution_count": null,
   "metadata": {},
   "outputs": [],
   "source": []
  }
 ],
 "metadata": {
  "kernelspec": {
   "display_name": "Python 3 (ipykernel)",
   "language": "python",
   "name": "python3"
  },
  "language_info": {
   "codemirror_mode": {
    "name": "ipython",
    "version": 3
   },
   "file_extension": ".py",
   "mimetype": "text/x-python",
   "name": "python",
   "nbconvert_exporter": "python",
   "pygments_lexer": "ipython3",
   "version": "3.7.9"
  },
  "varInspector": {
   "cols": {
    "lenName": 16,
    "lenType": 16,
    "lenVar": 40
   },
   "kernels_config": {
    "python": {
     "delete_cmd_postfix": "",
     "delete_cmd_prefix": "del ",
     "library": "var_list.py",
     "varRefreshCmd": "print(var_dic_list())"
    },
    "r": {
     "delete_cmd_postfix": ") ",
     "delete_cmd_prefix": "rm(",
     "library": "var_list.r",
     "varRefreshCmd": "cat(var_dic_list()) "
    }
   },
   "types_to_exclude": [
    "module",
    "function",
    "builtin_function_or_method",
    "instance",
    "_Feature"
   ],
   "window_display": false
  },
  "widgets": {
   "application/vnd.jupyter.widget-state+json": {
    "state": {},
    "version_major": 2,
    "version_minor": 0
   }
  }
 },
 "nbformat": 4,
 "nbformat_minor": 4
}
