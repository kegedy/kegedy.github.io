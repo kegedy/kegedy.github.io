{
 "cells": [
  {
   "cell_type": "markdown",
   "id": "eb282cc7",
   "metadata": {},
   "source": [
    "# Preferences"
   ]
  },
  {
   "cell_type": "markdown",
   "id": "10c8725a",
   "metadata": {},
   "source": [
    "## Mouse Wheel  Configuration"
   ]
  },
  {
   "cell_type": "markdown",
   "id": "6f7eb5a0",
   "metadata": {},
   "source": [
    "**Uncheck** System >> Mouse Wheel Configuration >> Zoom Main Window >> Ctrl\n",
    "\n",
    "![](img/MouseWheelConfig.png)"
   ]
  },
  {
   "cell_type": "markdown",
   "id": "5c73691f",
   "metadata": {},
   "source": [
    "## PCB Editor General"
   ]
  },
  {
   "cell_type": "markdown",
   "id": "623ce5cb",
   "metadata": {},
   "source": [
    "**Uncheck** PCB Editor >> General >> Enable Auto Pan\n",
    "\n",
    "![](img/EnableAutoPan.png)"
   ]
  },
  {
   "cell_type": "markdown",
   "id": "703be24f",
   "metadata": {},
   "source": [
    "**Check** Repour Polygons After Modification\n",
    "\n",
    "**Check** Repour all dependent polygons after editing\n",
    "\n",
    "![](img/PolygonRebuild.png)"
   ]
  },
  {
   "cell_type": "markdown",
   "id": "47f41860",
   "metadata": {},
   "source": [
    "## Board Insight Display"
   ]
  },
  {
   "cell_type": "markdown",
   "id": "e716fa8f",
   "metadata": {},
   "source": [
    "**Uncheck** PCB Editor >> Board Insight Display >> ‘Live highlighting only when shift key down’\n",
    "\n",
    "![](img/LiveHighlighting.png)"
   ]
  },
  {
   "cell_type": "markdown",
   "id": "3103929c",
   "metadata": {},
   "source": [
    "**Uncheck** PCB Editor >> Board Insight Display >> 'Hide Other Layers' and 'Monochrome Other Layers'. \n",
    "\n",
    "**Check** 'Gray Scale Other Layers'\n",
    "\n",
    "**Shortcut: Shift + s** to make background layers grayscale  \n",
    "\n",
    "![](img/GrayscaleLayers.png)"
   ]
  },
  {
   "cell_type": "markdown",
   "id": "2607c3f7",
   "metadata": {},
   "source": [
    "## DRC Violations Display"
   ]
  },
  {
   "cell_type": "markdown",
   "id": "b578ce57",
   "metadata": {},
   "source": [
    "**Select** PCB Editor >> DRC Violations Display >> Silk To Silk Clearance\n",
    "\n",
    "**Shortcut: Ctrl + \\[** to control brightness intensity\n",
    "\n",
    "![](img/SilkToSilkClearance.png)"
   ]
  },
  {
   "cell_type": "markdown",
   "id": "b4a99ab6",
   "metadata": {},
   "source": [
    "## Interactive Routing"
   ]
  },
  {
   "cell_type": "markdown",
   "id": "59bae29e",
   "metadata": {},
   "source": [
    "**Uncheck** Allow Via Pushing [my preference since it leads to errors]\n",
    "\n",
    "**Shortcut: Shift + r** to change interactive routing mode\n",
    "\n",
    "![](img/InteractiveRoutingOptions.png)"
   ]
  }
 ],
 "metadata": {
  "kernelspec": {
   "display_name": "Python 3 (ipykernel)",
   "language": "python",
   "name": "python3"
  },
  "language_info": {
   "codemirror_mode": {
    "name": "ipython",
    "version": 3
   },
   "file_extension": ".py",
   "mimetype": "text/x-python",
   "name": "python",
   "nbconvert_exporter": "python",
   "pygments_lexer": "ipython3",
   "version": "3.7.9"
  },
  "varInspector": {
   "cols": {
    "lenName": 16,
    "lenType": 16,
    "lenVar": 40
   },
   "kernels_config": {
    "python": {
     "delete_cmd_postfix": "",
     "delete_cmd_prefix": "del ",
     "library": "var_list.py",
     "varRefreshCmd": "print(var_dic_list())"
    },
    "r": {
     "delete_cmd_postfix": ") ",
     "delete_cmd_prefix": "rm(",
     "library": "var_list.r",
     "varRefreshCmd": "cat(var_dic_list()) "
    }
   },
   "types_to_exclude": [
    "module",
    "function",
    "builtin_function_or_method",
    "instance",
    "_Feature"
   ],
   "window_display": false
  }
 },
 "nbformat": 4,
 "nbformat_minor": 5
}
