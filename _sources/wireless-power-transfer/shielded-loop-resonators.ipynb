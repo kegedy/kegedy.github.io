{
 "cells": [
  {
   "cell_type": "markdown",
   "metadata": {},
   "source": [
    "# Shielded-Loop Resonators"
   ]
  },
  {
   "cell_type": "markdown",
   "metadata": {},
   "source": [
    "## Topics"
   ]
  },
  {
   "cell_type": "markdown",
   "metadata": {},
   "source": [
    "- Measurements of isolated (uncoupled) shielded-loop resonators\n",
    "- De-embedding the feedline\n",
    "- Modeling the resonator as an RLC circuit"
   ]
  },
  {
   "cell_type": "markdown",
   "metadata": {},
   "source": [
    "## Useful Equations"
   ]
  },
  {
   "cell_type": "markdown",
   "metadata": {},
   "source": [
    "$$\n",
    "\\begin{align*}\n",
    "\\lambda &= \\dfrac{u_p}{f} \\ (m) \\\\[0.5em]\n",
    "u_p &= \\dfrac{\\omega}{\\beta} = \\dfrac{2l}{\\Delta t} \\ (m/s) \\\\[0.5em]\n",
    "\\epsilon_r &= \\bigg(\\dfrac{c}{u_p} \\bigg)^2 \\\\[0.5em]\n",
    "Z_0 &= \\sqrt{\\dfrac{L'}{C'}} \\ (\\Omega) \\\\[0.5em]\n",
    "\\beta \\ &= \\omega \\sqrt{\\mu \\epsilon} = \\omega \\sqrt{L' C'} \\ (rad/m) \\\\[0.5em]\n",
    "Z_{in} &= Z_0 \\dfrac{Z_L + jZ_0 \\tan(\\beta l)}{Z_0 + jZ_L\\tan(\\beta l)} \\ (\\Omega)\n",
    "\\end{align*}\n",
    "$$"
   ]
  },
  {
   "cell_type": "markdown",
   "metadata": {},
   "source": [
    "## Magnetically-Coupled Resonators"
   ]
  },
  {
   "cell_type": "markdown",
   "metadata": {},
   "source": [
    "```{figure} img/resonator-schematic.png\n",
    "Schematic of Magnetically-Coupled Resonators\n",
    "```"
   ]
  },
  {
   "cell_type": "markdown",
   "metadata": {},
   "source": [
    "$$\n",
    "\\begin{align*}\n",
    "Z_{in} &= \\dfrac{v_x}{i_1} = R_1 + j\\bigg(\\omega L_1 - \\dfrac{1}{\\omega C_1} \\bigg) + \\dfrac{(\\omega M)^2}{R_2 + R_L + j\\bigg(\\omega L_2 - \\dfrac{1}{\\omega C_2} \\bigg)}\n",
    "\\end{align*}\n",
    "$$"
   ]
  },
  {
   "cell_type": "markdown",
   "metadata": {},
   "source": [
    "$$\n",
    "\\begin{align*}\n",
    "Z_{out} = R_2 + j\\bigg(\\omega L_2 - \\dfrac{1}{\\omega C_2} \\bigg) + \\dfrac{(\\omega M)^2}{R_1 + R_S + j\\bigg(\\omega L_1 - \\dfrac{1}{\\omega C_1} \\bigg)}\n",
    "\\end{align*}\n",
    "$$"
   ]
  },
  {
   "cell_type": "markdown",
   "metadata": {},
   "source": [
    "## Shielded-Loop Model"
   ]
  },
  {
   "cell_type": "markdown",
   "metadata": {},
   "source": [
    "```{figure} img/open-circuited-stub.png\n",
    "Shielded-Loop Resonator as Open-Circuited Stub\n",
    "```"
   ]
  },
  {
   "cell_type": "markdown",
   "metadata": {},
   "source": [
    "```{figure} img/open-circuited-stub-schematic.png\n",
    "Open-Circuited Stub Completes Resonant Circuit\n",
    "```"
   ]
  },
  {
   "cell_type": "markdown",
   "metadata": {},
   "source": [
    "**Loop capacitance for open-circuited transmission line stub** \n",
    "\n",
    "$$\n",
    "\\begin{align*}\n",
    "Z_{in} &= -j Z_0 \\cot(\\beta l) \\bigg|_{\\beta l \\ll 1} \\\\[0.5em]\n",
    "Z_{in} &= -j \\dfrac{Z_0}{\\beta l} \\\\[0.5em]\n",
    "Z_{in} &= -j \\dfrac{\\sqrt{L'/C'}}{\\omega \\sqrt{L' C'} l} \\\\[0.5em]\n",
    "Z_{in} &= -j \\dfrac{1}{\\omega C' l} \\\\[0.5em]\n",
    "C &\\approx C' l\n",
    "\\end{align*}\n",
    "$$\n",
    "$C'$ is the per-unit-length capacitance of the tranmission line"
   ]
  },
  {
   "cell_type": "markdown",
   "metadata": {},
   "source": [
    "**Line parameters**\n",
    "\n",
    "$$\n",
    "\\begin{align*}\n",
    "C' &= \\dfrac{\\sqrt{\\mu \\epsilon}}{Z_0} = \\dfrac{\\sqrt{\\epsilon_r} }{c Z_0} \\\\[0.5em]\n",
    "C &= \\dfrac{\\sqrt{\\epsilon_r}}{c Z_0} l \\\\[0.5em] \n",
    "L &= \\mu r \\bigg[\\ln{\\bigg(\\dfrac{8r}{a_0} \\bigg)}-1.75 \\bigg], \\ {a_0 = \\dfrac{d}{4}} \\\\[0.5em] \n",
    "L &= \\mu r \\bigg[\\ln{\\bigg(\\dfrac{32r}{d} \\bigg)}-1.75 \\bigg] \\\\[0.5em] \n",
    "\\beta &= \\omega \\sqrt{L' C'} = \\dfrac{\\omega \\sqrt{\\epsilon_r}}{c}\n",
    "\\end{align*}\n",
    "$$\n",
    "\n",
    "- $\\mu$ is the permeability of the surrounding medium  \n",
    "- $r$ is the radius of the loop  \n",
    "- $a_0$ is the cross-sectional radius of the loop; defined where rectangular cross-section wire and circular cross-section wire are approximately equal  \n",
    "- $d$ is the width of the rectangular wire"
   ]
  },
  {
   "cell_type": "markdown",
   "metadata": {},
   "source": [
    "**Resonant Frequency**\n",
    "\n",
    "$$\n",
    "\\begin{align*}\n",
    "0 &= j \\omega_0 L + \\dfrac{1}{j \\omega_0 C} \\\\[0.5em]\n",
    "\\omega_0 &= \\dfrac{1}{\\sqrt{LC}} \\\\[0.5em]\n",
    "f_0 &= \\dfrac{1}{2\\pi \\sqrt{LC}}\n",
    "\\end{align*}\n",
    "$$"
   ]
  },
  {
   "cell_type": "markdown",
   "metadata": {},
   "source": [
    "**Given shielded-loop parameters**"
   ]
  },
  {
   "cell_type": "markdown",
   "metadata": {},
   "source": [
    "| <div style=\"width:200px\">Dielectric Properties</div> | <div style=\"width:200px\"></div>  |\n",
    "|:---|:---|\n",
    "| Material  | Rogers RT/Duroid 5880  |\n",
    "| Relative Permitivity  | $\\epsilon_r = 2.2$  |\n",
    "| Loss Tangent  | $\\tan \\delta = 0.009$  |"
   ]
  },
  {
   "cell_type": "markdown",
   "metadata": {},
   "source": [
    "| <div style=\"width:200px\">Conductor Properties</div>  | <div style=\"width:200px\"></div>   |\n",
    "|:---|:---|\n",
    "| Material  | copper  |\n",
    "| Conductivity  | 5.8E7 Siemens  |\n",
    "| Thickness  | 70 $\\mu$m  |"
   ]
  },
  {
   "cell_type": "markdown",
   "metadata": {},
   "source": [
    "| <div style=\"width:200px\">Geometry</div>  | <div style=\"width:200px\"></div>  |\n",
    "|:---|:---|\n",
    "| Radii  | 5cm and 9cm  |\n",
    "| Cross-sectional width  | $d = 15$ mm  |\n",
    "| Cross-sectional thickness  | $3.32$ mm  |"
   ]
  },
  {
   "cell_type": "markdown",
   "metadata": {},
   "source": [
    "| <div style=\"width:200px\">Stripline Tranmission Line</div>  | <div style=\"width:200px\"></div>  |\n",
    "|:---|:---|\n",
    "| Characteristic impedance  | $Z_0 = 50\\Omega$  |"
   ]
  },
  {
   "cell_type": "markdown",
   "metadata": {},
   "source": [
    "## De-embedding the Feedline"
   ]
  },
  {
   "cell_type": "markdown",
   "metadata": {},
   "source": [
    "```{figure} img/reflection-coefficient.png\n",
    "Effect of Transmission Line on Reflection Coefficient\n",
    "```"
   ]
  },
  {
   "cell_type": "markdown",
   "metadata": {},
   "source": [
    "$$\n",
    "\\begin{align*}\n",
    "\\Gamma_{in}' &= \\Gamma_{in}e^{-2j \\beta l}\n",
    "\\end{align*}\n",
    "$$"
   ]
  },
  {
   "cell_type": "markdown",
   "metadata": {},
   "source": [
    "The insertion of a transmission line with characteristic impedance $Z_0$ will change the phase\n",
    "of the load input reflection coefficient. Thus, the phase of $\\Gamma_{in}'$ should be increased by 2𝛽𝑙 to find the reflection coefficient of the RLC portion of the loop ($\\Gamma_{in}$). Note $\\beta$ is frequency dependent so each frequency point must be adjusted by a different phase value.\n",
    "\n",
    "De-embedding is the process of removing feedline effects."
   ]
  },
  {
   "cell_type": "markdown",
   "metadata": {},
   "source": [
    "## Characterize the Resonator as an RLC Circuit"
   ]
  },
  {
   "cell_type": "markdown",
   "metadata": {},
   "source": [
    "[E5063A ENA Vector Network Analyzer](https://www.keysight.com/us/en/product/E5063A/e5063a-ena-vector-network-analyzer.html)\n",
    "\n",
    "**Measurements**\n",
    "\n",
    "| Loop | Resonant Frequency | Reflection Coefficient $\\Gamma_{in}'(f_0)$ | Phase $\\phi$ |\n",
    "|:---|:---|:---|:---|\n",
    "| 5 cm loop  | $f_0 = 85.7$ MHz |    |    |\n",
    "| 9 cm loop  | $f_0 = 47.4$ MHz |    |    |\n",
    "\n",
    "**Calculate: Electrical Length**\n",
    "\n",
    "$$\n",
    "\\begin{align*}\n",
    "2\\beta l = (180^{\\circ} - \\phi)\\cdot \\dfrac{pi}{180^{\\circ}}\n",
    "\\end{align*}\n",
    "$$\n",
    "\n",
    "| Loop  | $\\beta l$ |\n",
    "|:---|:---:|\n",
    "| 5 cm loop  |   |\n",
    "| 9 cm loop  |   |"
   ]
  },
  {
   "cell_type": "markdown",
   "metadata": {},
   "source": [
    "**Finding R**"
   ]
  },
  {
   "cell_type": "markdown",
   "metadata": {},
   "source": [
    "At resonance, the input impedance $Z_{in}$ is purely real.  $Z_{in} = R_{in} < Z_0.$ Note the input reflection coefficient is purely real and negative."
   ]
  },
  {
   "cell_type": "markdown",
   "metadata": {},
   "source": [
    "$$\n",
    "\\begin{align*}\n",
    "R = R_{in}(f_0) &= Z_0 \\dfrac{1 + \\Gamma_{in}}{1 - \\Gamma_{in}} \\\\[0.5em]\n",
    "&= Z_0 \\dfrac{1 - |\\Gamma_{in}|}{1 + |\\Gamma_{in}|}\n",
    "\\end{align*}\n",
    "$$"
   ]
  },
  {
   "cell_type": "markdown",
   "metadata": {},
   "source": [
    "Additionally, if the feedline is lossless, then $|\\Gamma_{in}'| = \\Gamma_{in}|$."
   ]
  },
  {
   "cell_type": "markdown",
   "metadata": {},
   "source": [
    "**Finding L and C**"
   ]
  },
  {
   "cell_type": "markdown",
   "metadata": {},
   "source": [
    "To find $L$ and $C$, we need measurements at two distinct frequencies."
   ]
  },
  {
   "cell_type": "markdown",
   "metadata": {},
   "source": [
    "$$\n",
    "\\begin{align*}\n",
    "\\omega_a = 2 \\pi (f_0 - 2 \\text{MHz}) & \\ & \\omega_b = 2 \\pi (f_0 + 2 \\text{MHz}) \\\\[0.5em]\n",
    "\\Gamma_a' = \\Gamma_{in}'(\\omega_a) & \\ & \\Gamma_b' =\\Gamma_{in}'(\\omega_b) \\\\[0.5em]\n",
    "\\Gamma_a = \\Gamma_a' e^{2j \\beta_a l} & \\ & \\Gamma_b = \\Gamma_b' e^{2j \\beta_b l} \n",
    "\\end{align*}\n",
    "$$"
   ]
  },
  {
   "cell_type": "markdown",
   "metadata": {},
   "source": [
    "**Measurements: Reflection Coefficient**\n",
    "\n",
    "| Loop  | $\\Gamma_{a}'$  |  $\\Gamma_{b}'$  |\n",
    "|:---|:---:|:---:|\n",
    "| 5 cm loop  |   |   |\n",
    "| 9 cm loop  |   |   |\n",
    "\n",
    "\n",
    "**Calculate: Electric Length**\n",
    "\n",
    "$$\n",
    "\\begin{align*}\n",
    "\\beta_a l = \\beta l \\cdot \\bigg(\\dfrac{f_0 -2\\text{MHz}}{f_0}\\bigg) &  & \n",
    "\\beta_b l = \\beta l \\cdot \\bigg(\\dfrac{f_0 +2\\text{MHz}}{f_0}\\bigg) \\\\\n",
    "\\end{align*}\n",
    "$$\n",
    "\n",
    "| Loop  | $\\beta_a l$ | $\\beta_b l$  |\n",
    "|:---|:---:|:---:|\n",
    "| 5 cm loop  |   |   |\n",
    "| 9 cm loop  |   |   |"
   ]
  },
  {
   "cell_type": "markdown",
   "metadata": {},
   "source": [
    "Using the de-embedded input reflection coefficients, the following is defined"
   ]
  },
  {
   "cell_type": "markdown",
   "metadata": {},
   "source": [
    "$$\n",
    "\\begin{align*}\n",
    "X_a = Im\\bigg\\{Z_0\\dfrac{1+\\Gamma_a}{1-\\Gamma_a} \\bigg\\} = \\omega_a L - \\dfrac{1}{\\omega_a C} \\\\[0.5em]\n",
    "X_b = Im\\bigg\\{Z_0\\dfrac{1+\\Gamma_b}{1-\\Gamma_b} \\bigg\\} = \\omega_b L - \\dfrac{1}{\\omega_b C}\n",
    "\\end{align*}\n",
    "$$"
   ]
  },
  {
   "cell_type": "markdown",
   "metadata": {},
   "source": [
    "Solving these relations simultaneously results in expressions for $L$ and $C$."
   ]
  },
  {
   "cell_type": "markdown",
   "metadata": {},
   "source": [
    "$$\n",
    "\\begin{align*}\n",
    "C &= \\dfrac{\\omega_b^2 - \\omega_a^2}{\\omega_a^2 \\omega_b X_b - \\omega_b^2 \\omega_a X_a} \\\\[0.5em]\n",
    "L &= \\dfrac{\\omega_b X_b + \\dfrac{1}{C}}{\\omega_b^2}\n",
    "\\end{align*}\n",
    "$$"
   ]
  },
  {
   "cell_type": "markdown",
   "metadata": {},
   "source": [
    "**Q Factor**"
   ]
  },
  {
   "cell_type": "markdown",
   "metadata": {},
   "source": [
    "$$\n",
    "\\begin{align*}\n",
    "Q(f_0) = \\dfrac{\\omega_0 L}{R} &= \\dfrac{1}{\\omega_0 R C} \\\\[0.5em]\n",
    "    &= \\dfrac{\\sqrt{LC}}{RC} \\\\[0.5em]\n",
    "    &= \\dfrac{1}{R}\\sqrt{\\dfrac{L}{C}}\n",
    "\\end{align*}\n",
    "$$"
   ]
  },
  {
   "cell_type": "markdown",
   "metadata": {},
   "source": [
    "## Summary\n",
    "\n",
    "|   | $R \\ (\\Omega)$  | $L \\ (nH)$  | $C \\ (pF)$  | $Q$  |\n",
    "|---|---|---|---|---|\n",
    "| 5 cm loop  |   |   |   |   |\n",
    "| 9 cm loop  |   |   |   |   |"
   ]
  },
  {
   "cell_type": "code",
   "execution_count": null,
   "metadata": {},
   "outputs": [],
   "source": []
  }
 ],
 "metadata": {
  "interpreter": {
   "hash": "31f2aee4e71d21fbe5cf8b01ff0e069b9275f58929596ceb00d14d90e3e16cd6"
  },
  "kernelspec": {
   "display_name": "Python 3.10.6 64-bit",
   "name": "python3"
  },
  "language_info": {
   "name": "python",
   "version": ""
  },
  "varInspector": {
   "cols": {
    "lenName": 16,
    "lenType": 16,
    "lenVar": 40
   },
   "kernels_config": {
    "python": {
     "delete_cmd_postfix": "",
     "delete_cmd_prefix": "del ",
     "library": "var_list.py",
     "varRefreshCmd": "print(var_dic_list())"
    },
    "r": {
     "delete_cmd_postfix": ") ",
     "delete_cmd_prefix": "rm(",
     "library": "var_list.r",
     "varRefreshCmd": "cat(var_dic_list()) "
    }
   },
   "types_to_exclude": [
    "module",
    "function",
    "builtin_function_or_method",
    "instance",
    "_Feature"
   ],
   "window_display": false
  }
 },
 "nbformat": 4,
 "nbformat_minor": 5
}