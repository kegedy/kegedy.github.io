{
 "cells": [
  {
   "cell_type": "markdown",
   "id": "339257ee",
   "metadata": {},
   "source": [
    "# Wireless Power Transfer"
   ]
  },
  {
   "cell_type": "markdown",
   "id": "c6ef85ed",
   "metadata": {},
   "source": [
    "## Advantages"
   ]
  },
  {
   "cell_type": "markdown",
   "id": "e99bb091",
   "metadata": {},
   "source": [
    "- safe: magnetic fields interact weakly with dielectric objects and living organisms, compared to electrostatic induction methods which interact strongly\n",
    "- affordable\n",
    "- simple to implement"
   ]
  },
  {
   "cell_type": "markdown",
   "id": "40789c51",
   "metadata": {},
   "source": [
    "## Useful Equations"
   ]
  },
  {
   "cell_type": "markdown",
   "id": "77f7e92b",
   "metadata": {},
   "source": [
    "$$\n",
    "\\begin{align*}\n",
    "\\lambda &= \\dfrac{u_p}{f} \\ (m) \\\\[0.5em]\n",
    "u_p &= \\dfrac{\\omega}{\\beta} = \\dfrac{2l}{\\Delta t} \\ (m/s) \\\\[0.5em]\n",
    "\\epsilon_r &= \\bigg(\\dfrac{c}{u_p} \\bigg)^2 \\\\[0.5em]\n",
    "Z_0 &= \\sqrt{\\dfrac{L'}{C'}} \\ (\\Omega) \\\\[0.5em]\n",
    "\\beta \\ &= \\omega \\sqrt{\\mu \\epsilon} = \\omega \\sqrt{L' C'} \\ (rad/m) \\\\[0.5em]\n",
    "Z_{in} &= Z_0 \\dfrac{Z_L + jZ_0 \\tan(\\beta l)}{Z_0 + jZ_L\\tan(\\beta l)} \\ (\\Omega)\n",
    "\\end{align*}\n",
    "$$"
   ]
  },
  {
   "cell_type": "markdown",
   "id": "7383c609",
   "metadata": {},
   "source": [
    "## Magnetically-Coupled Resonators"
   ]
  },
  {
   "cell_type": "markdown",
   "id": "5d70ccd6",
   "metadata": {},
   "source": [
    "```{figure} img/resonator-schematic.png\n",
    "Schematic of Magnetically-Coupled Resonators with Parasitics\n",
    "```"
   ]
  },
  {
   "cell_type": "markdown",
   "id": "38befa20",
   "metadata": {},
   "source": [
    "$$\n",
    "\\begin{align*}\n",
    "Z_{in} &= \\dfrac{v_x}{i_1} = R_1 + j\\bigg(\\omega L_1 - \\dfrac{1}{\\omega C_1} \\bigg) + \\dfrac{(\\omega M)^2}{R_2 + R_L + j\\bigg(\\omega L_2 - \\dfrac{1}{\\omega C_2} \\bigg)}\n",
    "\\end{align*}\n",
    "$$"
   ]
  },
  {
   "cell_type": "markdown",
   "id": "1b0e6d68",
   "metadata": {},
   "source": [
    "$$\n",
    "\\begin{align*}\n",
    "Z_{out} = R_2 + j\\bigg(\\omega L_2 - \\dfrac{1}{\\omega C_2} \\bigg) + \\dfrac{(\\omega M)^2}{R_1 + R_S + j\\bigg(\\omega L_1 - \\dfrac{1}{\\omega C_1} \\bigg)}\n",
    "\\end{align*}\n",
    "$$"
   ]
  },
  {
   "cell_type": "markdown",
   "id": "81f09e9c",
   "metadata": {},
   "source": [
    "## Shielded-Loop Model"
   ]
  },
  {
   "cell_type": "markdown",
   "id": "74be914c",
   "metadata": {},
   "source": [
    "```{figure} img/open-circuited-stub.png\n",
    "Shielded-Loop Resonator Modeled as Open-Circuited Stub\n",
    "```"
   ]
  },
  {
   "cell_type": "markdown",
   "id": "867efad6",
   "metadata": {},
   "source": [
    "```{figure} img/open-circuited-stub-schematic.png\n",
    "Open-Circuited Stub Acts as a Capacitance\n",
    "```"
   ]
  },
  {
   "cell_type": "markdown",
   "id": "8a437722",
   "metadata": {},
   "source": [
    "**Loop capacitance for open-circuited transmission line stub** \n",
    "\n",
    "$$\n",
    "\\begin{align*}\n",
    "Z_{in} &= -j Z_0 \\cot(\\beta l) \\bigg|_{\\beta l \\ll 1} \\\\[0.5em]\n",
    "Z_{in} &= -j \\dfrac{Z_0}{\\beta l} \\\\[0.5em]\n",
    "Z_{in} &= -j \\dfrac{\\sqrt{L'/C'}}{\\omega \\sqrt{L' C'} l} \\\\[0.5em]\n",
    "Z_{in} &= -j \\dfrac{1}{\\omega C' l} \\\\[0.5em]\n",
    "C &\\approx C' l\n",
    "\\end{align*}\n",
    "$$\n",
    "$C'$ is the per-unit-length capacitance of the tranmission line"
   ]
  },
  {
   "cell_type": "markdown",
   "id": "87df37f8",
   "metadata": {},
   "source": [
    "**Line parameters**\n",
    "\n",
    "$$\n",
    "\\begin{align*}\n",
    "C' &= \\dfrac{\\sqrt{\\mu \\epsilon}}{Z_0} = \\dfrac{\\sqrt{\\epsilon_r} }{c Z_0} \\\\[0.5em]\n",
    "C &= \\dfrac{\\sqrt{\\epsilon_r}}{c Z_0} l \\\\[0.5em] \n",
    "L &= \\mu r \\bigg[\\ln{\\bigg(\\dfrac{8r}{a_0} \\bigg)}-1.75 \\bigg], \\ {a_0 = \\dfrac{d}{4}} \\\\[0.5em] \n",
    "L &= \\mu r \\bigg[\\ln{\\bigg(\\dfrac{32r}{d} \\bigg)}-1.75 \\bigg] \\\\[0.5em] \n",
    "\\beta &= \\omega \\sqrt{L' C'} = \\dfrac{\\omega \\sqrt{\\epsilon_r}}{c}\n",
    "\\end{align*}\n",
    "$$\n",
    "\n",
    "- $\\mu$ is the permeability of the surrounding medium  \n",
    "- $r$ is the radius of the loop  \n",
    "- $a_0$ is the cross-sectional radius of the loop; defined where rectangular cross-section wire and circular cross-section wire are approximately equivalent  \n",
    "- $d$ is the width of the rectangular wire"
   ]
  },
  {
   "cell_type": "markdown",
   "id": "347aaedd",
   "metadata": {},
   "source": [
    "**Resonant Frequency**\n",
    "\n",
    "$$\n",
    "\\begin{align*}\n",
    "0 &= j \\omega_0 L + \\dfrac{1}{j \\omega_0 C} \\\\[0.5em]\n",
    "\\omega_0 &= \\dfrac{1}{\\sqrt{LC}} \\\\[0.5em]\n",
    "f_0 &= \\dfrac{1}{2\\pi \\sqrt{LC}}\n",
    "\\end{align*}\n",
    "$$"
   ]
  },
  {
   "cell_type": "markdown",
   "id": "a3edd6e3",
   "metadata": {},
   "source": [
    "**Given shielded-loop parameters**"
   ]
  },
  {
   "cell_type": "markdown",
   "id": "d6c18061",
   "metadata": {},
   "source": [
    "| Dielectric Properties |   |\n",
    "|:---|:---|\n",
    "| Material  | Rogers RT/Duroid 5880  |\n",
    "| Relative Permitivity  | $\\epsilon_r = 2.2$  |\n",
    "| Loss Tangent  | $\\tan \\delta = 0.009$  |"
   ]
  },
  {
   "cell_type": "markdown",
   "id": "5b873fb8",
   "metadata": {},
   "source": [
    "| Conductor Properties |   |\n",
    "|:---|:---|\n",
    "| Material  | copper  |\n",
    "| Conductivity  | 5.8E7 Siemens  |\n",
    "| Thickness  | 70 $\\mu$m  |"
   ]
  },
  {
   "cell_type": "markdown",
   "id": "3c725c57",
   "metadata": {},
   "source": [
    "| Geometry  |   |\n",
    "|:---|:---|\n",
    "| Radii  | 5cm and 9cm  |\n",
    "| Cross-sectional width  | $d = 15$ mm  |\n",
    "| Cross-sectional thickness  | $3.32$ mm  |"
   ]
  },
  {
   "cell_type": "markdown",
   "id": "9524331a",
   "metadata": {},
   "source": [
    "| Stripline Tranmission Line  |   |\n",
    "|:---|:---|\n",
    "| Characteristic impedance  | $Z_0 = 50\\Omega$  |"
   ]
  },
  {
   "cell_type": "markdown",
   "id": "7d549e70",
   "metadata": {},
   "source": [
    "## Resonant Frequency Results"
   ]
  },
  {
   "cell_type": "markdown",
   "id": "446a0be3",
   "metadata": {},
   "source": [
    "[E5063A ENA Vector Network Analyzer](https://www.keysight.com/us/en/product/E5063A/e5063a-ena-vector-network-analyzer.html)\n",
    "\n",
    "| Loop | Resonant Frequency |\n",
    "|:---|:---|\n",
    "| 5 cm loop  | f_0 = 85.7 MHz |\n",
    "| 9 cm loop  | f_0 = 47.4 MHz |"
   ]
  },
  {
   "cell_type": "markdown",
   "id": "3e9c7c57",
   "metadata": {},
   "source": [
    "## De-embedding the Feedline"
   ]
  },
  {
   "cell_type": "markdown",
   "id": "bc6fded9",
   "metadata": {},
   "source": []
  },
  {
   "cell_type": "code",
   "execution_count": null,
   "id": "db29ee45",
   "metadata": {},
   "outputs": [],
   "source": []
  }
 ],
 "metadata": {
  "kernelspec": {
   "display_name": "Python 3 (ipykernel)",
   "language": "python",
   "name": "python3"
  },
  "language_info": {
   "codemirror_mode": {
    "name": "ipython",
    "version": 3
   },
   "file_extension": ".py",
   "mimetype": "text/x-python",
   "name": "python",
   "nbconvert_exporter": "python",
   "pygments_lexer": "ipython3",
   "version": "3.7.9"
  },
  "varInspector": {
   "cols": {
    "lenName": 16,
    "lenType": 16,
    "lenVar": 40
   },
   "kernels_config": {
    "python": {
     "delete_cmd_postfix": "",
     "delete_cmd_prefix": "del ",
     "library": "var_list.py",
     "varRefreshCmd": "print(var_dic_list())"
    },
    "r": {
     "delete_cmd_postfix": ") ",
     "delete_cmd_prefix": "rm(",
     "library": "var_list.r",
     "varRefreshCmd": "cat(var_dic_list()) "
    }
   },
   "types_to_exclude": [
    "module",
    "function",
    "builtin_function_or_method",
    "instance",
    "_Feature"
   ],
   "window_display": false
  }
 },
 "nbformat": 4,
 "nbformat_minor": 5
}
