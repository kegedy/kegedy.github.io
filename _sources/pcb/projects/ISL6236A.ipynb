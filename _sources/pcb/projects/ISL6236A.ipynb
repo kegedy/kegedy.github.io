{
 "cells": [
  {
   "cell_type": "markdown",
   "id": "19bcbb75",
   "metadata": {},
   "source": [
    "# ISL6236A"
   ]
  },
  {
   "cell_type": "markdown",
   "id": "245ba659",
   "metadata": {},
   "source": [
    "The ISL6236A controller generates dual logic-supply voltages in battery-powered systems."
   ]
  },
  {
   "cell_type": "markdown",
   "id": "2b086a0e",
   "metadata": {},
   "source": [
    "```{figure} ISL6236A/ISL6236A-all-layers.png\n",
    "All Layers\n",
    "```"
   ]
  },
  {
   "cell_type": "markdown",
   "id": "10a49bc5",
   "metadata": {},
   "source": [
    "```{figure} ISL6236A/ISL6236A-top-and-bottom.png\n",
    "Top and Bottom Layers\n",
    "```"
   ]
  },
  {
   "cell_type": "markdown",
   "id": "b9817370",
   "metadata": {},
   "source": [
    "```{figure} ISL6236A/ISL6236A-top-3D.png\n",
    "Top 3D View\n",
    "```"
   ]
  },
  {
   "cell_type": "markdown",
   "id": "660f371d",
   "metadata": {},
   "source": [
    "```{figure} ISL6236A/ISL6236A-bottom-3D.png\n",
    "Bottom 3D View\n",
    "```"
   ]
  },
  {
   "cell_type": "markdown",
   "id": "5f318f03",
   "metadata": {},
   "source": [
    "```{figure} ISL6236A/ISL6236A_schematic.png\n",
    "Schematic\n",
    "```"
   ]
  }
 ],
 "metadata": {
  "interpreter": {
   "hash": "31f2aee4e71d21fbe5cf8b01ff0e069b9275f58929596ceb00d14d90e3e16cd6"
  },
  "kernelspec": {
   "display_name": "Python 3 (ipykernel)",
   "language": "python",
   "name": "python3"
  },
  "language_info": {
   "codemirror_mode": {
    "name": "ipython",
    "version": 3
   },
   "file_extension": ".py",
   "mimetype": "text/x-python",
   "name": "python",
   "nbconvert_exporter": "python",
   "pygments_lexer": "ipython3",
   "version": "3.7.9"
  },
  "varInspector": {
   "cols": {
    "lenName": 16,
    "lenType": 16,
    "lenVar": 40
   },
   "kernels_config": {
    "python": {
     "delete_cmd_postfix": "",
     "delete_cmd_prefix": "del ",
     "library": "var_list.py",
     "varRefreshCmd": "print(var_dic_list())"
    },
    "r": {
     "delete_cmd_postfix": ") ",
     "delete_cmd_prefix": "rm(",
     "library": "var_list.r",
     "varRefreshCmd": "cat(var_dic_list()) "
    }
   },
   "types_to_exclude": [
    "module",
    "function",
    "builtin_function_or_method",
    "instance",
    "_Feature"
   ],
   "window_display": false
  }
 },
 "nbformat": 4,
 "nbformat_minor": 5
}
