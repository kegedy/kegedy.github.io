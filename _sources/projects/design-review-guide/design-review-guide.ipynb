{
 "cells": [
  {
   "cell_type": "markdown",
   "id": "68c44136",
   "metadata": {},
   "source": [
    "# Design Review Guide"
   ]
  },
  {
   "cell_type": "markdown",
   "id": "a82473a2",
   "metadata": {},
   "source": [
    "[Altium: PCB Review Pre-Checklist](https://resources.altium.com/p/pcb-design-and-review-checklist#before-submitting-your-board-for-pcb-design-review)\n",
    "\n",
    "**Required**\n",
    "- Validate project/schematic\n",
    "- Update PCB from schematic\n",
    "- Repour all polygons\n",
    "- Check design rule report passes with no errors"
   ]
  },
  {
   "cell_type": "markdown",
   "id": "c5b58bb9",
   "metadata": {},
   "source": [
    "## Altium PCB Filter"
   ]
  },
  {
   "cell_type": "markdown",
   "id": "3edbfb22",
   "metadata": {},
   "source": [
    "[Altium Designer Query Language](https://www.altium.com/documentation/altium-designer/working-with-the-query-language#!pcb_filter_panel)"
   ]
  },
  {
   "cell_type": "markdown",
   "id": "2a1b11be",
   "metadata": {},
   "source": [
    "### Check assembly text is oriented correctly\n",
    "\n",
    "```\n",
    "IsText and OnLayer('ASM  Top') and  (Rotation = 180000)\n",
    "```"
   ]
  },
  {
   "cell_type": "markdown",
   "id": "c735533c",
   "metadata": {},
   "source": [
    "### Find traces of desired widths on a given layer\n",
    "\n",
    "```\n",
    "(OnLayer('L1') or OnLayer('L2')) and IsTrack and (Width > 0.381)\n",
    "```"
   ]
  }
 ],
 "metadata": {
  "kernelspec": {
   "display_name": "Python 3 (ipykernel)",
   "language": "python",
   "name": "python3"
  },
  "language_info": {
   "codemirror_mode": {
    "name": "ipython",
    "version": 3
   },
   "file_extension": ".py",
   "mimetype": "text/x-python",
   "name": "python",
   "nbconvert_exporter": "python",
   "pygments_lexer": "ipython3",
   "version": "3.7.9"
  },
  "varInspector": {
   "cols": {
    "lenName": 16,
    "lenType": 16,
    "lenVar": 40
   },
   "kernels_config": {
    "python": {
     "delete_cmd_postfix": "",
     "delete_cmd_prefix": "del ",
     "library": "var_list.py",
     "varRefreshCmd": "print(var_dic_list())"
    },
    "r": {
     "delete_cmd_postfix": ") ",
     "delete_cmd_prefix": "rm(",
     "library": "var_list.r",
     "varRefreshCmd": "cat(var_dic_list()) "
    }
   },
   "types_to_exclude": [
    "module",
    "function",
    "builtin_function_or_method",
    "instance",
    "_Feature"
   ],
   "window_display": false
  }
 },
 "nbformat": 4,
 "nbformat_minor": 5
}
