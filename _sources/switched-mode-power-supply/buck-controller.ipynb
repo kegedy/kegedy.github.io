{
 "cells": [
  {
   "cell_type": "markdown",
   "id": "e537961d",
   "metadata": {},
   "source": [
    "# Buck Controller"
   ]
  },
  {
   "cell_type": "markdown",
   "id": "af6db855",
   "metadata": {},
   "source": [
    "Find the small signal output voltage to duty ratio $G_{vd}(s)$ and small signal output current to duty ratio $G_{id}(s)$ transfer functions. General form defined as\n",
    "\\begin{align*}\n",
    "G_0 \\dfrac{1-\\dfrac{s}{w_z}}{1+\\dfrac{s}{Qw_0}+ \\left(\\dfrac{s}{\\omega_0} \\right)^2} .\\\\\n",
    "\\end{align*}\n"
   ]
  },
  {
   "cell_type": "markdown",
   "id": "0a7f623b",
   "metadata": {},
   "source": [
    "**Volt-Seconds**"
   ]
  },
  {
   "cell_type": "markdown",
   "id": "a42fa30c",
   "metadata": {},
   "source": [
    "\\begin{align*}\n",
    "\\langle v_{L}(t)\\rangle &= L\\frac{d}{dt} \\langle i(t)\\rangle = \n",
    "\\bigg[\\bigg(\\langle{v_g}(t)\\rangle -  \\langle i(t)\\rangle R_{on} - \\langle i(t)\\rangle R_L - \\langle v(t)\\rangle \\bigg)d(t) + \\bigg( -  \\langle i(t)\\rangle R_{on} - \\langle i(t)\\rangle R_L - \\langle v(t)\\rangle \\bigg)d'(t) \\bigg] \\\\[1em]\n",
    "\\langle v_{L}(t)\\rangle &= L\\frac{d}{dt} \\langle i(t)\\rangle = \n",
    "\\bigg[\\langle{v_g}(t)\\rangle d(t) -  \\langle i(t)\\rangle R_{on} - \\langle i(t)\\rangle R_L - \\langle v(t)\\rangle \\bigg] \\\\[1em]\n",
    "V_L &= V_g D - I R_{on} - I R_L - V \\\\[1em]\n",
    "V_L &= V_g D - \\dfrac{V}{R} R_{on} - \\dfrac{V}{R} R_L - V \\\\[1em]\n",
    "\\end{align*}"
   ]
  },
  {
   "cell_type": "markdown",
   "id": "5474daa0",
   "metadata": {},
   "source": [
    "**Charge Balance**"
   ]
  },
  {
   "cell_type": "markdown",
   "id": "6a9b0741",
   "metadata": {},
   "source": [
    "\\begin{align*}\n",
    "\\langle i_C (t) \\rangle &= \n",
    "C\\frac{d}{dt} \\langle v(t)\\rangle = \n",
    "\\bigg[\\bigg(\\langle i(t)\\rangle -\\frac{\\langle v(t)\\rangle}{R} \\bigg)d(t) +\\bigg(\\langle i(t)\\rangle -\\frac{\\langle v(t)\\rangle}{R} \\bigg)d'(t) \\bigg] \\\\[1em]\n",
    "\\langle i_C (t) \\rangle &= \n",
    "C\\frac{d}{dt} \\langle v(t)\\rangle = \n",
    "\\bigg[\\langle i(t)\\rangle -\\frac{\\langle v(t)\\rangle}{R} \\bigg] \\\\[1em]\n",
    "I &= \\dfrac{V}{R}\n",
    "\\end{align*}"
   ]
  },
  {
   "cell_type": "markdown",
   "id": "ef17d59b",
   "metadata": {},
   "source": [
    "**System Inputs** "
   ]
  },
  {
   "cell_type": "markdown",
   "id": "de2648a3",
   "metadata": {},
   "source": [
    "\\begin{align*}\n",
    "\\dot{x} = \\dfrac{d}{dt}\n",
    "\\begin{bmatrix}\n",
    "\\langle \\hat{i}(t)\\rangle \\\\\n",
    "\\langle \\hat{v}(t)\\rangle\n",
    "\\end{bmatrix} = \n",
    "\\begin{matrix}\n",
    "\\dfrac{1}{L} \\\\[1em]\n",
    "\\dfrac{1}{C}\n",
    "\\end{matrix}\n",
    "\\begin{bmatrix}\n",
    "\\langle{v_g}(t)\\rangle d(t) -  \\langle i(t)\\rangle R_{on} - \\langle i(t)\\rangle R_L - \\langle v(t)\\rangle \\\\[1em]\n",
    "\\langle i(t)\\rangle - \\dfrac{\\langle v(t)\\rangle}{R}\n",
    "\\end{bmatrix} \n",
    "\\end{align*}"
   ]
  },
  {
   "cell_type": "markdown",
   "id": "d7119920",
   "metadata": {},
   "source": [
    "## Linearized Small-Signal Model"
   ]
  },
  {
   "cell_type": "markdown",
   "id": "fcb7013d",
   "metadata": {},
   "source": [
    "**Derive a linearized small-signal model**"
   ]
  },
  {
   "cell_type": "markdown",
   "id": "cfa0f8f8",
   "metadata": {},
   "source": [
    "\\begin{align*}\n",
    "\\dot{\\hat{x}}(t) &\\approx A \\hat{x}(t) + B \\hat{u}(t) \\\\[0.5em]\n",
    "\\hat{y}(t) &= C \\hat{x}(t) + E  \\hat{u}(t) \n",
    "\\end{align*}\n",
    "\n",
    "**where** \n",
    "\n",
    "\\begin{matrix}\n",
    "x(t) = \\hat{x}(t) + X && X = \n",
    "\\begin{bmatrix}\n",
    "I \\\\\n",
    "V\n",
    "\\end{bmatrix} \\\\[0.5em] \n",
    "u(t) = \\hat{u}(t) + U && U = \n",
    "\\begin{bmatrix}\n",
    "D \\\\\n",
    "V_g \n",
    "\\end{bmatrix}\n",
    "\\\\[0.5em]\n",
    "\\end{matrix}"
   ]
  },
  {
   "cell_type": "markdown",
   "id": "65b470ac",
   "metadata": {},
   "source": [
    "**Find A, B, C, D**\n",
    "\n",
    "\\begin{align*}\n",
    "A = \\dfrac{d}{d\\hat{x}(t)} f(x(t),u(t))\\bigg|_{x=X,u=U} &= \n",
    "\\begin{bmatrix}\n",
    "\\ \\ \\dfrac{\\partial f_1}{\\partial x_1} & \\dfrac{\\partial f_1}{\\partial x_2} \\ \\ \\\\[1em] \n",
    "\\ \\ \\dfrac{\\partial f_2}{\\partial x_1} & \\dfrac{\\partial f_2}{\\partial x_2} \\ \\\n",
    "\\end{bmatrix}\\bigg|_{x,u} = \n",
    "\\begin{bmatrix}\n",
    "\\dfrac{\\partial f_1}{\\partial \\langle \\hat{i}(t)\\rangle} & \\dfrac{\\partial f_1}{\\partial \\langle \\hat{v}(t)\\rangle} \\\\[1em] \n",
    "\\dfrac{\\partial f_2}{\\partial \\langle \\hat{i}(t)\\rangle} & \\dfrac{\\partial f_2}{\\partial \\langle \\hat{v}(t)\\rangle}\n",
    "\\end{bmatrix}\\bigg|_{x,u} \\\\[1em]\n",
    "A &= \n",
    "\\begin{bmatrix}\n",
    "\\dfrac{-(R_{on} + R_L)}{L} & \\dfrac{-1}{L} \\\\[1em]\n",
    "\\dfrac{1}{C} & \\dfrac{-1}{RC}\n",
    "\\end{bmatrix}\n",
    "\\end{align*}"
   ]
  },
  {
   "cell_type": "markdown",
   "id": "12db1d49",
   "metadata": {},
   "source": [
    "\\begin{align*} B = \\dfrac{d}{d\\hat{u}(t)} f(x(t),u(t))\\bigg|_{x=X,u=U} &= \n",
    "\\begin{bmatrix}\n",
    "\\dfrac{\\partial f_1}{\\partial u_1} & \\dfrac{\\partial f_1}{\\partial u_2} \\\\[1em] \n",
    "\\dfrac{\\partial f_2}{\\partial u_1} & \\dfrac{\\partial f_2}{\\partial u_2}\n",
    "\\end{bmatrix}\\bigg|_{x,u} = \n",
    "\\begin{bmatrix}\n",
    "\\dfrac{\\partial f_1}{\\partial \\hat{d'}(t)} & \\dfrac{\\partial f_1}{\\partial \\langle \\hat{v_g}(t)\\rangle} \\\\[1em] \n",
    "\\dfrac{\\partial f_2}{\\partial \\hat{d'}(t)} & \\dfrac{\\partial f_2}{\\partial \\langle \\hat{v_g}(t)\\rangle}\n",
    "\\end{bmatrix}\\bigg|_{x,u} \\\\[1em]\n",
    "B &= \n",
    "\\begin{bmatrix}\n",
    "\\dfrac{V_g}{L} & \\dfrac{D}{L} \\\\[1em]\n",
    "0 & 0\n",
    "\\end{bmatrix}\n",
    "\\end{align*}"
   ]
  },
  {
   "cell_type": "markdown",
   "id": "ac66d2ac",
   "metadata": {},
   "source": [
    "C = \n",
    "\\begin{bmatrix}\n",
    "0 & 1  \\\\\n",
    "1 & 0\n",
    "\\end{bmatrix}\n",
    "\n",
    "E = \n",
    "\\begin{bmatrix}\n",
    "0 & 0 \\\\\n",
    "0 & 0\n",
    "\\end{bmatrix}"
   ]
  },
  {
   "cell_type": "markdown",
   "id": "b5167cdf",
   "metadata": {},
   "source": [
    "## System Outputs in Frequency Domain"
   ]
  },
  {
   "cell_type": "markdown",
   "id": "e91588f1",
   "metadata": {},
   "source": [
    "\\begin{align*}\n",
    "\\dot{\\hat{x}}(t) &= A \\hat{x}(t) + B \\hat{u}(t) \\\\[0.5em]\n",
    "\\dot{\\hat{y}}(t) &= C \\hat{x}(t) + D \\hat{u}(t) \\\\[0.5em]\n",
    " \\text{Laplace Transform } &\\\\[0.5em]\n",
    "s\\hat{x}(s) &= A \\hat{x}(s) + B \\hat{u}(s) \\\\[0.5em]\n",
    "sI\\hat{x}(s) - A \\hat{x}(s) &= B \\hat{u}(s) \\\\[0.5em]\n",
    "\\hat{x}(s) &= \\left(sI-A\\right)^{-1}B \\hat{u}(s) \\\\[0.5em]\n",
    "\\hat{y}(s) &= \\bigg(C(sI-A)^{-1}B +E \\bigg)\\hat{u}(s) = G(s) \\hat{u}(s)\n",
    "\\end{align*}"
   ]
  },
  {
   "cell_type": "markdown",
   "id": "a3875904",
   "metadata": {},
   "source": [
    "**Solver** \n",
    "\n",
    "G(s) = \n",
    "\\begin{bmatrix}\n",
    "G_{id}(s) & G_{ig}(s) \\\\[1em]\n",
    "G_{vd}(s) & G_{vg}(s)\n",
    "\\end{bmatrix} = \n",
    "\\begin{bmatrix}\n",
    "V_g \\dfrac{RCs+1}{RLCs^2 + (R R_L C + L)s + R +R_L + R_{on}} & \n",
    "D \\dfrac{RCs+1}{RRLCs^2 + (R R_L C + L)s + R +R_L + R_{on}} \\\\[1em]\n",
    "R V_g \\dfrac{1}{RLCs^2 + (R R_L C + L)s + R +R_L + R_{on}} & \n",
    "R D \\dfrac{1}{RLCs^2 + (R R_L C + L)s + R +R_L + R_{on}}\n",
    "\\end{bmatrix}"
   ]
  },
  {
   "cell_type": "markdown",
   "id": "bec3d895",
   "metadata": {},
   "source": [
    "<hr>\n",
    "\n",
    "**Small signal output voltage to duty ratio transfer function**\n",
    "\\begin{align*}\n",
    "G_{vd}(s) &= G_0 \\dfrac{1-\\dfrac{s}{w_z}}{1+\\dfrac{s}{Qw_0}+ \\left(\\dfrac{s}{\\omega_0} \\right)^2} \\\\\n",
    "G_{vd}(s) &= R V_g \\dfrac{1}{RLCs^2 + (R R_L C + L)s + R +R_L + R_{on}}  \\\\\n",
    "\\end{align*}"
   ]
  },
  {
   "cell_type": "markdown",
   "id": "b5e3500f",
   "metadata": {},
   "source": [
    "<hr>\n",
    "\n",
    "**Small signal output current to duty ratio transfer function**\n",
    "\\begin{align*}\n",
    "G_{id}(s) &= G_0 \\dfrac{1-\\dfrac{s}{w_z}}{1+\\dfrac{s}{Qw_0}+ \\left(\\dfrac{s}{\\omega_0} \\right)^2} \\\\[1em]\n",
    "G_{id}(s) &= V_g \\dfrac{RCs+1}{RLCs^2 + (R R_L C + L)s + R +R_L + R_{on}}   \\\\[1em]\n",
    "\\end{align*}"
   ]
  }
 ],
 "metadata": {
  "interpreter": {
   "hash": "31f2aee4e71d21fbe5cf8b01ff0e069b9275f58929596ceb00d14d90e3e16cd6"
  },
  "kernelspec": {
   "display_name": "Python 3 (ipykernel)",
   "language": "python",
   "name": "python3"
  },
  "language_info": {
   "codemirror_mode": {
    "name": "ipython",
    "version": 3
   },
   "file_extension": ".py",
   "mimetype": "text/x-python",
   "name": "python",
   "nbconvert_exporter": "python",
   "pygments_lexer": "ipython3",
   "version": "3.7.9"
  },
  "varInspector": {
   "cols": {
    "lenName": 16,
    "lenType": 16,
    "lenVar": 40
   },
   "kernels_config": {
    "python": {
     "delete_cmd_postfix": "",
     "delete_cmd_prefix": "del ",
     "library": "var_list.py",
     "varRefreshCmd": "print(var_dic_list())"
    },
    "r": {
     "delete_cmd_postfix": ") ",
     "delete_cmd_prefix": "rm(",
     "library": "var_list.r",
     "varRefreshCmd": "cat(var_dic_list()) "
    }
   },
   "types_to_exclude": [
    "module",
    "function",
    "builtin_function_or_method",
    "instance",
    "_Feature"
   ],
   "window_display": false
  }
 },
 "nbformat": 4,
 "nbformat_minor": 5
}
