{
 "cells": [
  {
   "cell_type": "markdown",
   "id": "00bd06f4",
   "metadata": {},
   "source": [
    "# PCB Library"
   ]
  },
  {
   "cell_type": "markdown",
   "id": "30ecfe8d",
   "metadata": {},
   "source": [
    "Update PCB with new footprint\n",
    "\n",
    "![](img/NewFootprint.png)"
   ]
  },
  {
   "cell_type": "markdown",
   "id": "be458c48",
   "metadata": {},
   "source": [
    "When copying polygons, use Edit >> Paste Special >> Keep net name\n",
    "\n",
    "![](img/PolygonNetName.png)"
   ]
  }
 ],
 "metadata": {
  "kernelspec": {
   "display_name": "Python 3 (ipykernel)",
   "language": "python",
   "name": "python3"
  },
  "language_info": {
   "codemirror_mode": {
    "name": "ipython",
    "version": 3
   },
   "file_extension": ".py",
   "mimetype": "text/x-python",
   "name": "python",
   "nbconvert_exporter": "python",
   "pygments_lexer": "ipython3",
   "version": "3.7.9"
  },
  "varInspector": {
   "cols": {
    "lenName": 16,
    "lenType": 16,
    "lenVar": 40
   },
   "kernels_config": {
    "python": {
     "delete_cmd_postfix": "",
     "delete_cmd_prefix": "del ",
     "library": "var_list.py",
     "varRefreshCmd": "print(var_dic_list())"
    },
    "r": {
     "delete_cmd_postfix": ") ",
     "delete_cmd_prefix": "rm(",
     "library": "var_list.r",
     "varRefreshCmd": "cat(var_dic_list()) "
    }
   },
   "types_to_exclude": [
    "module",
    "function",
    "builtin_function_or_method",
    "instance",
    "_Feature"
   ],
   "window_display": false
  }
 },
 "nbformat": 4,
 "nbformat_minor": 5
}
