{
 "cells": [
  {
   "cell_type": "markdown",
   "id": "ca51d5cf",
   "metadata": {},
   "source": [
    "# Low Noise Amplifier"
   ]
  },
  {
   "cell_type": "markdown",
   "id": "4d13f8d4",
   "metadata": {},
   "source": [
    "```{figure} low-noise-amplifier/inductive-degeneration.jpg\n",
    ":width: 250px\n",
    "Inductive Degeneration\n",
    "```"
   ]
  },
  {
   "cell_type": "markdown",
   "id": "43a9f864",
   "metadata": {},
   "source": [
    "Looking at the gate of the LNA, a test voltage is applied to find the input impedance.  \n",
    "*Exclude the additional capacitance between the gate and source.*"
   ]
  },
  {
   "cell_type": "markdown",
   "id": "0dfb4b12",
   "metadata": {},
   "source": [
    "\\begin{align*}\n",
    "Z_{in} &= \\dfrac{1}{sC_{gs}} + L_1 s + \\dfrac{g_m L_1}{C_{gs}}\n",
    "\\end{align*}"
   ]
  },
  {
   "cell_type": "markdown",
   "id": "05d5464b",
   "metadata": {},
   "source": [
    "At resonance, the third term provides a real impedance that is matched to the source impedance $R_s$ ($50 \\Omega$). This is simplified given $\\omega_T \\approx \\dfrac{g_m}{C_{gs}}$."
   ]
  },
  {
   "cell_type": "markdown",
   "id": "1f431adf",
   "metadata": {},
   "source": [
    "\\begin{align*}\n",
    "Re(Z_{in}) &= \\dfrac{g_m L_1}{C_{gs}} \\\\[1em]\n",
    "R_s &\\approx L_1 \\omega_T \\\\[1em]\n",
    "L_1 &\\approx \\dfrac{R_s}{\\omega_T} = \\dfrac{50}{2\\pi \\cdot 110G} \\\\[1em]\n",
    "L_1 &= 72 pH\n",
    "\\end{align*}"
   ]
  },
  {
   "cell_type": "markdown",
   "id": "99ada6c9",
   "metadata": {},
   "source": [
    "As a designer, there are two issues with this value.\n",
    "\n",
    "1. It cannot be implemented with most PDKs. Inductors on chip are planar (2D) and have limited range.\n",
    "2. It doesn't resonant well due to small capacitance $C_{gs}$.\n",
    "\n",
    "\n",
    "However, it is possible to add a small capacitor in parallel with $C_{gs}$ such that $C_{tot} = C_{gs} + C_{gs}'$.  \n",
    "\n",
    "The input impedance is now  \n",
    "\n",
    "\\begin{align*}\n",
    "Z_{in} &= \\dfrac{1}{sC_{tot}} + L_1 s + \\dfrac{g_m L_1}{C_{tot}}\n",
    "\\end{align*}"
   ]
  },
  {
   "cell_type": "markdown",
   "id": "44ca59e8",
   "metadata": {},
   "source": [
    "**Remaining Steps** \n",
    "\n",
    "Pick minimum value for $L_1$ that exists in the PDK and has sufficient $Q$. Then, perform ac small signal analysis to find input impedance and slowly increase $C_{gs}'$. "
   ]
  },
  {
   "cell_type": "code",
   "execution_count": null,
   "id": "1b3b4374",
   "metadata": {},
   "outputs": [],
   "source": []
  }
 ],
 "metadata": {
  "interpreter": {
   "hash": "31f2aee4e71d21fbe5cf8b01ff0e069b9275f58929596ceb00d14d90e3e16cd6"
  },
  "kernelspec": {
   "display_name": "Python 3 (ipykernel)",
   "language": "python",
   "name": "python3"
  },
  "language_info": {
   "codemirror_mode": {
    "name": "ipython",
    "version": 3
   },
   "file_extension": ".py",
   "mimetype": "text/x-python",
   "name": "python",
   "nbconvert_exporter": "python",
   "pygments_lexer": "ipython3",
   "version": "3.7.9"
  },
  "varInspector": {
   "cols": {
    "lenName": 16,
    "lenType": 16,
    "lenVar": 40
   },
   "kernels_config": {
    "python": {
     "delete_cmd_postfix": "",
     "delete_cmd_prefix": "del ",
     "library": "var_list.py",
     "varRefreshCmd": "print(var_dic_list())"
    },
    "r": {
     "delete_cmd_postfix": ") ",
     "delete_cmd_prefix": "rm(",
     "library": "var_list.r",
     "varRefreshCmd": "cat(var_dic_list()) "
    }
   },
   "types_to_exclude": [
    "module",
    "function",
    "builtin_function_or_method",
    "instance",
    "_Feature"
   ],
   "window_display": false
  }
 },
 "nbformat": 4,
 "nbformat_minor": 5
}
