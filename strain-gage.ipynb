{
 "cells": [
  {
   "cell_type": "markdown",
   "id": "e7a58285",
   "metadata": {},
   "source": [
    "# Strain-Gage"
   ]
  },
  {
   "cell_type": "markdown",
   "id": "e765f28b",
   "metadata": {},
   "source": [
    "- [Strain-Gage Low Noise Signal Conditioning](https://kegedy.github.io/strain-gauge.pdf) "
   ]
  },
  {
   "cell_type": "markdown",
   "id": "94d96588",
   "metadata": {},
   "source": [
    "```{figure} img/architecture.png\n",
    "System Architecture\n",
    "```"
   ]
  },
  {
   "cell_type": "markdown",
   "id": "26376b68",
   "metadata": {},
   "source": [
    "```{figure} img/TopView.png\n",
    "Top View LTspice\n",
    "```"
   ]
  },
  {
   "cell_type": "markdown",
   "id": "f735a3bb",
   "metadata": {},
   "source": [
    "```{figure} img/FrequencyResponse.png\n",
    "Frequency Response\n",
    "```"
   ]
  },
  {
   "cell_type": "code",
   "execution_count": null,
   "id": "2ce334bc",
   "metadata": {},
   "outputs": [],
   "source": []
  }
 ],
 "metadata": {
  "kernelspec": {
   "display_name": "Python 3 (ipykernel)",
   "language": "python",
   "name": "python3"
  },
  "language_info": {
   "codemirror_mode": {
    "name": "ipython",
    "version": 3
   },
   "file_extension": ".py",
   "mimetype": "text/x-python",
   "name": "python",
   "nbconvert_exporter": "python",
   "pygments_lexer": "ipython3",
   "version": "3.7.9"
  },
  "varInspector": {
   "cols": {
    "lenName": 16,
    "lenType": 16,
    "lenVar": 40
   },
   "kernels_config": {
    "python": {
     "delete_cmd_postfix": "",
     "delete_cmd_prefix": "del ",
     "library": "var_list.py",
     "varRefreshCmd": "print(var_dic_list())"
    },
    "r": {
     "delete_cmd_postfix": ") ",
     "delete_cmd_prefix": "rm(",
     "library": "var_list.r",
     "varRefreshCmd": "cat(var_dic_list()) "
    }
   },
   "types_to_exclude": [
    "module",
    "function",
    "builtin_function_or_method",
    "instance",
    "_Feature"
   ],
   "window_display": false
  }
 },
 "nbformat": 4,
 "nbformat_minor": 5
}
