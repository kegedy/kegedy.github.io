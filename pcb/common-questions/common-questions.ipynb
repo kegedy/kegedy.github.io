{
 "cells": [
  {
   "cell_type": "markdown",
   "metadata": {},
   "source": [
    "# Common Questions"
   ]
  },
  {
   "cell_type": "markdown",
   "metadata": {},
   "source": [
    "## Q1: How wide should I make my trace?\n",
    "\n",
    "[PCB Trace Inductance and Width: How Wide is Too Wide?](https://resources.altium.com/p/pcb-trace-inductance-and-width-how-wide-too-wide)"
   ]
  },
  {
   "cell_type": "markdown",
   "metadata": {},
   "source": [
    "- Goal: minimize PCB trace inductance per unit length while keeping impedance constant  \n",
    "- Wheeler implementation produces less than 0.7% error which is much better than IPC-2141\n",
    "\n",
    "$$\n",
    "\\begin{align*}\n",
    " L &= \\dfrac{Z_0(w,h,t)}{c} \\sqrt{\\epsilon_{eff}(w,h,t)}  \\\\[0.5em]\n",
    " C &= \\dfrac{L}{Z_0(w,h,t)^2} \\\\[0.5em]\n",
    " Z_0 &= \\text{Waddell’s equations for microstrip impedance}\n",
    "\\end{align*}\n",
    "$$"
   ]
  },
  {
   "cell_type": "markdown",
   "metadata": {},
   "source": [
    "```{figure} trace-geometry.png\n",
    "Trace Geometry\n",
    "```"
   ]
  },
  {
   "cell_type": "markdown",
   "metadata": {},
   "source": [
    "## Q2: Should unused area in signal planes be filled with copper pours?\n",
    "\n",
    "[On Shaky Ground—the Arguments Against Copper Pours](https://resources.altium.com/p/shaky-ground-arguments-against-copper-pours#the-history-of-ground-pours)\n",
    "- Ground pours resemble patch antennas and can emit noise\n",
    "- When the copper is thick, desoldering and service operations are more difficult"
   ]
  },
  {
   "cell_type": "markdown",
   "metadata": {},
   "source": [
    "## Q3: Where should I place my current sensor?\n",
    "\n",
    "[Current Sensing: Where to Place the Sense Resistor](https://www.analog.com/en/technical-articles/switch-mode-power-supply-current-sensing-part-2-where-to-place-the-sense-resistor.html)\n",
    "\n",
    "- Placing sense resistor after inductor provides best signal to noise ratios. Ultimately, resistor should be replaced with hall sensor to improve dissipated power if it's within budget (\\$)."
   ]
  },
  {
   "cell_type": "markdown",
   "metadata": {},
   "source": [
    "```{figure} Rsense.jpg\n",
    "---\n",
    "width: 400px\n",
    "---\n",
    "Sense Resistor in Switch Mode Power Supply\n",
    "```"
   ]
  },
  {
   "cell_type": "markdown",
   "metadata": {},
   "source": [
    "## Q4: How do I choose I gate driver for my design?\n",
    "\n",
    "[Gate resistor for power devices](https://www.infineon.com/dgdl/Infineon-EiceDRIVER-Gate_resistor_for_power_devices-ApplicationNotes-v01_00-EN.pdf?fileId=5546d462518ffd8501523ee694b74f18)  \n",
    "[Isolated Gate Drivers—What, Why, and How?](https://www.analog.com/en/analog-dialogue/articles/isolated-gate-drivers-what-why-and-how.html)  \n",
    "[Peak Current of Isolated Gate Drivers](https://www.analog.com/en/analog-dialogue/articles/peak-current-of-isolated-gate-drivers.html)"
   ]
  },
  {
   "cell_type": "markdown",
   "metadata": {},
   "source": [
    "|  Design             | Component  |\n",
    "| :------------------ | :--------- |\n",
    "| Gate Driver         | [NCP5901B](https://www.digikey.com/en/products/detail/onsemi/NCP5901BDR2G/2512539)   |\n",
    "| MOSFET              | [TPH8R903NL](https://www.digikey.com/en/products/detail/toshiba-semiconductor-and-storage/TPH8R903NL-LQ/4332031)     |\n",
    "| Switching Frequency | 100kHz     |"
   ]
  },
  {
   "cell_type": "markdown",
   "metadata": {},
   "source": [
    "Gate driver performance\n",
    "\n",
    "$$\n",
    "\\begin{align*}\n",
    " i_G &= \\dfrac{Q_G}{t_{r}}  \\\\[0.5em]\n",
    " i_G &= \\dfrac{3nF \\cdot 12V}{16ns}  \\\\[0.5em]\n",
    " i_G &= 2.25A  \\\\[0.5em]\n",
    "\\end{align*}\n",
    "$$"
   ]
  },
  {
   "cell_type": "markdown",
   "metadata": {},
   "source": [
    "Rush current \n",
    "\n",
    "$$\n",
    "\\begin{align*}\n",
    " i_G(\\text{rush}) &= \n",
    "\\end{align*}\n",
    "$$"
   ]
  }
 ],
 "metadata": {
  "interpreter": {
   "hash": "31f2aee4e71d21fbe5cf8b01ff0e069b9275f58929596ceb00d14d90e3e16cd6"
  },
  "kernelspec": {
   "display_name": "Python 3.10.6 64-bit",
   "name": "python3"
  },
  "language_info": {
   "name": "python",
   "version": ""
  },
  "varInspector": {
   "cols": {
    "lenName": 16,
    "lenType": 16,
    "lenVar": 40
   },
   "kernels_config": {
    "python": {
     "delete_cmd_postfix": "",
     "delete_cmd_prefix": "del ",
     "library": "var_list.py",
     "varRefreshCmd": "print(var_dic_list())"
    },
    "r": {
     "delete_cmd_postfix": ") ",
     "delete_cmd_prefix": "rm(",
     "library": "var_list.r",
     "varRefreshCmd": "cat(var_dic_list()) "
    }
   },
   "types_to_exclude": [
    "module",
    "function",
    "builtin_function_or_method",
    "instance",
    "_Feature"
   ],
   "window_display": false
  }
 },
 "nbformat": 4,
 "nbformat_minor": 5
}