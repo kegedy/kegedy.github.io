{
 "cells": [
  {
   "cell_type": "markdown",
   "id": "e0ca590b",
   "metadata": {},
   "source": [
    "# Project: Settings"
   ]
  },
  {
   "cell_type": "markdown",
   "id": "4dc9d028",
   "metadata": {},
   "source": [
    "**Uncheck** Class  Generation >> ‘Generate Rooms’ and ‘Component Classes’\n",
    "\n",
    "![](img/GenerateRooms.png)"
   ]
  },
  {
   "cell_type": "markdown",
   "id": "eb282cc7",
   "metadata": {},
   "source": [
    "## Tools: Preferences"
   ]
  },
  {
   "cell_type": "markdown",
   "id": "6f7eb5a0",
   "metadata": {},
   "source": [
    "**Uncheck** System >> Mouse Wheel Configuration >> Zoom Main Window >> Ctrl\n",
    "\n",
    "![](img/MouseWheelConfig.png)"
   ]
  },
  {
   "cell_type": "markdown",
   "id": "623ce5cb",
   "metadata": {},
   "source": [
    "**Uncheck** PCB Editor >> General >> Enable Auto Pan\n",
    "\n",
    "![](img/EnableAutoPan.png)"
   ]
  },
  {
   "cell_type": "markdown",
   "id": "e716fa8f",
   "metadata": {},
   "source": [
    "**Uncheck** PCB Editor >> Board Insight Display >> ‘Live highlighting only when shift key down’\n",
    "\n",
    "![](img/LiveHighlighting.png)"
   ]
  },
  {
   "cell_type": "markdown",
   "id": "3103929c",
   "metadata": {},
   "source": [
    "**Uncheck** PCB Editor >> Board Insight Display >> 'Hide Other Layers' and 'Monochrome Other Layers'. \n",
    "\n",
    "**Check** 'Gray Scale Other Layers'\n",
    "\n",
    "**'Shift + s'** shortcut to make background layers grayscale  \n",
    "\n",
    "![](img/GrayscaleLayers.png)"
   ]
  },
  {
   "cell_type": "markdown",
   "id": "950aa8b3",
   "metadata": {},
   "source": []
  },
  {
   "cell_type": "markdown",
   "id": "1cf50183",
   "metadata": {},
   "source": [
    "## Design: Update PCB Document"
   ]
  },
  {
   "cell_type": "markdown",
   "id": "6051dc75",
   "metadata": {},
   "source": [
    "**Create shortcut** Reposition Selected Components\n",
    "\n",
    "![](img/RepositionSelectedComponents.png)"
   ]
  },
  {
   "cell_type": "code",
   "execution_count": null,
   "id": "19624dfe",
   "metadata": {},
   "outputs": [],
   "source": []
  }
 ],
 "metadata": {
  "kernelspec": {
   "display_name": "Python 3 (ipykernel)",
   "language": "python",
   "name": "python3"
  },
  "language_info": {
   "codemirror_mode": {
    "name": "ipython",
    "version": 3
   },
   "file_extension": ".py",
   "mimetype": "text/x-python",
   "name": "python",
   "nbconvert_exporter": "python",
   "pygments_lexer": "ipython3",
   "version": "3.7.9"
  },
  "varInspector": {
   "cols": {
    "lenName": 16,
    "lenType": 16,
    "lenVar": 40
   },
   "kernels_config": {
    "python": {
     "delete_cmd_postfix": "",
     "delete_cmd_prefix": "del ",
     "library": "var_list.py",
     "varRefreshCmd": "print(var_dic_list())"
    },
    "r": {
     "delete_cmd_postfix": ") ",
     "delete_cmd_prefix": "rm(",
     "library": "var_list.r",
     "varRefreshCmd": "cat(var_dic_list()) "
    }
   },
   "types_to_exclude": [
    "module",
    "function",
    "builtin_function_or_method",
    "instance",
    "_Feature"
   ],
   "window_display": false
  }
 },
 "nbformat": 4,
 "nbformat_minor": 5
}
